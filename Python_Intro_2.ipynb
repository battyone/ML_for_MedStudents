{
 "cells": [
  {
   "cell_type": "markdown",
   "metadata": {},
   "source": [
    "# Introduction\n",
    "\n",
    "Hopefully, you now know the basics about Python and are able to write and understand simple programs with it.\n",
    "The best way to improve your coding skills is to **practice**.\n",
    "\n",
    "So, in this tutorial, you will learn how to write your own clinical scores calculator. The first one is already done, so that you can understand how you should do it yourself."
   ]
  },
  {
   "cell_type": "markdown",
   "metadata": {},
   "source": [
    "## Atherogenic index\n",
    "\n",
    "For the risk assessment in diseases of the cardiovascular system, the serum concentrations of the lipoproteins LDL and HDL are significant parameters in addition to the total cholesterol concentration. The ratio of the concentration of pro-atherogenic LDL to anti-atherogenic HDL is referred to as atherogenic index.\n",
    "\n",
    ">atherogenic_index = LDL/HDL; LDL and HDL are in mg/dl.\n",
    "\n",
    "The result of the index is as follows:\n",
    "\n",
    "    <2.0 : No risk\n",
    "    2.0 - 4.0 : Moderate risk\n",
    "    >4.0 : Highest risk"
   ]
  },
  {
   "cell_type": "markdown",
   "metadata": {},
   "source": [
    "The task is to take the calculate the atherogenic index of a patient and decide how much risk the patient has of a cardiovascular disease.\n",
    "\n",
    "Input will be a dicionary with LDL and HDL of patient: {\"LDL\": , \"HDL\": }\n",
    "\n",
    "Output will give the risk level."
   ]
  },
  {
   "cell_type": "code",
   "execution_count": 2,
   "metadata": {},
   "outputs": [
    {
     "name": "stdout",
     "output_type": "stream",
     "text": [
      " No Risk\n"
     ]
    }
   ],
   "source": [
    "def calulate_artherogenic_index(patient_data):\n",
    "    arth_index = patient_data[\"LDL\"]/patient_data[\"HDL\"]\n",
    "    \n",
    "    if arth_index < 2.0:\n",
    "        print(\" No Risk\")\n",
    "    elif arth_index > 2.0 and arth_index < 4.0:\n",
    "        print(\" Moderate Risk\")\n",
    "    else:\n",
    "        print(\" High Risk\")\n",
    "        \n",
    "patient_input = {\"LDL\": 4.0,\n",
    "                \"HDL\": 3.5}\n",
    "\n",
    "calulate_artherogenic_index(patient_data=patient_input)"
   ]
  },
  {
   "cell_type": "code",
   "execution_count": 3,
   "metadata": {},
   "outputs": [
    {
     "name": "stdout",
     "output_type": "stream",
     "text": [
      " High Risk\n"
     ]
    }
   ],
   "source": [
    "patient_input = {\"LDL\": 12.0,\n",
    "                \"HDL\": 2.5}\n",
    "\n",
    "calulate_artherogenic_index(patient_data=patient_input)"
   ]
  },
  {
   "cell_type": "markdown",
   "metadata": {},
   "source": [
    "Now that you have an idea, try to make a calculator by yourself. First an easier one."
   ]
  },
  {
   "cell_type": "markdown",
   "metadata": {},
   "source": [
    "## GFR \n",
    "\n",
    "Glomerular filtration rate (GFR) is a test used to check how well the kidneys are working. Specifically, it estimates how much blood passes through the glomeruli each minute. Glomeruli are the tiny filters in the kidneys that filter waste from the blood.\n",
    "\n",
    "These are about 120 milliliters per minute or about 170 liters per day in an adult human with normal blood pressure levels.\n",
    "\n",
    "The Score is calculated by:\n",
    ">$GFR = ((140 - age)*bodyWeight)/72*serumKreatinin$\n",
    "\n",
    "where body_weigh is in kg, age in years and serum_kreatinin is in mg/dl.\n",
    "\n",
    "**Note, for woman the score needs to be mulitplied by 0.85.**\n"
   ]
  },
  {
   "cell_type": "markdown",
   "metadata": {},
   "source": [
    "The input will be for a patient,\n",
    "> Patient = {\"age\":, \"weight\":, \"kreatinin\":, \"gender\":}\n",
    "\n",
    "Output will be the GFR of the patient.\n",
    "\n",
    "Inputs to try:\n",
    "- Patient1 = {\"age\":20, \"weight\":85, \"kreatinin\":12, \"gender\":male}\n",
    "- Patient1 = {\"age\":20, \"weight\":85, \"kreatinin\":12, \"gender\":female}\n",
    "\n",
    "Corresponding Ouputs:\n",
    "- Patient1_GFR: 11.8\n",
    "- Patient2_GFR: 10.0"
   ]
  },
  {
   "cell_type": "code",
   "execution_count": null,
   "metadata": {},
   "outputs": [],
   "source": [
    "def calculate_gfr(patient_data):\n",
    "    pass\n"
   ]
  },
  {
   "cell_type": "markdown",
   "metadata": {},
   "source": [
    "If you're done with the above exercise, first of all well done.\n",
    "\n",
    "Let's, test your knowledge further. The following clinical score is a bit harder to make.\n",
    "\n",
    "Good Luck!!"
   ]
  },
  {
   "cell_type": "markdown",
   "metadata": {},
   "source": [
    "## Child-Pugh Score\n",
    "\n",
    "The Child-Pugh score is a system for assessing the prognosis — including the required strength of treatment and necessity of liver transplant — of chronic liver disease, primarily cirrhosis. It provides a forecast of the increasing severity of your liver disease and your expected survival rate.\n",
    "\n",
    "The Score has 5 parameters: ![](Images/ChildPugh.png)\n",
    "\n",
    "Then, the Child-Pugh Score is:\n",
    "> Score = Bilirubin + Albumin + INR + Aszites + Enzephalopathie\n",
    "\n",
    "The score scale is: ![](Images/ChildPugh2.png)"
   ]
  },
  {
   "cell_type": "markdown",
   "metadata": {},
   "source": [
    "Lets, try to make Child-Pugh Score calculator.\n",
    "\n",
    "The inputs will be a dictionary with the key as the parameters for a single patient. For eg. \n",
    ">Patient1 = {\"Bilirubin\": , \"Albumin\": ,        \"INR\": ,            \"Aszites\": ,  \" Enzephalophatie\": }\n",
    "\n",
    "Output will the Child-Pugh Score of the patient and the corresponding Class.\n",
    "\n",
    "Inputs to try:\n",
    "- Patient1 = {\"Bilirubin\": 1.9, \"Albumin\": 2.4 ,        \"INR\": 1.2,            \"Aszites\": No,  \" Enzephalophatie\": no}\n",
    "- Patient2= {\"Bilirubin\": 2.2, \"Albumin\": 3.4 ,        \"INR\": 2.0,            \"Aszites\": Mild,  \" Enzephalophatie\": no}\n",
    "- Patient1 = {\"Bilirubin\": 3.9, \"Albumin\": 3.4 ,        \"INR\": 2.5,            \"Aszites\": Moderate ,  \" Enzephalophatie\": Grade III-IV}\n",
    "\n",
    "Corresponding Outputs:\n",
    "- Patient1 : A\n",
    "- Patient1 : B\n",
    "- Patient1 : C"
   ]
  },
  {
   "cell_type": "code",
   "execution_count": 4,
   "metadata": {},
   "outputs": [],
   "source": [
    "def calculate_child_pugh(patient_data):\n",
    "    pass"
   ]
  },
  {
   "cell_type": "code",
   "execution_count": null,
   "metadata": {},
   "outputs": [],
   "source": []
  }
 ],
 "metadata": {
  "kernelspec": {
   "display_name": "Python 3",
   "language": "python",
   "name": "python3"
  },
  "language_info": {
   "codemirror_mode": {
    "name": "ipython",
    "version": 3
   },
   "file_extension": ".py",
   "mimetype": "text/x-python",
   "name": "python",
   "nbconvert_exporter": "python",
   "pygments_lexer": "ipython3",
   "version": "3.6.8"
  },
  "toc": {
   "base_numbering": 1,
   "nav_menu": {},
   "number_sections": true,
   "sideBar": true,
   "skip_h1_title": false,
   "title_cell": "Table of Contents",
   "title_sidebar": "Contents",
   "toc_cell": false,
   "toc_position": {},
   "toc_section_display": true,
   "toc_window_display": false
  }
 },
 "nbformat": 4,
 "nbformat_minor": 2
}
