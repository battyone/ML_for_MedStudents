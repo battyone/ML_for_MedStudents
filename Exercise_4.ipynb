{
 "cells": [
  {
   "cell_type": "code",
   "execution_count": null,
   "metadata": {},
   "outputs": [],
   "source": [
    "from scipy import ndimage\n",
    "import scipy\n",
    "import numpy as np\n",
    "from PIL import Image\n",
    "import matplotlib.image as mpimg\n",
    "from matplotlib import pyplot as plt\n",
    "import matplotlib"
   ]
  },
  {
   "cell_type": "markdown",
   "metadata": {},
   "source": [
    "## Loading an Image\n",
    "\n",
    "We will use the matplotlib.image library for loading the image from our computer.\n",
    "\n"
   ]
  },
  {
   "cell_type": "code",
   "execution_count": null,
   "metadata": {},
   "outputs": [],
   "source": [
    "# Load an image\n",
    "image = mpimg.imread(\"Images/Cancer.jpg\")\n",
    "\n",
    "# Display the loaded image\n",
    "plt.figure(figsize=(10,10))\n",
    "plt.imshow(image)\n",
    "plt.show()"
   ]
  },
  {
   "cell_type": "markdown",
   "metadata": {},
   "source": [
    "## Display the Red, Blue and Green channel separately\n",
    "\n",
    "As you saw in the lecture, a coloured image is made of red, green and blue channels. Let us view each channel separately for the loaded image."
   ]
  },
  {
   "cell_type": "code",
   "execution_count": null,
   "metadata": {
    "scrolled": true
   },
   "outputs": [],
   "source": [
    "b = image.copy()\n",
    "# set green and red channels to 0\n",
    "b[:, :, 1] = 0\n",
    "b[:, :, 2] = 0\n",
    "\n",
    "# do for green\n",
    "g = image.copy()\n",
    "# set blue and red channels to 0\n",
    "\n",
    "# do for red\n",
    "r = image.copy()\n",
    "# set blue and green channels to 0\n",
    "\n",
    "\n",
    "# Red channel\n",
    "plt.figure(figsize=(10,10))\n",
    "plt.imshow(r)\n",
    "plt.show()\n",
    "\n",
    "# Green channel\n",
    "plt.figure(figsize=(10,10))\n",
    "\n",
    "# Blue channel\n",
    "plt.figure(figsize=(10,10))\n"
   ]
  },
  {
   "cell_type": "markdown",
   "metadata": {},
   "source": [
    "Let us also see how the image would look in grayscale."
   ]
  },
  {
   "cell_type": "code",
   "execution_count": null,
   "metadata": {},
   "outputs": [],
   "source": [
    "def rgb2gray(rgb):\n",
    "    return np.dot(rgb[...,:3], [0.2989, 0.5870, 0.1140])\n",
    "\n",
    "gray_cancer = rgb2gray(image)\n",
    "plt.figure(figsize=(10,10))\n",
    "plt.imshow(gray_cancer, cmap='gray')\n",
    "plt.show()"
   ]
  },
  {
   "cell_type": "markdown",
   "metadata": {},
   "source": [
    "## Sobel Filter\n",
    "\n",
    "The Sobel filter is used in image processing and computer vision, particularly within edge detection algorithms where it creates an image emphasising edges."
   ]
  },
  {
   "cell_type": "code",
   "execution_count": null,
   "metadata": {},
   "outputs": [],
   "source": [
    "# apply convolution operation\n",
    "def convolve_Img(img, fi):\n",
    "    return ndimage.correlate(img, fi, mode='constant', cval=1.0)\n",
    "\n",
    "# Horizontal edge detection\n",
    "def grad_x(img):\n",
    "    Kx = np.array([[-1, 0, 1],\n",
    "                   [-2, 0, 2],\n",
    "                   [-1, 0, 1]])\n",
    "    \n",
    "    return convolve_Img(img, Kx)\n",
    "\n",
    "# Vertical edge detection\n",
    "def grad_y(img):\n",
    "    Ky = np.array([[1, 2, 1],\n",
    "                   [0, 0, 0],\n",
    "                   [-1, -2, -1]])\n",
    "    \n",
    "    return convolve_Img(img, Ky)\n",
    "\n",
    "\n",
    "def sobel_filter(img):\n",
    "    img = rgb2gray(img)\n",
    "    img = np.array(img)\n",
    "    \n",
    "    # horizontal\n",
    "    x_img = grad_x(img)\n",
    "    \n",
    "    # vertical\n",
    "    y_img = grad_y(img)\n",
    "    \n",
    "    # combine\n",
    "    sob = np.hypot(x_img, y_img)\n",
    "    \n",
    "    return sob\n",
    "\n"
   ]
  },
  {
   "cell_type": "code",
   "execution_count": null,
   "metadata": {},
   "outputs": [],
   "source": [
    "sobel_image = sobel_filter(image)\n",
    "plt.figure(figsize=(10,10))\n",
    "plt.imshow(sobel_image, cmap='gray')\n",
    "plt.show()"
   ]
  },
  {
   "cell_type": "markdown",
   "metadata": {},
   "source": [
    "## Blurring and De-blurring\n",
    "\n",
    "We can also use filters to blur and deblur an image."
   ]
  },
  {
   "cell_type": "code",
   "execution_count": null,
   "metadata": {},
   "outputs": [],
   "source": [
    "# Blurring Image\n",
    "\n",
    "# write the blur filter\n",
    "blur_filter = \n",
    "\n",
    "def blurring(image, degree=3):\n",
    "    '''\n",
    "    image: input image\n",
    "    degree: how much blurring you want\n",
    "    '''\n",
    "    # some preprocessing\n",
    "    image = rgb2gray(image)\n",
    "    image = np.array(image)\n",
    "    \n",
    "    blurred_image = None\n",
    "    \n",
    "    ## Write your code \n",
    "    \n",
    "    \n",
    "    return blurred_image\n",
    "\n",
    "blurredImg = blurring(image)\n",
    "fig, (ax1, ax2) = plt.subplots(1, 2, figsize=(20,20))\n",
    "\n",
    "# display original image in grayscale\n",
    "gray_cancer = rgb2gray(image)\n",
    "ax1.imshow(gray_cancer, cmap='gray')\n",
    "\n",
    "# display blurred image\n",
    "ax2.imshow(blurredImg, cmap='gray')\n",
    "plt.show()"
   ]
  },
  {
   "cell_type": "code",
   "execution_count": null,
   "metadata": {},
   "outputs": [],
   "source": [
    "# De-blurring Image\n",
    "blurredImg = blurredImg \n",
    "\n",
    "# write deblur or sharpness filter\n",
    "deblur_filter = None\n",
    "\n",
    "def deblurring(image, degree=3):\n",
    "    '''\n",
    "    image: input blurred image\n",
    "    degree: how much deblurring you want\n",
    "    '''\n",
    "    \n",
    "    deblurred_image = None\n",
    "    \n",
    "    ## write your code here\n",
    "    \n",
    "    return deblurred_image\n",
    "\n",
    "deblurredImg = deblurring(blurredImg)\n",
    "fig, (ax1, ax2) = plt.subplots(1, 2, figsize=(20,20))\n",
    "\n",
    "# display the blurred image\n",
    "ax1.imshow(blurredImg, cmap='gray')\n",
    "\n",
    "# display deblurred image\n",
    "ax2.imshow(deblurredImg, cmap='gray')\n",
    "plt.show()"
   ]
  }
 ],
 "metadata": {
  "kernelspec": {
   "display_name": "Python 3",
   "language": "python",
   "name": "python3"
  },
  "language_info": {
   "codemirror_mode": {
    "name": "ipython",
    "version": 3
   },
   "file_extension": ".py",
   "mimetype": "text/x-python",
   "name": "python",
   "nbconvert_exporter": "python",
   "pygments_lexer": "ipython3",
   "version": "3.6.8"
  },
  "toc": {
   "base_numbering": 1,
   "nav_menu": {},
   "number_sections": true,
   "sideBar": true,
   "skip_h1_title": false,
   "title_cell": "Table of Contents",
   "title_sidebar": "Contents",
   "toc_cell": false,
   "toc_position": {},
   "toc_section_display": true,
   "toc_window_display": false
  }
 },
 "nbformat": 4,
 "nbformat_minor": 2
}
