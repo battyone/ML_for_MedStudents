{
  "nbformat": 4,
  "nbformat_minor": 0,
  "metadata": {
    "accelerator": "GPU",
    "colab": {
      "name": "Exercise_8.ipynb",
      "provenance": [],
      "collapsed_sections": []
    },
    "kernelspec": {
      "display_name": "Python 3",
      "language": "python",
      "name": "python3"
    },
    "language_info": {
      "codemirror_mode": {
        "name": "ipython",
        "version": 3
      },
      "file_extension": ".py",
      "mimetype": "text/x-python",
      "name": "python",
      "nbconvert_exporter": "python",
      "pygments_lexer": "ipython3",
      "version": "3.7.3"
    },
    "toc": {
      "base_numbering": 1,
      "nav_menu": {},
      "number_sections": true,
      "sideBar": true,
      "skip_h1_title": false,
      "title_cell": "Table of Contents",
      "title_sidebar": "Contents",
      "toc_cell": false,
      "toc_position": {},
      "toc_section_display": true,
      "toc_window_display": false
    },
    "widgets": {
      "application/vnd.jupyter.widget-state+json": {
        "959d931fd83c4b58b692a6c0cd6f9989": {
          "model_module": "@jupyter-widgets/controls",
          "model_name": "HBoxModel",
          "state": {
            "_view_name": "HBoxView",
            "_dom_classes": [],
            "_model_name": "HBoxModel",
            "_view_module": "@jupyter-widgets/controls",
            "_model_module_version": "1.5.0",
            "_view_count": null,
            "_view_module_version": "1.5.0",
            "box_style": "",
            "layout": "IPY_MODEL_41db8b5a179e4c3e85eb0fbf00069a5c",
            "_model_module": "@jupyter-widgets/controls",
            "children": [
              "IPY_MODEL_f99c5318bcfb4020af672f04133156fe",
              "IPY_MODEL_dc73c347f9884b20822e42222ff627cc"
            ]
          }
        },
        "b6deeedb66e24cd3bb8bada78a851233": {
          "model_module": "@jupyter-widgets/controls",
          "model_name": "HBoxModel",
          "state": {
            "_view_name": "HBoxView",
            "_dom_classes": [],
            "_model_name": "HBoxModel",
            "_view_module": "@jupyter-widgets/controls",
            "_model_module_version": "1.5.0",
            "_view_count": null,
            "_view_module_version": "1.5.0",
            "box_style": "",
            "layout": "IPY_MODEL_16e5939643ad4ccf83d9fa8cc3d807f2",
            "_model_module": "@jupyter-widgets/controls",
            "children": [
              "IPY_MODEL_99f496d2afd74fea804682c0aaa2a4a7",
              "IPY_MODEL_091c0447d2674c168f77b372d5cb983a"
            ]
          }
        },
        "5e592cff6c9e40ff964859ba6d2b7a40": {
          "model_module": "@jupyter-widgets/controls",
          "model_name": "HBoxModel",
          "state": {
            "_view_name": "HBoxView",
            "_dom_classes": [],
            "_model_name": "HBoxModel",
            "_view_module": "@jupyter-widgets/controls",
            "_model_module_version": "1.5.0",
            "_view_count": null,
            "_view_module_version": "1.5.0",
            "box_style": "",
            "layout": "IPY_MODEL_c5874a88f48b4a34a447f497daf9f90b",
            "_model_module": "@jupyter-widgets/controls",
            "children": [
              "IPY_MODEL_f0fe29dd69b64709a3713a471e1fbb8f",
              "IPY_MODEL_ac14ba7ec8b64c6780fa0d9005a2c3a2"
            ]
          }
        },
        "f4a4de8d899144e1b10e19e9f4f75e51": {
          "model_module": "@jupyter-widgets/controls",
          "model_name": "HBoxModel",
          "state": {
            "_view_name": "HBoxView",
            "_dom_classes": [],
            "_model_name": "HBoxModel",
            "_view_module": "@jupyter-widgets/controls",
            "_model_module_version": "1.5.0",
            "_view_count": null,
            "_view_module_version": "1.5.0",
            "box_style": "",
            "layout": "IPY_MODEL_64b6d9dc0cd94cc28ce7513c25b388e9",
            "_model_module": "@jupyter-widgets/controls",
            "children": [
              "IPY_MODEL_57ecb834787a478cbfa2526dbc65959d",
              "IPY_MODEL_e4cd49d160b041e5b6662d718d143329"
            ]
          }
        },
        "284933b0fc79444cb699e24a6d37cee8": {
          "model_module": "@jupyter-widgets/controls",
          "model_name": "HBoxModel",
          "state": {
            "_view_name": "HBoxView",
            "_dom_classes": [],
            "_model_name": "HBoxModel",
            "_view_module": "@jupyter-widgets/controls",
            "_model_module_version": "1.5.0",
            "_view_count": null,
            "_view_module_version": "1.5.0",
            "box_style": "",
            "layout": "IPY_MODEL_89c65d10383b4cdea4208e775c2855e4",
            "_model_module": "@jupyter-widgets/controls",
            "children": [
              "IPY_MODEL_ac00450c9356454eb3dcd22236ff0e6b",
              "IPY_MODEL_5c4073717f084f5b90f79c676af33794"
            ]
          }
        },
        "201b3f4eeffc495fa6c6658bfe457690": {
          "model_module": "@jupyter-widgets/controls",
          "model_name": "HBoxModel",
          "state": {
            "_view_name": "HBoxView",
            "_dom_classes": [],
            "_model_name": "HBoxModel",
            "_view_module": "@jupyter-widgets/controls",
            "_model_module_version": "1.5.0",
            "_view_count": null,
            "_view_module_version": "1.5.0",
            "box_style": "",
            "layout": "IPY_MODEL_7aec30d1a54d45799ff2609be6f2fc41",
            "_model_module": "@jupyter-widgets/controls",
            "children": [
              "IPY_MODEL_930c2a59ed7f48b6846a2d7bb1e0a7df",
              "IPY_MODEL_37bc537769c84a488ac96d457b92410c"
            ]
          }
        },
        "fabfd9735b7742c3a7f549816880899c": {
          "model_module": "@jupyter-widgets/controls",
          "model_name": "HBoxModel",
          "state": {
            "_view_name": "HBoxView",
            "_dom_classes": [],
            "_model_name": "HBoxModel",
            "_view_module": "@jupyter-widgets/controls",
            "_model_module_version": "1.5.0",
            "_view_count": null,
            "_view_module_version": "1.5.0",
            "box_style": "",
            "layout": "IPY_MODEL_27dc881e04b049f3a89eb3c42a75db0a",
            "_model_module": "@jupyter-widgets/controls",
            "children": [
              "IPY_MODEL_51b01713e7b04481b8e80273dc423ef2",
              "IPY_MODEL_5c5f3d0278864a1489871d6456c037e1"
            ]
          }
        },
        "e46c422e6155458dbe0e447f5a1346b4": {
          "model_module": "@jupyter-widgets/controls",
          "model_name": "HBoxModel",
          "state": {
            "_view_name": "HBoxView",
            "_dom_classes": [],
            "_model_name": "HBoxModel",
            "_view_module": "@jupyter-widgets/controls",
            "_model_module_version": "1.5.0",
            "_view_count": null,
            "_view_module_version": "1.5.0",
            "box_style": "",
            "layout": "IPY_MODEL_c2504d5781814c8889bbc858c3b8710f",
            "_model_module": "@jupyter-widgets/controls",
            "children": [
              "IPY_MODEL_88190a803b8545fca428f58cc53f092e",
              "IPY_MODEL_8e1a1bf4b23a46428933708aa5d10bd9"
            ]
          }
        },
        "88fe099953ba4881a3b128eec5494f76": {
          "model_module": "@jupyter-widgets/controls",
          "model_name": "HBoxModel",
          "state": {
            "_view_name": "HBoxView",
            "_dom_classes": [],
            "_model_name": "HBoxModel",
            "_view_module": "@jupyter-widgets/controls",
            "_model_module_version": "1.5.0",
            "_view_count": null,
            "_view_module_version": "1.5.0",
            "box_style": "",
            "layout": "IPY_MODEL_1e904fbb61a548dc90665e6925b0304f",
            "_model_module": "@jupyter-widgets/controls",
            "children": [
              "IPY_MODEL_d576b489cabe46e591a890792f8b87d4",
              "IPY_MODEL_fa736c218d35453e83db0e4fca7043e4"
            ]
          }
        },
        "29b02a5352ed459e9444929dcd1819ac": {
          "model_module": "@jupyter-widgets/controls",
          "model_name": "HBoxModel",
          "state": {
            "_view_name": "HBoxView",
            "_dom_classes": [],
            "_model_name": "HBoxModel",
            "_view_module": "@jupyter-widgets/controls",
            "_model_module_version": "1.5.0",
            "_view_count": null,
            "_view_module_version": "1.5.0",
            "box_style": "",
            "layout": "IPY_MODEL_c3508f92ae4b43b785d77273fae612b0",
            "_model_module": "@jupyter-widgets/controls",
            "children": [
              "IPY_MODEL_6af0bc0f0b7d4532b3d676db6b94496d",
              "IPY_MODEL_1453579d03284443bf76cdd308e5f36f"
            ]
          }
        },
        "8365230cf5bf43d8b3ca3bdb797f63f6": {
          "model_module": "@jupyter-widgets/controls",
          "model_name": "HBoxModel",
          "state": {
            "_view_name": "HBoxView",
            "_dom_classes": [],
            "_model_name": "HBoxModel",
            "_view_module": "@jupyter-widgets/controls",
            "_model_module_version": "1.5.0",
            "_view_count": null,
            "_view_module_version": "1.5.0",
            "box_style": "",
            "layout": "IPY_MODEL_f7f77c9a3fc44af791a68f76324495ae",
            "_model_module": "@jupyter-widgets/controls",
            "children": [
              "IPY_MODEL_c06ca66ae21347e7ba967809b7ff7150",
              "IPY_MODEL_2843a858a1494b3cb4f521fcfed7ccbb"
            ]
          }
        },
        "f6a759f8996d42328a74369b96d9dcbf": {
          "model_module": "@jupyter-widgets/controls",
          "model_name": "HBoxModel",
          "state": {
            "_view_name": "HBoxView",
            "_dom_classes": [],
            "_model_name": "HBoxModel",
            "_view_module": "@jupyter-widgets/controls",
            "_model_module_version": "1.5.0",
            "_view_count": null,
            "_view_module_version": "1.5.0",
            "box_style": "",
            "layout": "IPY_MODEL_8d7e97bfbcf74227b368237a890cbbba",
            "_model_module": "@jupyter-widgets/controls",
            "children": [
              "IPY_MODEL_3865b36894184c3d929becf3d351735d",
              "IPY_MODEL_4ee09994fd664adb82d2572dc8741ee4"
            ]
          }
        },
        "cd2c12cdb95b45fcab60a67a0679f242": {
          "model_module": "@jupyter-widgets/controls",
          "model_name": "HBoxModel",
          "state": {
            "_view_name": "HBoxView",
            "_dom_classes": [],
            "_model_name": "HBoxModel",
            "_view_module": "@jupyter-widgets/controls",
            "_model_module_version": "1.5.0",
            "_view_count": null,
            "_view_module_version": "1.5.0",
            "box_style": "",
            "layout": "IPY_MODEL_73aaee8fcf4944c88da8f2420173b55b",
            "_model_module": "@jupyter-widgets/controls",
            "children": [
              "IPY_MODEL_8a030450d4de44cfa072e3daf4af51fb",
              "IPY_MODEL_00c2a246bac945edba2f65a0a15e95db"
            ]
          }
        },
        "d28b27bca5e84744bcd2b8a17dec4ebd": {
          "model_module": "@jupyter-widgets/controls",
          "model_name": "HBoxModel",
          "state": {
            "_view_name": "HBoxView",
            "_dom_classes": [],
            "_model_name": "HBoxModel",
            "_view_module": "@jupyter-widgets/controls",
            "_model_module_version": "1.5.0",
            "_view_count": null,
            "_view_module_version": "1.5.0",
            "box_style": "",
            "layout": "IPY_MODEL_7c34e5c57eef4efab655123489910156",
            "_model_module": "@jupyter-widgets/controls",
            "children": [
              "IPY_MODEL_88ca4ca6b9424fd29c6e97bf034a791f",
              "IPY_MODEL_79d35f03f8a5479db6b024dda11a0af7"
            ]
          }
        },
        "e8a894dff77c4764ae4bf25d542c91ad": {
          "model_module": "@jupyter-widgets/controls",
          "model_name": "HBoxModel",
          "state": {
            "_view_name": "HBoxView",
            "_dom_classes": [],
            "_model_name": "HBoxModel",
            "_view_module": "@jupyter-widgets/controls",
            "_model_module_version": "1.5.0",
            "_view_count": null,
            "_view_module_version": "1.5.0",
            "box_style": "",
            "layout": "IPY_MODEL_ea5df16cec41467b9cbb644767f79faf",
            "_model_module": "@jupyter-widgets/controls",
            "children": [
              "IPY_MODEL_0341f68200c94d4f8d65f48687f9737c",
              "IPY_MODEL_db202d8242084815aa321025f0aabb5d"
            ]
          }
        },
        "de0c8593ac904274a2a72d590837dc73": {
          "model_module": "@jupyter-widgets/controls",
          "model_name": "HBoxModel",
          "state": {
            "_view_name": "HBoxView",
            "_dom_classes": [],
            "_model_name": "HBoxModel",
            "_view_module": "@jupyter-widgets/controls",
            "_model_module_version": "1.5.0",
            "_view_count": null,
            "_view_module_version": "1.5.0",
            "box_style": "",
            "layout": "IPY_MODEL_ae91627ba6ff4e85b73eaa94a766eb61",
            "_model_module": "@jupyter-widgets/controls",
            "children": [
              "IPY_MODEL_70437bcef83b4942abb9eeaa54845a65",
              "IPY_MODEL_b719579e596e4a0c8767a09b6fc4a77f"
            ]
          }
        },
        "bf7eaf4c997f495fadea90527ddee53b": {
          "model_module": "@jupyter-widgets/controls",
          "model_name": "HBoxModel",
          "state": {
            "_view_name": "HBoxView",
            "_dom_classes": [],
            "_model_name": "HBoxModel",
            "_view_module": "@jupyter-widgets/controls",
            "_model_module_version": "1.5.0",
            "_view_count": null,
            "_view_module_version": "1.5.0",
            "box_style": "",
            "layout": "IPY_MODEL_ce760b644f0f4599987cb1fd984524b8",
            "_model_module": "@jupyter-widgets/controls",
            "children": [
              "IPY_MODEL_ceb97ce125ff463cb771347130d7a559",
              "IPY_MODEL_9ae8b09fd90a4997a24e67aa85a34249"
            ]
          }
        },
        "345fcfd7f2f24689b79923c845976db8": {
          "model_module": "@jupyter-widgets/controls",
          "model_name": "HBoxModel",
          "state": {
            "_view_name": "HBoxView",
            "_dom_classes": [],
            "_model_name": "HBoxModel",
            "_view_module": "@jupyter-widgets/controls",
            "_model_module_version": "1.5.0",
            "_view_count": null,
            "_view_module_version": "1.5.0",
            "box_style": "",
            "layout": "IPY_MODEL_990af46eef014f49b32c0b33f78ef46c",
            "_model_module": "@jupyter-widgets/controls",
            "children": [
              "IPY_MODEL_5a440f804aef48d0b94fdf220ee4c159",
              "IPY_MODEL_11bbf4157b7e44c590da2ab7157c2f84"
            ]
          }
        },
        "13c0bb8b9c77415cb086e9b5a038a877": {
          "model_module": "@jupyter-widgets/controls",
          "model_name": "HBoxModel",
          "state": {
            "_view_name": "HBoxView",
            "_dom_classes": [],
            "_model_name": "HBoxModel",
            "_view_module": "@jupyter-widgets/controls",
            "_model_module_version": "1.5.0",
            "_view_count": null,
            "_view_module_version": "1.5.0",
            "box_style": "",
            "layout": "IPY_MODEL_fd9102474d834457b14a26e6bf3ce9b3",
            "_model_module": "@jupyter-widgets/controls",
            "children": [
              "IPY_MODEL_d483041ef89d4fcbb817b283f8677bc0",
              "IPY_MODEL_49338cd79ecc4f9d805cf5a5993febd3"
            ]
          }
        },
        "c82ead6415ca46ab8255a9700abdb7a3": {
          "model_module": "@jupyter-widgets/controls",
          "model_name": "HBoxModel",
          "state": {
            "_view_name": "HBoxView",
            "_dom_classes": [],
            "_model_name": "HBoxModel",
            "_view_module": "@jupyter-widgets/controls",
            "_model_module_version": "1.5.0",
            "_view_count": null,
            "_view_module_version": "1.5.0",
            "box_style": "",
            "layout": "IPY_MODEL_81be0b8b7e054175be3164ad3f3be89d",
            "_model_module": "@jupyter-widgets/controls",
            "children": [
              "IPY_MODEL_48b2c89938cc4c73a86706e7d508483c",
              "IPY_MODEL_8cde43f41b684cac9b8d2e553fcf0579"
            ]
          }
        },
        "dd149e003f414a3ab56587bd0326f51b": {
          "model_module": "@jupyter-widgets/controls",
          "model_name": "HBoxModel",
          "state": {
            "_view_name": "HBoxView",
            "_dom_classes": [],
            "_model_name": "HBoxModel",
            "_view_module": "@jupyter-widgets/controls",
            "_model_module_version": "1.5.0",
            "_view_count": null,
            "_view_module_version": "1.5.0",
            "box_style": "",
            "layout": "IPY_MODEL_c1ae4c9cc3af48a9a28b7e74d7b757e4",
            "_model_module": "@jupyter-widgets/controls",
            "children": [
              "IPY_MODEL_1eee3cda56524ea7b49ff55e75843284",
              "IPY_MODEL_3feb53fa0a68412d9ec90510c2c6007b"
            ]
          }
        },
        "3c9dadf5f93b42f181a11dd50baffc42": {
          "model_module": "@jupyter-widgets/controls",
          "model_name": "HBoxModel",
          "state": {
            "_view_name": "HBoxView",
            "_dom_classes": [],
            "_model_name": "HBoxModel",
            "_view_module": "@jupyter-widgets/controls",
            "_model_module_version": "1.5.0",
            "_view_count": null,
            "_view_module_version": "1.5.0",
            "box_style": "",
            "layout": "IPY_MODEL_20fe6ee471b94f85a207556d5e88e589",
            "_model_module": "@jupyter-widgets/controls",
            "children": [
              "IPY_MODEL_1f37d4e38f0f4209ae685dc224722815",
              "IPY_MODEL_fc851ab24cb94bb9bb4bf7176c501e6b"
            ]
          }
        },
        "ed7d7b1c967a4c7e819d740c3254e2be": {
          "model_module": "@jupyter-widgets/controls",
          "model_name": "HBoxModel",
          "state": {
            "_view_name": "HBoxView",
            "_dom_classes": [],
            "_model_name": "HBoxModel",
            "_view_module": "@jupyter-widgets/controls",
            "_model_module_version": "1.5.0",
            "_view_count": null,
            "_view_module_version": "1.5.0",
            "box_style": "",
            "layout": "IPY_MODEL_09f4ae416c5a4d1eae813f32e20086a3",
            "_model_module": "@jupyter-widgets/controls",
            "children": [
              "IPY_MODEL_a75d779b397f4c1c80c4a95edea31a8a",
              "IPY_MODEL_52f444f156e74978b923dfc65279e1f6"
            ]
          }
        },
        "c688388fc13a4dfab1a0d028038e9fd5": {
          "model_module": "@jupyter-widgets/controls",
          "model_name": "HBoxModel",
          "state": {
            "_view_name": "HBoxView",
            "_dom_classes": [],
            "_model_name": "HBoxModel",
            "_view_module": "@jupyter-widgets/controls",
            "_model_module_version": "1.5.0",
            "_view_count": null,
            "_view_module_version": "1.5.0",
            "box_style": "",
            "layout": "IPY_MODEL_be837a44e98442568da50b08e698afd7",
            "_model_module": "@jupyter-widgets/controls",
            "children": [
              "IPY_MODEL_70b52892a26e445d8179f978a90be172",
              "IPY_MODEL_21f6d0da9bfc49a5a2be10a4d31a8d09"
            ]
          }
        },
        "bb7b342c36e443ed97a8bbff42a3fddf": {
          "model_module": "@jupyter-widgets/controls",
          "model_name": "HBoxModel",
          "state": {
            "_view_name": "HBoxView",
            "_dom_classes": [],
            "_model_name": "HBoxModel",
            "_view_module": "@jupyter-widgets/controls",
            "_model_module_version": "1.5.0",
            "_view_count": null,
            "_view_module_version": "1.5.0",
            "box_style": "",
            "layout": "IPY_MODEL_108588fed5194f7b82c9b7b9354ec1f4",
            "_model_module": "@jupyter-widgets/controls",
            "children": [
              "IPY_MODEL_5d7dbfe6351f445f9db9fbde1d69d541",
              "IPY_MODEL_aaada33214394c6b993146f51774e953"
            ]
          }
        },
        "5a87ed241ae2480c9c4ded6044a331b9": {
          "model_module": "@jupyter-widgets/controls",
          "model_name": "HBoxModel",
          "state": {
            "_view_name": "HBoxView",
            "_dom_classes": [],
            "_model_name": "HBoxModel",
            "_view_module": "@jupyter-widgets/controls",
            "_model_module_version": "1.5.0",
            "_view_count": null,
            "_view_module_version": "1.5.0",
            "box_style": "",
            "layout": "IPY_MODEL_796184d000c6497e842b4cf93c7bf133",
            "_model_module": "@jupyter-widgets/controls",
            "children": [
              "IPY_MODEL_a815522ced304ff2a39081abb5b547c9",
              "IPY_MODEL_0b358a88fe814e46a3622b47ab857397"
            ]
          }
        },
        "a34b544b514c420e853461c7fbeca91a": {
          "model_module": "@jupyter-widgets/controls",
          "model_name": "HBoxModel",
          "state": {
            "_view_name": "HBoxView",
            "_dom_classes": [],
            "_model_name": "HBoxModel",
            "_view_module": "@jupyter-widgets/controls",
            "_model_module_version": "1.5.0",
            "_view_count": null,
            "_view_module_version": "1.5.0",
            "box_style": "",
            "layout": "IPY_MODEL_0d041ceadfdd4903b586264b42497ccd",
            "_model_module": "@jupyter-widgets/controls",
            "children": [
              "IPY_MODEL_a761ea19993d48bea9b81a7944f5d09b",
              "IPY_MODEL_333e90f2f2054ba5be154eb32b897552"
            ]
          }
        },
        "bc114b8a0dcc48fcb891f967256336dc": {
          "model_module": "@jupyter-widgets/controls",
          "model_name": "HBoxModel",
          "state": {
            "_view_name": "HBoxView",
            "_dom_classes": [],
            "_model_name": "HBoxModel",
            "_view_module": "@jupyter-widgets/controls",
            "_model_module_version": "1.5.0",
            "_view_count": null,
            "_view_module_version": "1.5.0",
            "box_style": "",
            "layout": "IPY_MODEL_83ca6494f6c34f17b7960bde16374fc8",
            "_model_module": "@jupyter-widgets/controls",
            "children": [
              "IPY_MODEL_2d28d49a04b043f5be2bd77d379864d9",
              "IPY_MODEL_3b7326990e4a41c58d15d2270321652a"
            ]
          }
        },
        "4abedb2242dd49dc85243bc4b1d184cd": {
          "model_module": "@jupyter-widgets/controls",
          "model_name": "HBoxModel",
          "state": {
            "_view_name": "HBoxView",
            "_dom_classes": [],
            "_model_name": "HBoxModel",
            "_view_module": "@jupyter-widgets/controls",
            "_model_module_version": "1.5.0",
            "_view_count": null,
            "_view_module_version": "1.5.0",
            "box_style": "",
            "layout": "IPY_MODEL_c8d65c84f7974a809604ac48aeb5023e",
            "_model_module": "@jupyter-widgets/controls",
            "children": [
              "IPY_MODEL_0a469bcd97734504abd7de12e892a3c8",
              "IPY_MODEL_745f09bd8076476ab8c37c1b0b7beef4"
            ]
          }
        },
        "5edfcbef7ec74deeac89105091c5168a": {
          "model_module": "@jupyter-widgets/controls",
          "model_name": "HBoxModel",
          "state": {
            "_view_name": "HBoxView",
            "_dom_classes": [],
            "_model_name": "HBoxModel",
            "_view_module": "@jupyter-widgets/controls",
            "_model_module_version": "1.5.0",
            "_view_count": null,
            "_view_module_version": "1.5.0",
            "box_style": "",
            "layout": "IPY_MODEL_359fc9d1535845bf9b3f336626ddfa06",
            "_model_module": "@jupyter-widgets/controls",
            "children": [
              "IPY_MODEL_0eb0c0121fb244a1a35773d891a68712",
              "IPY_MODEL_8bc6841fcfb241c0bad885c8011f670b"
            ]
          }
        },
        "d7c47bc3c97c4a4684da114e2969f2e1": {
          "model_module": "@jupyter-widgets/controls",
          "model_name": "HBoxModel",
          "state": {
            "_view_name": "HBoxView",
            "_dom_classes": [],
            "_model_name": "HBoxModel",
            "_view_module": "@jupyter-widgets/controls",
            "_model_module_version": "1.5.0",
            "_view_count": null,
            "_view_module_version": "1.5.0",
            "box_style": "",
            "layout": "IPY_MODEL_f3e9de8e29134db6af96703c915e9979",
            "_model_module": "@jupyter-widgets/controls",
            "children": [
              "IPY_MODEL_0a141c9ca8c34f52af176b757f375bfc",
              "IPY_MODEL_a8cec0bf0ffa48a680ae7ebd02865056"
            ]
          }
        },
        "14d066bf6f3c4f989ef971a330c4df94": {
          "model_module": "@jupyter-widgets/controls",
          "model_name": "HBoxModel",
          "state": {
            "_view_name": "HBoxView",
            "_dom_classes": [],
            "_model_name": "HBoxModel",
            "_view_module": "@jupyter-widgets/controls",
            "_model_module_version": "1.5.0",
            "_view_count": null,
            "_view_module_version": "1.5.0",
            "box_style": "",
            "layout": "IPY_MODEL_c4299d31436647e6aa2655480a408b29",
            "_model_module": "@jupyter-widgets/controls",
            "children": [
              "IPY_MODEL_70db2f8ffc354cee8f93c0e5e2795856",
              "IPY_MODEL_2547d72076c14e8a809315e6dcb7f5ba"
            ]
          }
        }
      }
    }
  },
  "cells": [
    {
      "cell_type": "markdown",
      "metadata": {
        "colab_type": "text",
        "id": "o5yOkGTUF6Kp"
      },
      "source": [
        "# Recap\n",
        "\n",
        "This week we do everything on MNIST due to time constraints\n",
        "https://en.wikipedia.org/wiki/MNIST_database#/media/File:MnistExamples.png"
      ]
    },
    {
      "cell_type": "code",
      "metadata": {
        "colab_type": "code",
        "id": "rtwesOsZF6K6",
        "colab": {}
      },
      "source": [
        "classes=[\"0\", \"1\", \"2\", \"3\", \"4\", \"5\", \"6\", \"7\", \"8\", \"9\"]"
      ],
      "execution_count": 0,
      "outputs": []
    },
    {
      "cell_type": "code",
      "metadata": {
        "colab_type": "code",
        "id": "HjF-Aq9BF6K_",
        "colab": {}
      },
      "source": [
        "import torchvision.transforms as transforms\n",
        "\n",
        "\n",
        "# define the transformations the images go through each time it is used for training\n",
        "# includes augmentation AND normalization as described above\n",
        "augmentation_train = transforms.Compose([\n",
        "                                  # randomly perform a horizontal flip of the image\n",
        "                                  transforms.RandomHorizontalFlip(),\n",
        "                                  # rotate the image with a angle from 0 to 60 (chosen randomly)\n",
        "                                  transforms.RandomRotation(degrees=60),\n",
        "                                  # convert the image into a tensor so it can be processed by the GPU\n",
        "                                  transforms.ToTensor(),\n",
        "                                  # normalize the image with the mean and std of ImageNet\n",
        "                                   ])\n",
        "\n",
        "\n",
        "# no augmentation for the test data only resizing, conversion to tensor and normalization\n",
        "augmentation_test = transforms.Compose([\n",
        "                    transforms.ToTensor(),\n",
        "                    ])"
      ],
      "execution_count": 0,
      "outputs": []
    },
    {
      "cell_type": "code",
      "metadata": {
        "colab_type": "code",
        "id": "v194TjXLF6LH",
        "colab": {}
      },
      "source": [
        "import torchvision\n",
        "toy_dataset_train = torchvision.datasets.MNIST(\".\", train=True, transform=augmentation_train, download=True)\n",
        "toy_dataset_val = torchvision.datasets.MNIST(\".\", train=False, transform=augmentation_test, download=True)\n",
        "\n",
        "\n"
      ],
      "execution_count": 0,
      "outputs": []
    },
    {
      "cell_type": "code",
      "metadata": {
        "colab_type": "code",
        "id": "dKLdUbv6t0Qs",
        "colab": {
          "base_uri": "https://localhost:8080/",
          "height": 32
        },
        "outputId": "959a2885-9d2b-47da-8e87-efa74ca29cb6"
      },
      "source": [
        "print(len(toy_dataset_train))\n",
        "from tqdm import tnrange, tqdm_notebook\n",
        "import matplotlib.pyplot as plt\n",
        "%matplotlib inline"
      ],
      "execution_count": 5,
      "outputs": [
        {
          "output_type": "stream",
          "text": [
            "60000\n"
          ],
          "name": "stdout"
        }
      ]
    },
    {
      "cell_type": "code",
      "metadata": {
        "colab_type": "code",
        "id": "foGNkuwzF6LV",
        "colab": {
          "base_uri": "https://localhost:8080/",
          "height": 32
        },
        "outputId": "c367c1c0-935d-4cd3-fe6d-03d662918c1a"
      },
      "source": [
        "# Declare the network\n",
        "import torch\n",
        "from torch import nn\n",
        "import torch.nn.functional as F\n",
        "from torchsummary import summary\n",
        "device = torch.device('cuda' if torch.cuda.is_available() else 'cpu')\n",
        "print(\"Running on:\",device)\n",
        "num_classes=10\n",
        "\n",
        "class OurNet(nn.Module):\n",
        "    def __init__(self):\n",
        "        super(OurNet, self).__init__()\n",
        "        self.conv1 = nn.Conv2d(1, 6, (5,5), padding=2)\n",
        "        self.conv2 = nn.Conv2d(6, 16, (3,3)) \n",
        "        self.fc1   = nn.Linear(16*13*13, 120)\n",
        "        self.fc2   = nn.Linear(120, num_classes)\n",
        "    def forward(self, x):\n",
        "        x = F.relu(self.conv1(x))\n",
        "        x = F.max_pool2d(F.relu(self.conv2(x)), (2,2))\n",
        "        x = x.view(-1, self.num_flat_features(x))\n",
        "        x = F.relu(self.fc1(x))\n",
        "        x = self.fc2(x)\n",
        "        return x\n",
        "    def num_flat_features(self, x):\n",
        "        size = x.size()[1:]\n",
        "        num_features = 1\n",
        "        for s in size:\n",
        "            num_features *= s\n",
        "        return num_features\n",
        "\n"
      ],
      "execution_count": 7,
      "outputs": [
        {
          "output_type": "stream",
          "text": [
            "Running on: cuda\n"
          ],
          "name": "stdout"
        }
      ]
    },
    {
      "cell_type": "code",
      "metadata": {
        "id": "HWnvZpk2l7_j",
        "colab_type": "code",
        "colab": {
          "base_uri": "https://localhost:8080/",
          "height": 296
        },
        "outputId": "838b53c5-9afe-4aab-cfb9-c01afbfe84af"
      },
      "source": [
        "net = OurNet()\n",
        "net = net.to(device)\n",
        "summary(net, input_size=(1, 28, 28))"
      ],
      "execution_count": 8,
      "outputs": [
        {
          "output_type": "stream",
          "text": [
            "----------------------------------------------------------------\n",
            "        Layer (type)               Output Shape         Param #\n",
            "================================================================\n",
            "            Conv2d-1            [-1, 6, 28, 28]             156\n",
            "            Conv2d-2           [-1, 16, 26, 26]             880\n",
            "            Linear-3                  [-1, 120]         324,600\n",
            "            Linear-4                   [-1, 10]           1,210\n",
            "================================================================\n",
            "Total params: 326,846\n",
            "Trainable params: 326,846\n",
            "Non-trainable params: 0\n",
            "----------------------------------------------------------------\n",
            "Input size (MB): 0.00\n",
            "Forward/backward pass size (MB): 0.12\n",
            "Params size (MB): 1.25\n",
            "Estimated Total Size (MB): 1.37\n",
            "----------------------------------------------------------------\n"
          ],
          "name": "stdout"
        }
      ]
    },
    {
      "cell_type": "code",
      "metadata": {
        "colab_type": "code",
        "id": "vCJn-DV5F6Lc",
        "colab": {
          "base_uri": "https://localhost:8080/",
          "height": 181
        },
        "outputId": "0f3d7a68-b62a-4a18-e798-1f937dae9d35"
      },
      "source": [
        "# Median Frequency Balancing\n",
        "\n",
        "import numpy as np\n",
        "\n",
        "# get the class labels of each image\n",
        "class_labels = toy_dataset_train.targets\n",
        "# empty array for counting instance of each class\n",
        "count_labels = np.zeros(len(classes))\n",
        "# empty array for weights of each class\n",
        "class_weights = np.zeros(len(classes))\n",
        "\n",
        "# populate the count array\n",
        "for l in class_labels:\n",
        "  count_labels[l] += 1\n",
        "\n",
        "# get median count\n",
        "median_freq = np.median(count_labels)\n",
        "#print(median_freq)\n",
        "#print(count_labels)\n",
        "\n",
        "# calculate the weigths\n",
        "for i in range(len(classes)):\n",
        "  class_weights[i] = median_freq/count_labels[i]\n",
        "\n",
        "# print the weights\n",
        "for i in range(len(classes)):\n",
        "    print(classes[i],\":\", class_weights[i])"
      ],
      "execution_count": 12,
      "outputs": [
        {
          "output_type": "stream",
          "text": [
            "0 : 1.0021948336991389\n",
            "1 : 0.8804509047760308\n",
            "2 : 0.9963074857334676\n",
            "3 : 0.9681944217908988\n",
            "4 : 1.016090380006847\n",
            "5 : 1.0950009223390518\n",
            "6 : 1.0030415680973301\n",
            "7 : 0.9474860335195531\n",
            "8 : 1.0145274312083405\n",
            "9 : 0.9978147587829888\n"
          ],
          "name": "stdout"
        }
      ]
    },
    {
      "cell_type": "markdown",
      "metadata": {
        "colab_type": "text",
        "id": "4pPUGMq3NCnP"
      },
      "source": [
        "Now we define the loss function with the weights"
      ]
    },
    {
      "cell_type": "code",
      "metadata": {
        "colab_type": "code",
        "id": "j-Q72RJ-M84P",
        "colab": {}
      },
      "source": [
        "class_weights = torch.FloatTensor(class_weights).to(device)\n",
        "\n",
        "# loss function\n",
        "criterion = nn.CrossEntropyLoss(weight = class_weights)"
      ],
      "execution_count": 0,
      "outputs": []
    },
    {
      "cell_type": "markdown",
      "metadata": {
        "colab_type": "text",
        "id": "VcGGs0Bk8eCU"
      },
      "source": [
        "# Evaluation functions\n",
        "\n",
        "Here we write a function which calculates the accuracy of model based on the validation dataset."
      ]
    },
    {
      "cell_type": "code",
      "metadata": {
        "colab_type": "code",
        "id": "-tVHzZn78eCW",
        "colab": {}
      },
      "source": [
        "from sklearn.metrics import accuracy_score\n",
        "\n",
        "def get_num_correct(predicted, labels):\n",
        "    '''\n",
        "    This function is used to decide if the predicted and ground truth classes are same or not.\n",
        "    args: \n",
        "    predicted = output of model\n",
        "    labels = true output\n",
        "    '''\n",
        "    batch_len, correct= 0, 0\n",
        "    batch_len = labels.size(0)\n",
        "    correct = (predicted == labels).sum().item()\n",
        "    # correct = [1,1,1,1,2,3,4,5] predicted = [1,2,1,1,,2,3,4,6]\n",
        "    return batch_len, correct\n",
        "\n",
        "def evaluate(model, val_loader):\n",
        "    '''\n",
        "    This function calculates the total accuracy of the model on the validation set.\n",
        "    args:\n",
        "    model = the network we want to evaluate\n",
        "    val_loader = the validation data loader\n",
        "    '''\n",
        "    losses= 0\n",
        "    num_samples_total=0\n",
        "    correct_total=0\n",
        "    model.eval()\n",
        "    for inputs, labels in val_loader:\n",
        "        inputs, labels = inputs.to(device), labels.to(device)\n",
        "        out = model(inputs)\n",
        "        _, predicted = torch.max(out, 1)\n",
        "        loss = criterion(out, labels)\n",
        "        losses += loss.item() \n",
        "        b_len, corr = get_num_correct(predicted, labels)\n",
        "        num_samples_total +=b_len\n",
        "        correct_total +=corr\n",
        "    accuracy = correct_total/num_samples_total\n",
        "    losses = losses/len(val_loader)\n",
        "    return losses, accuracy"
      ],
      "execution_count": 0,
      "outputs": []
    },
    {
      "cell_type": "markdown",
      "metadata": {
        "colab_type": "text",
        "id": "2oGr-AfqF6Ln"
      },
      "source": [
        "# Training Loop"
      ]
    },
    {
      "cell_type": "code",
      "metadata": {
        "id": "x7QGVc9-l8AS",
        "colab_type": "code",
        "colab": {
          "base_uri": "https://localhost:8080/",
          "height": 115
        },
        "outputId": "2bf7f7c9-9221-4c25-bfa2-6ad060526311"
      },
      "source": [
        "\n",
        "def weight_init(m):\n",
        "    if isinstance(m, nn.Conv2d):\n",
        "        torch.nn.init.xavier_uniform_(m.weight.data)\n",
        "net.apply(weight_init)"
      ],
      "execution_count": 15,
      "outputs": [
        {
          "output_type": "execute_result",
          "data": {
            "text/plain": [
              "OurNet(\n",
              "  (conv1): Conv2d(1, 6, kernel_size=(5, 5), stride=(1, 1), padding=(2, 2))\n",
              "  (conv2): Conv2d(6, 16, kernel_size=(3, 3), stride=(1, 1))\n",
              "  (fc1): Linear(in_features=2704, out_features=120, bias=True)\n",
              "  (fc2): Linear(in_features=120, out_features=10, bias=True)\n",
              ")"
            ]
          },
          "metadata": {
            "tags": []
          },
          "execution_count": 15
        }
      ]
    },
    {
      "cell_type": "code",
      "metadata": {
        "colab_type": "code",
        "id": "zyc3or5oF6Lo",
        "colab": {
          "base_uri": "https://localhost:8080/",
          "height": 1000,
          "referenced_widgets": [
            "959d931fd83c4b58b692a6c0cd6f9989",
            "b6deeedb66e24cd3bb8bada78a851233",
            "5e592cff6c9e40ff964859ba6d2b7a40",
            "f4a4de8d899144e1b10e19e9f4f75e51",
            "284933b0fc79444cb699e24a6d37cee8",
            "201b3f4eeffc495fa6c6658bfe457690"
          ]
        },
        "outputId": "d892b47b-61bf-4850-e0e8-d1a74df98f28"
      },
      "source": [
        "# define the batch size for training, val and testing\n",
        "batch_size, validation_batch_size = 4096, 4096\n",
        "\n",
        "import datetime\n",
        "start_time = datetime.datetime.now()\n",
        "import torch.optim as optim\n",
        "optimizer = optim.Adam(net.parameters(), lr=1e-2)\n",
        "\n",
        "num_w = 0\n",
        "# create and instance of a dataloader for training\n",
        "train_data_loader = torch.utils.data.DataLoader(toy_dataset_train, batch_size=batch_size, shuffle=True,num_workers=num_w)\n",
        "validation_data_loader = torch.utils.data.DataLoader(toy_dataset_val, batch_size=validation_batch_size, shuffle=True,  num_workers=num_w)\n",
        "# number of loops over the dataset\n",
        "\n",
        "num_epochs = 5\n",
        "accuracy = []\n",
        "val_accuracy = []\n",
        "losses = []\n",
        "val_losses = []\n",
        "\n",
        "print(\"Started Training\")\n",
        "epoch = 0\n",
        "running_loss = 0.0\n",
        "correct_total= 0.0\n",
        "num_samples_total=0.0\n",
        "train_accuracy = 0.0\n",
        "val_acc=0.0\n",
        "val_loss = 0.0\n",
        "print('Epoch: %d' %(epoch+1))\n",
        "print('Train Loss: %.3f  Train Accuracy:%.3f' %(running_loss, train_accuracy))\n",
        "print('Validation Loss: %.3f  Val Accuracy: %.3f' %(val_loss, val_acc))\n",
        "\n",
        "for epoch in tnrange(num_epochs):\n",
        "    running_loss = 0.0\n",
        "    correct_total= 0.0\n",
        "    num_samples_total=0.0\n",
        "    \n",
        "    print(\"...\")\n",
        "    for i, data in tqdm_notebook(enumerate(train_data_loader)):\n",
        "        if i % 2 == 0:\n",
        "            print(f\"Iteration: {i+1}/{len(train_data_loader)}\")\n",
        "        # get the inputs\n",
        "        inputs, labels = data\n",
        "        inputs, labels = inputs.to(device), labels.to(device)\n",
        "        # set the parameter gradients to zero\n",
        "        optimizer.zero_grad()\n",
        "\n",
        "        # forward + backward + optimize\n",
        "        outputs = net(inputs)\n",
        "        loss = criterion(outputs, labels)\n",
        "        loss.backward()\n",
        "        optimizer.step()\n",
        "        \n",
        "        #compute accuracy\n",
        "        _, predicted = torch.max(outputs, 1)\n",
        "        b_len, corr = get_num_correct(predicted, labels)\n",
        "        num_samples_total +=b_len\n",
        "        correct_total +=corr\n",
        "        running_loss += loss.item()\n",
        "\n",
        "    \n",
        "    running_loss /= len(train_data_loader)\n",
        "    train_accuracy = correct_total/num_samples_total\n",
        "    val_loss, val_acc = evaluate(net, validation_data_loader)\n",
        "    \n",
        "    print('Epoch: %d' %(epoch+1))\n",
        "    print('Train Loss: %.3f  Train Accuracy:%.3f' %(running_loss, train_accuracy))\n",
        "    print('Validation Loss: %.3f  Val Accuracy: %.3f' %(val_loss, val_acc))\n",
        "\n",
        "    losses.append(running_loss)\n",
        "    val_losses.append(val_loss)\n",
        "    accuracy.append(train_accuracy)\n",
        "    val_accuracy.append(val_acc)\n",
        "print('Finished Training')\n",
        "end_time = datetime.datetime.now()\n",
        "delta = end_time -start_time\n",
        "print(\"Time for training of {} Epochs is {}s\".format(num_epochs,delta.seconds))"
      ],
      "execution_count": 16,
      "outputs": [
        {
          "output_type": "stream",
          "text": [
            "Started Training\n",
            "Epoch: 1\n",
            "Train Loss: 0.000  Train Accuracy:0.000\n",
            "Validation Loss: 0.000  Val Accuracy: 0.000\n"
          ],
          "name": "stdout"
        },
        {
          "output_type": "display_data",
          "data": {
            "application/vnd.jupyter.widget-view+json": {
              "model_id": "959d931fd83c4b58b692a6c0cd6f9989",
              "version_minor": 0,
              "version_major": 2
            },
            "text/plain": [
              "HBox(children=(IntProgress(value=0, max=5), HTML(value='')))"
            ]
          },
          "metadata": {
            "tags": []
          }
        },
        {
          "output_type": "stream",
          "text": [
            "...\n"
          ],
          "name": "stdout"
        },
        {
          "output_type": "display_data",
          "data": {
            "application/vnd.jupyter.widget-view+json": {
              "model_id": "b6deeedb66e24cd3bb8bada78a851233",
              "version_minor": 0,
              "version_major": 2
            },
            "text/plain": [
              "HBox(children=(IntProgress(value=1, bar_style='info', max=1), HTML(value='')))"
            ]
          },
          "metadata": {
            "tags": []
          }
        },
        {
          "output_type": "stream",
          "text": [
            "Iteration: 1/15\n",
            "Iteration: 3/15\n",
            "Iteration: 5/15\n",
            "Iteration: 7/15\n",
            "Iteration: 9/15\n",
            "Iteration: 11/15\n",
            "Iteration: 13/15\n",
            "Iteration: 15/15\n",
            "Epoch: 1\n",
            "Train Loss: 1.759  Train Accuracy:0.388\n",
            "Validation Loss: 0.983  Val Accuracy: 0.696\n",
            "...\n"
          ],
          "name": "stdout"
        },
        {
          "output_type": "display_data",
          "data": {
            "application/vnd.jupyter.widget-view+json": {
              "model_id": "5e592cff6c9e40ff964859ba6d2b7a40",
              "version_minor": 0,
              "version_major": 2
            },
            "text/plain": [
              "HBox(children=(IntProgress(value=1, bar_style='info', max=1), HTML(value='')))"
            ]
          },
          "metadata": {
            "tags": []
          }
        },
        {
          "output_type": "stream",
          "text": [
            "Iteration: 1/15\n",
            "Iteration: 3/15\n",
            "Iteration: 5/15\n",
            "Iteration: 7/15\n",
            "Iteration: 9/15\n",
            "Iteration: 11/15\n",
            "Iteration: 13/15\n",
            "Iteration: 15/15\n",
            "Epoch: 2\n",
            "Train Loss: 0.956  Train Accuracy:0.694\n",
            "Validation Loss: 0.629  Val Accuracy: 0.796\n",
            "...\n"
          ],
          "name": "stdout"
        },
        {
          "output_type": "display_data",
          "data": {
            "application/vnd.jupyter.widget-view+json": {
              "model_id": "f4a4de8d899144e1b10e19e9f4f75e51",
              "version_minor": 0,
              "version_major": 2
            },
            "text/plain": [
              "HBox(children=(IntProgress(value=1, bar_style='info', max=1), HTML(value='')))"
            ]
          },
          "metadata": {
            "tags": []
          }
        },
        {
          "output_type": "stream",
          "text": [
            "Iteration: 1/15\n",
            "Iteration: 3/15\n",
            "Iteration: 5/15\n",
            "Iteration: 7/15\n",
            "Iteration: 9/15\n",
            "Iteration: 11/15\n",
            "Iteration: 13/15\n",
            "Iteration: 15/15\n",
            "Epoch: 3\n",
            "Train Loss: 0.647  Train Accuracy:0.796\n",
            "Validation Loss: 0.388  Val Accuracy: 0.876\n",
            "...\n"
          ],
          "name": "stdout"
        },
        {
          "output_type": "display_data",
          "data": {
            "application/vnd.jupyter.widget-view+json": {
              "model_id": "284933b0fc79444cb699e24a6d37cee8",
              "version_minor": 0,
              "version_major": 2
            },
            "text/plain": [
              "HBox(children=(IntProgress(value=1, bar_style='info', max=1), HTML(value='')))"
            ]
          },
          "metadata": {
            "tags": []
          }
        },
        {
          "output_type": "stream",
          "text": [
            "Iteration: 1/15\n",
            "Iteration: 3/15\n",
            "Iteration: 5/15\n",
            "Iteration: 7/15\n",
            "Iteration: 9/15\n",
            "Iteration: 11/15\n",
            "Iteration: 13/15\n",
            "Iteration: 15/15\n",
            "Epoch: 4\n",
            "Train Loss: 0.459  Train Accuracy:0.854\n",
            "Validation Loss: 0.318  Val Accuracy: 0.893\n",
            "...\n"
          ],
          "name": "stdout"
        },
        {
          "output_type": "display_data",
          "data": {
            "application/vnd.jupyter.widget-view+json": {
              "model_id": "201b3f4eeffc495fa6c6658bfe457690",
              "version_minor": 0,
              "version_major": 2
            },
            "text/plain": [
              "HBox(children=(IntProgress(value=1, bar_style='info', max=1), HTML(value='')))"
            ]
          },
          "metadata": {
            "tags": []
          }
        },
        {
          "output_type": "stream",
          "text": [
            "Iteration: 1/15\n",
            "Iteration: 3/15\n",
            "Iteration: 5/15\n",
            "Iteration: 7/15\n",
            "Iteration: 9/15\n",
            "Iteration: 11/15\n",
            "Iteration: 13/15\n",
            "Iteration: 15/15\n",
            "Epoch: 5\n",
            "Train Loss: 0.344  Train Accuracy:0.892\n",
            "Validation Loss: 0.248  Val Accuracy: 0.918\n",
            "\n",
            "Finished Training\n",
            "Time for training of 5 Epochs is 73s\n"
          ],
          "name": "stdout"
        }
      ]
    },
    {
      "cell_type": "markdown",
      "metadata": {
        "colab_type": "text",
        "id": "yw_TaHF98eCf"
      },
      "source": [
        "# Train and Validation Curves\n",
        "\n",
        "To better understand whether our network is actually learning something, we plot the training and validation curves.\n",
        "\n",
        "There are two types of curves:\n",
        "- Loss Curves: Plotting the trend of the loss per epoch.\n",
        "- Accuracy Curves: Plotting accuracy, that is the performance of our model per epoch."
      ]
    },
    {
      "cell_type": "code",
      "metadata": {
        "colab_type": "code",
        "id": "LwjnpkM5HDBO",
        "colab": {
          "base_uri": "https://localhost:8080/",
          "height": 896
        },
        "outputId": "f5dcc7e4-3a17-4edc-8ad3-0b2e1d33ccd7"
      },
      "source": [
        "from tqdm import tnrange, tqdm_notebook\n",
        "import matplotlib.pyplot as plt\n",
        "%matplotlib inline \n",
        "num_epochs=5\n",
        "print(num_epochs)\n",
        "epoch = range(1, num_epochs+1)\n",
        "fig = plt.figure(figsize=(10, 15))\n",
        "plt.subplot(2,1,2)\n",
        "plt.plot(epoch, losses, label='Training loss')\n",
        "plt.plot(epoch, val_losses, label='Validation loss')\n",
        "plt.title('Training and Validation Loss')\n",
        "plt.xlabel('Epochs')\n",
        "plt.legend()\n",
        "#plt.figure()\n",
        "plt.show()\n",
        "\n",
        "fig = plt.figure(figsize=(10, 15))\n",
        "plt.subplot(2,1,2)\n",
        "plt.plot(epoch, accuracy, label='Training accuracy')\n",
        "plt.plot(epoch, val_accuracy, label='Validation accuracy')\n",
        "plt.title('Training and Validation Accuracy')\n",
        "plt.xlabel('Epochs')\n",
        "plt.legend()\n",
        "#plt.figure()\n",
        "plt.show()\n",
        "\n",
        "### fix los scala\n"
      ],
      "execution_count": 17,
      "outputs": [
        {
          "output_type": "stream",
          "text": [
            "5\n"
          ],
          "name": "stdout"
        },
        {
          "output_type": "display_data",
          "data": {
            "image/png": "[encoded data removed]",
            "text/plain": [
              "<Figure size 720x1080 with 1 Axes>"
            ]
          },
          "metadata": {
            "tags": []
          }
        },
        {
          "output_type": "display_data",
          "data": {
            "image/png": "[encoded data removed]",
            "text/plain": [
              "<Figure size 720x1080 with 1 Axes>"
            ]
          },
          "metadata": {
            "tags": []
          }
        }
      ]
    },
    {
      "cell_type": "markdown",
      "metadata": {
        "colab_type": "text",
        "id": "d_inKdz_9xzi"
      },
      "source": [
        "# Common Training Errors\n",
        "\n",
        "Let us look at some errors and how to detect them.\n",
        "\n"
      ]
    },
    {
      "cell_type": "code",
      "metadata": {
        "colab_type": "code",
        "id": "aHvK074c--qT",
        "colab": {
          "base_uri": "https://localhost:8080/",
          "height": 1000
        },
        "outputId": "401271fa-fcd9-4325-aa03-1307701d9219"
      },
      "source": [
        "# Rounding of the losses and accuracies to 2 decimal places.\n",
        "from tqdm import tnrange, tqdm_notebook\n",
        "import matplotlib.pyplot as plt\n",
        "%matplotlib inline \n",
        "n = 1 # round 2 places\n",
        "losses = [round(x,n) for x in losses]\n",
        "val_losses = [round(x,n) for x in val_losses]\n",
        "accuracy = [round(x,n) for x in accuracy]\n",
        "val_accuracy = [round(x,n) for x in val_accuracy]\n",
        "\n",
        "epoch = range(1, num_epochs+1)\n",
        "fig = plt.figure(figsize=(10, 15))\n",
        "plt.subplot(2,1,2)\n",
        "plt.plot(epoch, losses, label='Training loss')\n",
        "plt.title('Training Loss')\n",
        "plt.xlabel('Epochs')\n",
        "plt.legend()\n",
        "plt.figure()\n",
        "plt.show()\n",
        "\n",
        "fig = plt.figure(figsize=(10, 15))\n",
        "plt.subplot(2,1,2)\n",
        "plt.plot(epoch, val_losses, label='Validation loss')\n",
        "plt.title('Validation Loss')\n",
        "plt.xlabel('Epochs')\n",
        "plt.legend()\n",
        "plt.figure()\n",
        "plt.show()\n",
        "\n",
        "\n",
        "fig = plt.figure(figsize=(10, 15))\n",
        "plt.subplot(2,1,2)\n",
        "plt.plot(epoch, accuracy, label='Training accuracy')\n",
        "plt.title('Training Accuracy')\n",
        "plt.xlabel('Epochs')\n",
        "plt.legend()\n",
        "plt.figure()\n",
        "plt.show()\n",
        "\n",
        "fig = plt.figure(figsize=(10, 15))\n",
        "plt.subplot(2,1,2)\n",
        "plt.plot(epoch, val_accuracy, label='Validation accuracy')\n",
        "plt.title('Validation Accuracy')\n",
        "plt.xlabel('Epochs')\n",
        "plt.legend()\n",
        "plt.figure()\n",
        "plt.show()"
      ],
      "execution_count": 18,
      "outputs": [
        {
          "output_type": "display_data",
          "data": {
            "image/png": "[encoded data removed]",
            "text/plain": [
              "<Figure size 720x1080 with 1 Axes>"
            ]
          },
          "metadata": {
            "tags": []
          }
        },
        {
          "output_type": "display_data",
          "data": {
            "text/plain": [
              "<Figure size 432x288 with 0 Axes>"
            ]
          },
          "metadata": {
            "tags": []
          }
        },
        {
          "output_type": "display_data",
          "data": {
            "image/png": "[encoded data removed]",
            "text/plain": [
              "<Figure size 720x1080 with 1 Axes>"
            ]
          },
          "metadata": {
            "tags": []
          }
        },
        {
          "output_type": "display_data",
          "data": {
            "text/plain": [
              "<Figure size 432x288 with 0 Axes>"
            ]
          },
          "metadata": {
            "tags": []
          }
        },
        {
          "output_type": "display_data",
          "data": {
            "image/png": "[encoded data removed]",
            "text/plain": [
              "<Figure size 720x1080 with 1 Axes>"
            ]
          },
          "metadata": {
            "tags": []
          }
        },
        {
          "output_type": "display_data",
          "data": {
            "text/plain": [
              "<Figure size 432x288 with 0 Axes>"
            ]
          },
          "metadata": {
            "tags": []
          }
        },
        {
          "output_type": "display_data",
          "data": {
            "image/png": "[encoded data removed]",
            "text/plain": [
              "<Figure size 720x1080 with 1 Axes>"
            ]
          },
          "metadata": {
            "tags": []
          }
        },
        {
          "output_type": "display_data",
          "data": {
            "text/plain": [
              "<Figure size 432x288 with 0 Axes>"
            ]
          },
          "metadata": {
            "tags": []
          }
        }
      ]
    },
    {
      "cell_type": "markdown",
      "metadata": {
        "colab_type": "text",
        "id": "oQoSUM41_IIC"
      },
      "source": [
        "## Data Scarcity\n",
        "\n",
        "We need enough data to learn a good model. Less data means less learning.\n",
        "\n",
        "Let's see how the performance is affected when we have less data.\n"
      ]
    },
    {
      "cell_type": "code",
      "metadata": {
        "id": "T6P-z61Bl8A7",
        "colab_type": "code",
        "colab": {
          "base_uri": "https://localhost:8080/",
          "height": 345
        },
        "outputId": "f88009c9-ed3c-4221-be67-bc9999ba788e"
      },
      "source": [
        "from torchsummary import summary\n",
        "device = torch.device('cuda' if torch.cuda.is_available() else 'cpu')\n",
        "print(\"Running on:\",device)\n",
        "class OurNetBig(nn.Module):\n",
        "    def __init__(self):\n",
        "        super(OurNetBig, self).__init__()\n",
        "        self.conv1 = nn.Conv2d(1, 6, (5,5), padding=2)\n",
        "        self.conv2 = nn.Conv2d(6, 16, (3,3), padding=2)\n",
        "        self.conv3 = nn.Conv2d(16, 32, (3,3)) \n",
        "        self.fc1   = nn.Linear(32*13*13, 1000)\n",
        "        self.fc2   = nn.Linear(1000, 120)\n",
        "        self.fc3   = nn.Linear(120, 10)\n",
        "    def forward(self, x):\n",
        "        x = F.relu(self.conv1(x))\n",
        "        x = F.max_pool2d(F.relu(self.conv2(x)), (2,2))\n",
        "        x = F.relu(self.conv3(x))\n",
        "        x = x.view(-1, self.num_flat_features(x))\n",
        "        x = F.relu(self.fc1(x))\n",
        "        x = F.relu(self.fc2(x))\n",
        "        x = self.fc3(x)\n",
        "        return x\n",
        "    def num_flat_features(self, x):\n",
        "        size = x.size()[1:]\n",
        "        num_features = 1\n",
        "        for s in size:\n",
        "            num_features *= s\n",
        "        return num_features\n",
        "net_data = OurNetBig()\n",
        "net_data = net_data.to(device)\n",
        "summary(net_data, input_size=(1,28,28))"
      ],
      "execution_count": 19,
      "outputs": [
        {
          "output_type": "stream",
          "text": [
            "Running on: cuda\n",
            "----------------------------------------------------------------\n",
            "        Layer (type)               Output Shape         Param #\n",
            "================================================================\n",
            "            Conv2d-1            [-1, 6, 28, 28]             156\n",
            "            Conv2d-2           [-1, 16, 30, 30]             880\n",
            "            Conv2d-3           [-1, 32, 13, 13]           4,640\n",
            "            Linear-4                 [-1, 1000]       5,409,000\n",
            "            Linear-5                  [-1, 120]         120,120\n",
            "            Linear-6                   [-1, 10]           1,210\n",
            "================================================================\n",
            "Total params: 5,536,006\n",
            "Trainable params: 5,536,006\n",
            "Non-trainable params: 0\n",
            "----------------------------------------------------------------\n",
            "Input size (MB): 0.00\n",
            "Forward/backward pass size (MB): 0.20\n",
            "Params size (MB): 21.12\n",
            "Estimated Total Size (MB): 21.32\n",
            "----------------------------------------------------------------\n"
          ],
          "name": "stdout"
        }
      ]
    },
    {
      "cell_type": "code",
      "metadata": {
        "colab_type": "code",
        "id": "M1HSj_HeC0nn",
        "colab": {
          "base_uri": "https://localhost:8080/",
          "height": 32
        },
        "outputId": "0635e0f3-9888-47bb-e59e-c1adc6ae67f1"
      },
      "source": [
        "# we use the test data for training instead.\n",
        "from torch.utils.data import Subset\n",
        "batch_size = 50\n",
        "subset_size = 200\n",
        "\n",
        "length_dataset = [i for i in range(subset_size)]\n",
        "small_toy_dataset_train = Subset(toy_dataset_train,length_dataset)\n",
        "train_data_loader_small = torch.utils.data.DataLoader(small_toy_dataset_train, batch_size=batch_size, shuffle=True,num_workers=4)\n",
        "validation_data_loader = torch.utils.data.DataLoader(toy_dataset_val, batch_size=batch_size, shuffle=True,  num_workers=4)\n",
        "\n",
        "print(f\"small dataset size: {len(small_toy_dataset_train)} batch_size: {batch_size} number of batches in dataloader: {len(train_data_loader_small)} \")\n"
      ],
      "execution_count": 20,
      "outputs": [
        {
          "output_type": "stream",
          "text": [
            "small dataset size: 200 batch_size: 50 number of batches in dataloader: 4 \n"
          ],
          "name": "stdout"
        }
      ]
    },
    {
      "cell_type": "code",
      "metadata": {
        "id": "5AvKETf-l8BH",
        "colab_type": "code",
        "colab": {
          "base_uri": "https://localhost:8080/",
          "height": 148
        },
        "outputId": "20adda71-0f2f-4489-d2b3-737500f90274"
      },
      "source": [
        "def weight_init(m):\n",
        "    if isinstance(m, nn.Conv2d):\n",
        "        torch.nn.init.xavier_uniform_(m.weight.data)\n",
        "net_data.apply(weight_init)"
      ],
      "execution_count": 21,
      "outputs": [
        {
          "output_type": "execute_result",
          "data": {
            "text/plain": [
              "OurNetBig(\n",
              "  (conv1): Conv2d(1, 6, kernel_size=(5, 5), stride=(1, 1), padding=(2, 2))\n",
              "  (conv2): Conv2d(6, 16, kernel_size=(3, 3), stride=(1, 1), padding=(2, 2))\n",
              "  (conv3): Conv2d(16, 32, kernel_size=(3, 3), stride=(1, 1))\n",
              "  (fc1): Linear(in_features=5408, out_features=1000, bias=True)\n",
              "  (fc2): Linear(in_features=1000, out_features=120, bias=True)\n",
              "  (fc3): Linear(in_features=120, out_features=10, bias=True)\n",
              ")"
            ]
          },
          "metadata": {
            "tags": []
          },
          "execution_count": 21
        }
      ]
    },
    {
      "cell_type": "code",
      "metadata": {
        "colab_type": "code",
        "id": "Z3J_A9Iy_O1c",
        "colab": {
          "base_uri": "https://localhost:8080/",
          "height": 1000,
          "referenced_widgets": [
            "fabfd9735b7742c3a7f549816880899c",
            "e46c422e6155458dbe0e447f5a1346b4",
            "88fe099953ba4881a3b128eec5494f76",
            "29b02a5352ed459e9444929dcd1819ac",
            "8365230cf5bf43d8b3ca3bdb797f63f6",
            "f6a759f8996d42328a74369b96d9dcbf",
            "cd2c12cdb95b45fcab60a67a0679f242",
            "d28b27bca5e84744bcd2b8a17dec4ebd",
            "e8a894dff77c4764ae4bf25d542c91ad",
            "de0c8593ac904274a2a72d590837dc73",
            "bf7eaf4c997f495fadea90527ddee53b",
            "345fcfd7f2f24689b79923c845976db8",
            "13c0bb8b9c77415cb086e9b5a038a877",
            "c82ead6415ca46ab8255a9700abdb7a3",
            "dd149e003f414a3ab56587bd0326f51b",
            "3c9dadf5f93b42f181a11dd50baffc42",
            "ed7d7b1c967a4c7e819d740c3254e2be",
            "c688388fc13a4dfab1a0d028038e9fd5",
            "bb7b342c36e443ed97a8bbff42a3fddf",
            "5a87ed241ae2480c9c4ded6044a331b9",
            "a34b544b514c420e853461c7fbeca91a",
            "bc114b8a0dcc48fcb891f967256336dc",
            "4abedb2242dd49dc85243bc4b1d184cd",
            "5edfcbef7ec74deeac89105091c5168a",
            "d7c47bc3c97c4a4684da114e2969f2e1",
            "14d066bf6f3c4f989ef971a330c4df94"
          ]
        },
        "outputId": "34724dd7-7014-4aab-f832-76b8d1c3c7cd"
      },
      "source": [
        "# number of loops over the dataset\n",
        "# optimizer\n",
        "import torch.optim as optim \n",
        "\n",
        "num_epochs = 25\n",
        "accuracy = []\n",
        "val_accuracy = []\n",
        "losses = []\n",
        "val_losses = []\n",
        "running_loss= 0.0\n",
        "train_accuracy = 0.0\n",
        "val_loss = 0.0\n",
        "val_acc = 0.0\n",
        "epoch=0\n",
        "\n",
        "print('Epoch: %d' %(epoch+1))\n",
        "print('Loss: %.3f  Accuracy:%.3f' %(running_loss, train_accuracy))\n",
        "print('Validation Loss: %.3f  Val Accuracy: %.3f' %(val_loss, val_acc))\n",
        "\n",
        "# intialize the network\n",
        "criterion = nn.CrossEntropyLoss()\n",
        "optimizer = optim.Adam(net_data.parameters(), lr=1e-2)\n",
        "print(net_data)\n",
        "print(\"Started Training\")\n",
        "\n",
        "for epoch in tnrange(num_epochs):\n",
        "    running_loss = 0.0\n",
        "    correct_total= 0.0\n",
        "    num_samples_total=0.0\n",
        "    for i, data in tqdm_notebook(enumerate(train_data_loader_small)):\n",
        "        #print(f\"Iteration: {i+1}/{len(train_data_loader_small)}\")\n",
        "        # get the inputs\n",
        "        inputs, labels = data\n",
        "        inputs, labels = inputs.to(device), labels.to(device)\n",
        "        # set the parameter gradients to zero\n",
        "        optimizer.zero_grad()\n",
        "\n",
        "        # forward + backward + optimize\n",
        "        outputs = net_data(inputs)\n",
        "        loss = criterion(outputs, labels)\n",
        "        loss.backward()\n",
        "        optimizer.step()\n",
        "        \n",
        "        #compute accuracy\n",
        "        _, predicted = torch.max(outputs, 1)\n",
        "        b_len, corr = get_num_correct(predicted, labels)\n",
        "        num_samples_total +=b_len\n",
        "        correct_total +=corr\n",
        "        running_loss += loss.item()\n",
        "\n",
        "    \n",
        "    running_loss /= len(train_data_loader_small)\n",
        "    train_accuracy = correct_total/num_samples_total\n",
        "    val_loss, val_acc = evaluate(net_data, validation_data_loader)\n",
        "    \n",
        "    print('Epoch: %d' %(epoch+1))\n",
        "    print('Loss: %.3f  Accuracy:%.3f' %(running_loss, train_accuracy))\n",
        "    print('Validation Loss: %.3f  Val Accuracy: %.3f' %(val_loss, val_acc))\n",
        "\n",
        "    losses.append(running_loss)\n",
        "    val_losses.append(val_loss)\n",
        "    accuracy.append(train_accuracy)\n",
        "    val_accuracy.append(val_acc)\n",
        "print('Finished Training')"
      ],
      "execution_count": 22,
      "outputs": [
        {
          "output_type": "stream",
          "text": [
            "Epoch: 1\n",
            "Loss: 0.000  Accuracy:0.000\n",
            "Validation Loss: 0.000  Val Accuracy: 0.000\n",
            "OurNetBig(\n",
            "  (conv1): Conv2d(1, 6, kernel_size=(5, 5), stride=(1, 1), padding=(2, 2))\n",
            "  (conv2): Conv2d(6, 16, kernel_size=(3, 3), stride=(1, 1), padding=(2, 2))\n",
            "  (conv3): Conv2d(16, 32, kernel_size=(3, 3), stride=(1, 1))\n",
            "  (fc1): Linear(in_features=5408, out_features=1000, bias=True)\n",
            "  (fc2): Linear(in_features=1000, out_features=120, bias=True)\n",
            "  (fc3): Linear(in_features=120, out_features=10, bias=True)\n",
            ")\n",
            "Started Training\n"
          ],
          "name": "stdout"
        },
        {
          "output_type": "display_data",
          "data": {
            "application/vnd.jupyter.widget-view+json": {
              "model_id": "fabfd9735b7742c3a7f549816880899c",
              "version_minor": 0,
              "version_major": 2
            },
            "text/plain": [
              "HBox(children=(IntProgress(value=0, max=25), HTML(value='')))"
            ]
          },
          "metadata": {
            "tags": []
          }
        },
        {
          "output_type": "display_data",
          "data": {
            "application/vnd.jupyter.widget-view+json": {
              "model_id": "e46c422e6155458dbe0e447f5a1346b4",
              "version_minor": 0,
              "version_major": 2
            },
            "text/plain": [
              "HBox(children=(IntProgress(value=1, bar_style='info', max=1), HTML(value='')))"
            ]
          },
          "metadata": {
            "tags": []
          }
        },
        {
          "output_type": "stream",
          "text": [
            "Epoch: 1\n",
            "Loss: 3.006  Accuracy:0.105\n",
            "Validation Loss: 2.313  Val Accuracy: 0.114\n"
          ],
          "name": "stdout"
        },
        {
          "output_type": "display_data",
          "data": {
            "application/vnd.jupyter.widget-view+json": {
              "model_id": "88fe099953ba4881a3b128eec5494f76",
              "version_minor": 0,
              "version_major": 2
            },
            "text/plain": [
              "HBox(children=(IntProgress(value=1, bar_style='info', max=1), HTML(value='')))"
            ]
          },
          "metadata": {
            "tags": []
          }
        },
        {
          "output_type": "stream",
          "text": [
            "Epoch: 2\n",
            "Loss: 2.293  Accuracy:0.130\n",
            "Validation Loss: 2.301  Val Accuracy: 0.114\n"
          ],
          "name": "stdout"
        },
        {
          "output_type": "display_data",
          "data": {
            "application/vnd.jupyter.widget-view+json": {
              "model_id": "29b02a5352ed459e9444929dcd1819ac",
              "version_minor": 0,
              "version_major": 2
            },
            "text/plain": [
              "HBox(children=(IntProgress(value=1, bar_style='info', max=1), HTML(value='')))"
            ]
          },
          "metadata": {
            "tags": []
          }
        },
        {
          "output_type": "stream",
          "text": [
            "Epoch: 3\n",
            "Loss: 2.303  Accuracy:0.130\n",
            "Validation Loss: 2.296  Val Accuracy: 0.207\n"
          ],
          "name": "stdout"
        },
        {
          "output_type": "display_data",
          "data": {
            "application/vnd.jupyter.widget-view+json": {
              "model_id": "8365230cf5bf43d8b3ca3bdb797f63f6",
              "version_minor": 0,
              "version_major": 2
            },
            "text/plain": [
              "HBox(children=(IntProgress(value=1, bar_style='info', max=1), HTML(value='')))"
            ]
          },
          "metadata": {
            "tags": []
          }
        },
        {
          "output_type": "stream",
          "text": [
            "Epoch: 4\n",
            "Loss: 2.256  Accuracy:0.225\n",
            "Validation Loss: 2.336  Val Accuracy: 0.175\n"
          ],
          "name": "stdout"
        },
        {
          "output_type": "display_data",
          "data": {
            "application/vnd.jupyter.widget-view+json": {
              "model_id": "f6a759f8996d42328a74369b96d9dcbf",
              "version_minor": 0,
              "version_major": 2
            },
            "text/plain": [
              "HBox(children=(IntProgress(value=1, bar_style='info', max=1), HTML(value='')))"
            ]
          },
          "metadata": {
            "tags": []
          }
        },
        {
          "output_type": "stream",
          "text": [
            "Epoch: 5\n",
            "Loss: 2.165  Accuracy:0.235\n",
            "Validation Loss: 2.195  Val Accuracy: 0.336\n"
          ],
          "name": "stdout"
        },
        {
          "output_type": "display_data",
          "data": {
            "application/vnd.jupyter.widget-view+json": {
              "model_id": "cd2c12cdb95b45fcab60a67a0679f242",
              "version_minor": 0,
              "version_major": 2
            },
            "text/plain": [
              "HBox(children=(IntProgress(value=1, bar_style='info', max=1), HTML(value='')))"
            ]
          },
          "metadata": {
            "tags": []
          }
        },
        {
          "output_type": "stream",
          "text": [
            "Epoch: 6\n",
            "Loss: 2.000  Accuracy:0.320\n",
            "Validation Loss: 1.866  Val Accuracy: 0.406\n"
          ],
          "name": "stdout"
        },
        {
          "output_type": "display_data",
          "data": {
            "application/vnd.jupyter.widget-view+json": {
              "model_id": "d28b27bca5e84744bcd2b8a17dec4ebd",
              "version_minor": 0,
              "version_major": 2
            },
            "text/plain": [
              "HBox(children=(IntProgress(value=1, bar_style='info', max=1), HTML(value='')))"
            ]
          },
          "metadata": {
            "tags": []
          }
        },
        {
          "output_type": "stream",
          "text": [
            "Epoch: 7\n",
            "Loss: 1.696  Accuracy:0.400\n",
            "Validation Loss: 1.631  Val Accuracy: 0.445\n"
          ],
          "name": "stdout"
        },
        {
          "output_type": "display_data",
          "data": {
            "application/vnd.jupyter.widget-view+json": {
              "model_id": "e8a894dff77c4764ae4bf25d542c91ad",
              "version_minor": 0,
              "version_major": 2
            },
            "text/plain": [
              "HBox(children=(IntProgress(value=1, bar_style='info', max=1), HTML(value='')))"
            ]
          },
          "metadata": {
            "tags": []
          }
        },
        {
          "output_type": "stream",
          "text": [
            "Epoch: 8\n",
            "Loss: 1.692  Accuracy:0.460\n",
            "Validation Loss: 1.550  Val Accuracy: 0.531\n"
          ],
          "name": "stdout"
        },
        {
          "output_type": "display_data",
          "data": {
            "application/vnd.jupyter.widget-view+json": {
              "model_id": "de0c8593ac904274a2a72d590837dc73",
              "version_minor": 0,
              "version_major": 2
            },
            "text/plain": [
              "HBox(children=(IntProgress(value=1, bar_style='info', max=1), HTML(value='')))"
            ]
          },
          "metadata": {
            "tags": []
          }
        },
        {
          "output_type": "stream",
          "text": [
            "Epoch: 9\n",
            "Loss: 1.333  Accuracy:0.580\n",
            "Validation Loss: 1.282  Val Accuracy: 0.601\n"
          ],
          "name": "stdout"
        },
        {
          "output_type": "display_data",
          "data": {
            "application/vnd.jupyter.widget-view+json": {
              "model_id": "bf7eaf4c997f495fadea90527ddee53b",
              "version_minor": 0,
              "version_major": 2
            },
            "text/plain": [
              "HBox(children=(IntProgress(value=1, bar_style='info', max=1), HTML(value='')))"
            ]
          },
          "metadata": {
            "tags": []
          }
        },
        {
          "output_type": "stream",
          "text": [
            "Epoch: 10\n",
            "Loss: 1.343  Accuracy:0.530\n",
            "Validation Loss: 1.310  Val Accuracy: 0.568\n"
          ],
          "name": "stdout"
        },
        {
          "output_type": "display_data",
          "data": {
            "application/vnd.jupyter.widget-view+json": {
              "model_id": "345fcfd7f2f24689b79923c845976db8",
              "version_minor": 0,
              "version_major": 2
            },
            "text/plain": [
              "HBox(children=(IntProgress(value=1, bar_style='info', max=1), HTML(value='')))"
            ]
          },
          "metadata": {
            "tags": []
          }
        },
        {
          "output_type": "stream",
          "text": [
            "Epoch: 11\n",
            "Loss: 1.165  Accuracy:0.620\n",
            "Validation Loss: 1.254  Val Accuracy: 0.584\n"
          ],
          "name": "stdout"
        },
        {
          "output_type": "display_data",
          "data": {
            "application/vnd.jupyter.widget-view+json": {
              "model_id": "13c0bb8b9c77415cb086e9b5a038a877",
              "version_minor": 0,
              "version_major": 2
            },
            "text/plain": [
              "HBox(children=(IntProgress(value=1, bar_style='info', max=1), HTML(value='')))"
            ]
          },
          "metadata": {
            "tags": []
          }
        },
        {
          "output_type": "stream",
          "text": [
            "Epoch: 12\n",
            "Loss: 0.930  Accuracy:0.680\n",
            "Validation Loss: 1.235  Val Accuracy: 0.655\n"
          ],
          "name": "stdout"
        },
        {
          "output_type": "display_data",
          "data": {
            "application/vnd.jupyter.widget-view+json": {
              "model_id": "c82ead6415ca46ab8255a9700abdb7a3",
              "version_minor": 0,
              "version_major": 2
            },
            "text/plain": [
              "HBox(children=(IntProgress(value=1, bar_style='info', max=1), HTML(value='')))"
            ]
          },
          "metadata": {
            "tags": []
          }
        },
        {
          "output_type": "stream",
          "text": [
            "Epoch: 13\n",
            "Loss: 0.815  Accuracy:0.750\n",
            "Validation Loss: 1.286  Val Accuracy: 0.647\n"
          ],
          "name": "stdout"
        },
        {
          "output_type": "display_data",
          "data": {
            "application/vnd.jupyter.widget-view+json": {
              "model_id": "dd149e003f414a3ab56587bd0326f51b",
              "version_minor": 0,
              "version_major": 2
            },
            "text/plain": [
              "HBox(children=(IntProgress(value=1, bar_style='info', max=1), HTML(value='')))"
            ]
          },
          "metadata": {
            "tags": []
          }
        },
        {
          "output_type": "stream",
          "text": [
            "Epoch: 14\n",
            "Loss: 0.976  Accuracy:0.640\n",
            "Validation Loss: 1.050  Val Accuracy: 0.650\n"
          ],
          "name": "stdout"
        },
        {
          "output_type": "display_data",
          "data": {
            "application/vnd.jupyter.widget-view+json": {
              "model_id": "3c9dadf5f93b42f181a11dd50baffc42",
              "version_minor": 0,
              "version_major": 2
            },
            "text/plain": [
              "HBox(children=(IntProgress(value=1, bar_style='info', max=1), HTML(value='')))"
            ]
          },
          "metadata": {
            "tags": []
          }
        },
        {
          "output_type": "stream",
          "text": [
            "Epoch: 15\n",
            "Loss: 0.842  Accuracy:0.705\n",
            "Validation Loss: 1.063  Val Accuracy: 0.683\n"
          ],
          "name": "stdout"
        },
        {
          "output_type": "display_data",
          "data": {
            "application/vnd.jupyter.widget-view+json": {
              "model_id": "ed7d7b1c967a4c7e819d740c3254e2be",
              "version_minor": 0,
              "version_major": 2
            },
            "text/plain": [
              "HBox(children=(IntProgress(value=1, bar_style='info', max=1), HTML(value='')))"
            ]
          },
          "metadata": {
            "tags": []
          }
        },
        {
          "output_type": "stream",
          "text": [
            "Epoch: 16\n",
            "Loss: 0.757  Accuracy:0.770\n",
            "Validation Loss: 1.127  Val Accuracy: 0.704\n"
          ],
          "name": "stdout"
        },
        {
          "output_type": "display_data",
          "data": {
            "application/vnd.jupyter.widget-view+json": {
              "model_id": "c688388fc13a4dfab1a0d028038e9fd5",
              "version_minor": 0,
              "version_major": 2
            },
            "text/plain": [
              "HBox(children=(IntProgress(value=1, bar_style='info', max=1), HTML(value='')))"
            ]
          },
          "metadata": {
            "tags": []
          }
        },
        {
          "output_type": "stream",
          "text": [
            "Epoch: 17\n",
            "Loss: 0.686  Accuracy:0.785\n",
            "Validation Loss: 0.979  Val Accuracy: 0.704\n"
          ],
          "name": "stdout"
        },
        {
          "output_type": "display_data",
          "data": {
            "application/vnd.jupyter.widget-view+json": {
              "model_id": "bb7b342c36e443ed97a8bbff42a3fddf",
              "version_minor": 0,
              "version_major": 2
            },
            "text/plain": [
              "HBox(children=(IntProgress(value=1, bar_style='info', max=1), HTML(value='')))"
            ]
          },
          "metadata": {
            "tags": []
          }
        },
        {
          "output_type": "stream",
          "text": [
            "Epoch: 18\n",
            "Loss: 0.642  Accuracy:0.755\n",
            "Validation Loss: 0.971  Val Accuracy: 0.712\n"
          ],
          "name": "stdout"
        },
        {
          "output_type": "display_data",
          "data": {
            "application/vnd.jupyter.widget-view+json": {
              "model_id": "5a87ed241ae2480c9c4ded6044a331b9",
              "version_minor": 0,
              "version_major": 2
            },
            "text/plain": [
              "HBox(children=(IntProgress(value=1, bar_style='info', max=1), HTML(value='')))"
            ]
          },
          "metadata": {
            "tags": []
          }
        },
        {
          "output_type": "stream",
          "text": [
            "Epoch: 19\n",
            "Loss: 0.596  Accuracy:0.805\n",
            "Validation Loss: 0.994  Val Accuracy: 0.714\n"
          ],
          "name": "stdout"
        },
        {
          "output_type": "display_data",
          "data": {
            "application/vnd.jupyter.widget-view+json": {
              "model_id": "a34b544b514c420e853461c7fbeca91a",
              "version_minor": 0,
              "version_major": 2
            },
            "text/plain": [
              "HBox(children=(IntProgress(value=1, bar_style='info', max=1), HTML(value='')))"
            ]
          },
          "metadata": {
            "tags": []
          }
        },
        {
          "output_type": "stream",
          "text": [
            "Epoch: 20\n",
            "Loss: 0.556  Accuracy:0.795\n",
            "Validation Loss: 1.061  Val Accuracy: 0.726\n"
          ],
          "name": "stdout"
        },
        {
          "output_type": "display_data",
          "data": {
            "application/vnd.jupyter.widget-view+json": {
              "model_id": "bc114b8a0dcc48fcb891f967256336dc",
              "version_minor": 0,
              "version_major": 2
            },
            "text/plain": [
              "HBox(children=(IntProgress(value=1, bar_style='info', max=1), HTML(value='')))"
            ]
          },
          "metadata": {
            "tags": []
          }
        },
        {
          "output_type": "stream",
          "text": [
            "Epoch: 21\n",
            "Loss: 0.530  Accuracy:0.850\n",
            "Validation Loss: 1.019  Val Accuracy: 0.724\n"
          ],
          "name": "stdout"
        },
        {
          "output_type": "display_data",
          "data": {
            "application/vnd.jupyter.widget-view+json": {
              "model_id": "4abedb2242dd49dc85243bc4b1d184cd",
              "version_minor": 0,
              "version_major": 2
            },
            "text/plain": [
              "HBox(children=(IntProgress(value=1, bar_style='info', max=1), HTML(value='')))"
            ]
          },
          "metadata": {
            "tags": []
          }
        },
        {
          "output_type": "stream",
          "text": [
            "Epoch: 22\n",
            "Loss: 0.567  Accuracy:0.785\n",
            "Validation Loss: 0.980  Val Accuracy: 0.732\n"
          ],
          "name": "stdout"
        },
        {
          "output_type": "display_data",
          "data": {
            "application/vnd.jupyter.widget-view+json": {
              "model_id": "5edfcbef7ec74deeac89105091c5168a",
              "version_minor": 0,
              "version_major": 2
            },
            "text/plain": [
              "HBox(children=(IntProgress(value=1, bar_style='info', max=1), HTML(value='')))"
            ]
          },
          "metadata": {
            "tags": []
          }
        },
        {
          "output_type": "stream",
          "text": [
            "Epoch: 23\n",
            "Loss: 0.442  Accuracy:0.850\n",
            "Validation Loss: 1.168  Val Accuracy: 0.704\n"
          ],
          "name": "stdout"
        },
        {
          "output_type": "display_data",
          "data": {
            "application/vnd.jupyter.widget-view+json": {
              "model_id": "d7c47bc3c97c4a4684da114e2969f2e1",
              "version_minor": 0,
              "version_major": 2
            },
            "text/plain": [
              "HBox(children=(IntProgress(value=1, bar_style='info', max=1), HTML(value='')))"
            ]
          },
          "metadata": {
            "tags": []
          }
        },
        {
          "output_type": "stream",
          "text": [
            "Epoch: 24\n",
            "Loss: 0.450  Accuracy:0.860\n",
            "Validation Loss: 1.036  Val Accuracy: 0.726\n"
          ],
          "name": "stdout"
        },
        {
          "output_type": "display_data",
          "data": {
            "application/vnd.jupyter.widget-view+json": {
              "model_id": "14d066bf6f3c4f989ef971a330c4df94",
              "version_minor": 0,
              "version_major": 2
            },
            "text/plain": [
              "HBox(children=(IntProgress(value=1, bar_style='info', max=1), HTML(value='')))"
            ]
          },
          "metadata": {
            "tags": []
          }
        },
        {
          "output_type": "stream",
          "text": [
            "Epoch: 25\n",
            "Loss: 0.354  Accuracy:0.855\n",
            "Validation Loss: 1.048  Val Accuracy: 0.738\n",
            "\n",
            "Finished Training\n"
          ],
          "name": "stdout"
        }
      ]
    },
    {
      "cell_type": "code",
      "metadata": {
        "colab_type": "code",
        "id": "gqUlwE_C_O1o",
        "colab": {},
        "outputId": "9b05b15b-a35d-49ca-934d-69f8440b3e1e"
      },
      "source": [
        "epoch = range(1, num_epochs+1)\n",
        "fig = plt.figure(figsize=(10, 15))\n",
        "plt.subplot(2,1,2)\n",
        "plt.plot(epoch, losses, label='Training loss')\n",
        "plt.plot(epoch, val_losses, label='Validation loss')\n",
        "plt.title('Training and Validation Loss')\n",
        "plt.xlabel('Epochs')\n",
        "plt.legend()\n",
        "plt.figure()\n",
        "plt.show()\n",
        "\n",
        "#fig = plt.figure(figsize=(10, 15))\n",
        "#plt.subplot(2,1,2)\n",
        "#plt.plot(epoch, accuracy, label='Training accuracy')\n",
        "#plt.plot(epoch, val_accuracy, label='Validation accuracy')\n",
        "#plt.title('Training and Validation Accuracy')\n",
        "#plt.xlabel('Epochs')\n",
        "#plt.legend()\n",
        "#plt.figure()\n",
        "#plt.show()\n"
      ],
      "execution_count": 0,
      "outputs": [
        {
          "output_type": "display_data",
          "data": {
            "image/png": "[encoded data removed]",
            "text/plain": [
              "<Figure size 720x1080 with 1 Axes>"
            ]
          },
          "metadata": {
            "tags": [],
            "needs_background": "light"
          }
        },
        {
          "output_type": "display_data",
          "data": {
            "text/plain": [
              "<Figure size 432x288 with 0 Axes>"
            ]
          },
          "metadata": {
            "tags": []
          }
        }
      ]
    },
    {
      "cell_type": "markdown",
      "metadata": {
        "colab_type": "text",
        "id": "Uv0itQCNDFee"
      },
      "source": [
        "## Learning Rate\n"
      ]
    },
    {
      "cell_type": "code",
      "metadata": {
        "colab_type": "code",
        "id": "DWm2mVDpE1C3",
        "colab": {}
      },
      "source": [
        "net_lr = OurNet()\n",
        "net_lr = net_lr.to(device)\n",
        "\n",
        "# optimizer\n",
        "import torch.optim as optim\n",
        "\n",
        "optimizer_lr = optim.Adam(net_lr.parameters(), lr=10)"
      ],
      "execution_count": 0,
      "outputs": []
    },
    {
      "cell_type": "code",
      "metadata": {
        "colab_type": "code",
        "id": "kpTjIJfEDFek",
        "colab": {
          "referenced_widgets": [
            "cfd1b60bfe70459086886e27f2d95506",
            "b921fc9bdecb431cbf1a38f0a33d9ecd",
            "4cabe5a72cac47b8af9d69c7cef7d42a",
            "f6e1d0ab210d4429afc1fbb0714e1d88",
            "f101909984e84197a7c3e76b45a5fc18",
            "eaafee31f5194d5fb4a2a0a5ace1d920"
          ]
        },
        "outputId": "57f70658-c20f-44a9-ce2d-46bde7327ec1"
      },
      "source": [
        "# number of loops over the dataset\n",
        "num_epochs = 5\n",
        "accuracy = []\n",
        "val_accuracy = []\n",
        "losses = []\n",
        "val_losses = []\n",
        "\n",
        "for epoch in tnrange(num_epochs):\n",
        "    running_loss = 0.0\n",
        "    correct_total= 0.0\n",
        "    num_samples_total=0.0\n",
        "    for i, data in tqdm_notebook(enumerate(train_data_loader)):\n",
        "        print(f\"Iteration: {i+1}/{len(train_data_loader)}\")\n",
        "        # get the inputs\n",
        "        inputs, labels = data\n",
        "        inputs, labels = inputs.to(device), labels.to(device)\n",
        "        # set the parameter gradients to zero\n",
        "        optimizer_lr.zero_grad()\n",
        "\n",
        "        # forward + backward + optimize\n",
        "        outputs = net_lr(inputs)\n",
        "        loss = criterion(outputs, labels)\n",
        "        loss.backward()\n",
        "        optimizer_lr.step()\n",
        "        \n",
        "        #compute accuracy\n",
        "        _, predicted = torch.max(outputs, 1)\n",
        "        b_len, corr = get_num_correct(predicted, labels)\n",
        "        num_samples_total +=b_len\n",
        "        correct_total +=corr\n",
        "        running_loss += loss.item()\n",
        "\n",
        "    \n",
        "    running_loss /= len(train_data_loader)\n",
        "    train_accuracy = correct_total/num_samples_total\n",
        "    val_loss, val_acc = evaluate(net_lr, validation_data_loader)\n",
        "    \n",
        "    print('Epoch: %d' %(epoch+1))\n",
        "    print('Loss: %.3f  Accuracy:%.3f' %(running_loss, train_accuracy))\n",
        "    print('Validation Loss: %.3f  Val Accuracy: %.3f' %(val_loss, val_acc))\n",
        "\n",
        "    losses.append(running_loss)\n",
        "    val_losses.append(val_loss)\n",
        "    accuracy.append(train_accuracy)\n",
        "    val_accuracy.append(val_acc)\n",
        "print('Finished Training')"
      ],
      "execution_count": 0,
      "outputs": [
        {
          "output_type": "display_data",
          "data": {
            "application/vnd.jupyter.widget-view+json": {
              "model_id": "cfd1b60bfe70459086886e27f2d95506",
              "version_major": 2,
              "version_minor": 0
            },
            "text/plain": [
              "HBox(children=(IntProgress(value=0, max=5), HTML(value='')))"
            ]
          },
          "metadata": {
            "tags": []
          }
        },
        {
          "output_type": "display_data",
          "data": {
            "application/vnd.jupyter.widget-view+json": {
              "model_id": "b921fc9bdecb431cbf1a38f0a33d9ecd",
              "version_major": 2,
              "version_minor": 0
            },
            "text/plain": [
              "HBox(children=(IntProgress(value=1, bar_style='info', max=1), HTML(value='')))"
            ]
          },
          "metadata": {
            "tags": []
          }
        },
        {
          "output_type": "stream",
          "text": [
            "Iteration: 1/15\n",
            "Iteration: 2/15\n",
            "Iteration: 3/15\n",
            "Iteration: 4/15\n",
            "Iteration: 5/15\n",
            "Iteration: 6/15\n",
            "Iteration: 7/15\n",
            "Iteration: 8/15\n",
            "Iteration: 9/15\n",
            "Iteration: 10/15\n",
            "Iteration: 11/15\n",
            "Iteration: 12/15\n",
            "Iteration: 13/15\n",
            "Iteration: 14/15\n",
            "Iteration: 15/15\n",
            "\n",
            "Epoch: 1\n",
            "Loss: 897257625.092  Accuracy:0.100\n",
            "Validation Loss: 56.091  Val Accuracy: 0.101\n"
          ],
          "name": "stdout"
        },
        {
          "output_type": "display_data",
          "data": {
            "application/vnd.jupyter.widget-view+json": {
              "model_id": "4cabe5a72cac47b8af9d69c7cef7d42a",
              "version_major": 2,
              "version_minor": 0
            },
            "text/plain": [
              "HBox(children=(IntProgress(value=1, bar_style='info', max=1), HTML(value='')))"
            ]
          },
          "metadata": {
            "tags": []
          }
        },
        {
          "output_type": "stream",
          "text": [
            "Iteration: 1/15\n",
            "Iteration: 2/15\n",
            "Iteration: 3/15\n",
            "Iteration: 4/15\n",
            "Iteration: 5/15\n",
            "Iteration: 6/15\n",
            "Iteration: 7/15\n",
            "Iteration: 8/15\n",
            "Iteration: 9/15\n",
            "Iteration: 10/15\n",
            "Iteration: 11/15\n",
            "Iteration: 12/15\n",
            "Iteration: 13/15\n",
            "Iteration: 14/15\n",
            "Iteration: 15/15\n",
            "\n",
            "Epoch: 2\n",
            "Loss: 29.148  Accuracy:0.103\n",
            "Validation Loss: 14.726  Val Accuracy: 0.097\n"
          ],
          "name": "stdout"
        },
        {
          "output_type": "display_data",
          "data": {
            "application/vnd.jupyter.widget-view+json": {
              "model_id": "f6e1d0ab210d4429afc1fbb0714e1d88",
              "version_major": 2,
              "version_minor": 0
            },
            "text/plain": [
              "HBox(children=(IntProgress(value=1, bar_style='info', max=1), HTML(value='')))"
            ]
          },
          "metadata": {
            "tags": []
          }
        },
        {
          "output_type": "stream",
          "text": [
            "Iteration: 1/15\n",
            "Iteration: 2/15\n",
            "Iteration: 3/15\n",
            "Iteration: 4/15\n",
            "Iteration: 5/15\n",
            "Iteration: 6/15\n",
            "Iteration: 7/15\n",
            "Iteration: 8/15\n",
            "Iteration: 9/15\n",
            "Iteration: 10/15\n",
            "Iteration: 11/15\n",
            "Iteration: 12/15\n",
            "Iteration: 13/15\n",
            "Iteration: 14/15\n",
            "Iteration: 15/15\n",
            "\n",
            "Epoch: 3\n",
            "Loss: 11.288  Accuracy:0.099\n",
            "Validation Loss: 8.048  Val Accuracy: 0.096\n"
          ],
          "name": "stdout"
        },
        {
          "output_type": "display_data",
          "data": {
            "application/vnd.jupyter.widget-view+json": {
              "model_id": "f101909984e84197a7c3e76b45a5fc18",
              "version_major": 2,
              "version_minor": 0
            },
            "text/plain": [
              "HBox(children=(IntProgress(value=1, bar_style='info', max=1), HTML(value='')))"
            ]
          },
          "metadata": {
            "tags": []
          }
        },
        {
          "output_type": "stream",
          "text": [
            "Iteration: 1/15\n",
            "Iteration: 2/15\n",
            "Iteration: 3/15\n",
            "Iteration: 4/15\n",
            "Iteration: 5/15\n",
            "Iteration: 6/15\n",
            "Iteration: 7/15\n",
            "Iteration: 8/15\n",
            "Iteration: 9/15\n",
            "Iteration: 10/15\n",
            "Iteration: 11/15\n",
            "Iteration: 12/15\n",
            "Iteration: 13/15\n",
            "Iteration: 14/15\n",
            "Iteration: 15/15\n",
            "\n",
            "Epoch: 4\n",
            "Loss: 4.722  Accuracy:0.100\n",
            "Validation Loss: 3.333  Val Accuracy: 0.114\n"
          ],
          "name": "stdout"
        },
        {
          "output_type": "display_data",
          "data": {
            "application/vnd.jupyter.widget-view+json": {
              "model_id": "eaafee31f5194d5fb4a2a0a5ace1d920",
              "version_major": 2,
              "version_minor": 0
            },
            "text/plain": [
              "HBox(children=(IntProgress(value=1, bar_style='info', max=1), HTML(value='')))"
            ]
          },
          "metadata": {
            "tags": []
          }
        },
        {
          "output_type": "stream",
          "text": [
            "Iteration: 1/15\n",
            "Iteration: 2/15\n",
            "Iteration: 3/15\n",
            "Iteration: 4/15\n",
            "Iteration: 5/15\n",
            "Iteration: 6/15\n",
            "Iteration: 7/15\n",
            "Iteration: 8/15\n",
            "Iteration: 9/15\n",
            "Iteration: 10/15\n",
            "Iteration: 11/15\n",
            "Iteration: 12/15\n",
            "Iteration: 13/15\n",
            "Iteration: 14/15\n",
            "Iteration: 15/15\n",
            "\n",
            "Epoch: 5\n",
            "Loss: 2.923  Accuracy:0.098\n",
            "Validation Loss: 2.610  Val Accuracy: 0.103\n",
            "\n",
            "Finished Training\n"
          ],
          "name": "stdout"
        }
      ]
    },
    {
      "cell_type": "code",
      "metadata": {
        "colab_type": "code",
        "id": "Nimt5PfzDFex",
        "colab": {},
        "outputId": "9ab42458-6beb-46f0-a078-8e216d863353"
      },
      "source": [
        "epoch = range(1, num_epochs+1)\n",
        "fig = plt.figure(figsize=(10, 15))\n",
        "plt.subplot(2,1,2)\n",
        "plt.plot(epoch, losses, label='Training loss')\n",
        "plt.plot(epoch, val_losses, label='Validation loss')\n",
        "plt.title('Training and Validation Loss')\n",
        "plt.xlabel('Epochs')\n",
        "plt.legend()\n",
        "plt.figure()\n",
        "plt.show()\n",
        "\n",
        "fig = plt.figure(figsize=(10, 15))\n",
        "plt.subplot(2,1,2)\n",
        "plt.plot(epoch, accuracy, label='Training accuracy')\n",
        "plt.plot(epoch, val_accuracy, label='Validation accuracy')\n",
        "plt.title('Training and Validation Accuracy')\n",
        "plt.xlabel('Epochs')\n",
        "plt.legend()\n",
        "plt.figure()\n",
        "plt.show()\n"
      ],
      "execution_count": 0,
      "outputs": [
        {
          "output_type": "display_data",
          "data": {
            "image/png": "[encoded data removed]",
            "text/plain": [
              "<Figure size 720x1080 with 1 Axes>"
            ]
          },
          "metadata": {
            "tags": [],
            "needs_background": "light"
          }
        },
        {
          "output_type": "display_data",
          "data": {
            "text/plain": [
              "<Figure size 432x288 with 0 Axes>"
            ]
          },
          "metadata": {
            "tags": []
          }
        },
        {
          "output_type": "display_data",
          "data": {
            "image/png": "[encoded data removed]",
            "text/plain": [
              "<Figure size 720x1080 with 1 Axes>"
            ]
          },
          "metadata": {
            "tags": [],
            "needs_background": "light"
          }
        },
        {
          "output_type": "display_data",
          "data": {
            "text/plain": [
              "<Figure size 432x288 with 0 Axes>"
            ]
          },
          "metadata": {
            "tags": []
          }
        }
      ]
    },
    {
      "cell_type": "markdown",
      "metadata": {
        "colab_type": "text",
        "id": "ri_Xkb97FKh1"
      },
      "source": [
        "# Homework - Train a model which achieves 80% accuracy on HAM10000"
      ]
    },
    {
      "cell_type": "code",
      "metadata": {
        "colab_type": "code",
        "id": "gnbscZH78eCv",
        "colab": {}
      },
      "source": [
        ""
      ],
      "execution_count": 0,
      "outputs": []
    }
  ]
}