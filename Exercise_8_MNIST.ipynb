{
 "cells": [
  {
   "cell_type": "markdown",
   "metadata": {
    "colab_type": "text",
    "id": "o5yOkGTUF6Kp"
   },
   "source": [
    "# Recap\n",
    "\n",
    "First we need access to data. \n",
    "- You can use this link to add the data to your drive: https://drive.google.com/drive/folders/1pHNxZVrlcKh5usWoNC_V7gR2WdeDutjv\n",
    "\n",
    "- Then go inside the folder **CS_for_MedStudents_data** and you will see the folder **HAM10000**.\n",
    "- Right click on the **HAM10000** folder and click on the **Add to my Drive** option.\n",
    "\n",
    "Now you can run the next cell"
   ]
  },
  {
   "cell_type": "code",
   "execution_count": 38,
   "metadata": {
    "colab": {},
    "colab_type": "code",
    "id": "L4ugGnx7F6Kw"
   },
   "outputs": [],
   "source": [
    "#from google.colab import drive\n",
    "#drive.mount('/content/drive')"
   ]
  },
  {
   "cell_type": "code",
   "execution_count": 39,
   "metadata": {
    "colab": {},
    "colab_type": "code",
    "id": "rtwesOsZF6K6"
   },
   "outputs": [],
   "source": [
    "# Check the directory\n",
    "#data_dir = \"/content/drive/My Drive/HAM10000\"\n",
    "data_dir = \"/home/tobiascz/Datasets/HAM10000_with_classfolders\"\n",
    "#data_dir = \"/home/tobiascz/Datasets/HAM10000_with_classfolders\"\n",
    "\n",
    "classes = [ 'actinic keratoses', 'basal cell carcinoma', 'benign keratosis-like lesions', \n",
    "           'dermatofibroma','melanoma', 'melanocytic nevi', 'vascular lesions']"
   ]
  },
  {
   "cell_type": "code",
   "execution_count": 40,
   "metadata": {
    "colab": {},
    "colab_type": "code",
    "id": "HjF-Aq9BF6K_"
   },
   "outputs": [],
   "source": [
    "import torchvision.transforms as transforms\n",
    "\n",
    "# Imagenet values\n",
    "norm_mean = (0.4914, 0.4822, 0.4465)\n",
    "norm_std = (0.2023, 0.1994, 0.2010)\n",
    "\n",
    "# define the transformations the images go through each time it is used for training\n",
    "# includes augmentation AND normalization as described above\n",
    "augmentation_train = transforms.Compose([\n",
    "                                  # resize image to the network input size\n",
    "                                  transforms.Resize((224,224)),\n",
    "                                  # randomly perform a horizontal flip of the image\n",
    "                                  transforms.RandomHorizontalFlip(),\n",
    "                                  # rotate the image with a angle from 0 to 60 (chosen randomly)\n",
    "                                  transforms.RandomRotation(degrees=60),\n",
    "                                  # convert the image into a tensor so it can be processed by the GPU\n",
    "                                  transforms.ToTensor(),\n",
    "                                  # normalize the image with the mean and std of ImageNet\n",
    "                                  transforms.Normalize(norm_mean, norm_std),\n",
    "                                   ])"
   ]
  },
  {
   "cell_type": "code",
   "execution_count": 41,
   "metadata": {
    "colab": {},
    "colab_type": "code",
    "id": "yS7bZZuOF6LE"
   },
   "outputs": [],
   "source": [
    "# no augmentation for the test data only resizing, conversion to tensor and normalization\n",
    "augmentation_test = transforms.Compose([\n",
    "                    transforms.Resize((224,224)),\n",
    "                    transforms.ToTensor(),\n",
    "                    transforms.Normalize((0.4914, 0.4822, 0.4465), (0.2023, 0.1994, 0.2010)),\n",
    "                    ])\n"
   ]
  },
  {
   "cell_type": "code",
   "execution_count": 42,
   "metadata": {
    "colab": {},
    "colab_type": "code",
    "id": "v194TjXLF6LH"
   },
   "outputs": [
    {
     "name": "stdout",
     "output_type": "stream",
     "text": [
      "/home/tobiascz/Datasets/HAM10000_with_classfolders\n"
     ]
    }
   ],
   "source": [
    "import torchvision\n",
    "\n",
    "\n",
    "toy_dataset_train = torchvision.datasets.MNIST(\".\", train=True, transform=None, target_transform=None, download=True)\n",
    "toy_dataset_train = torchvision.datasets.MNIST(\".\", train=False, transform=None, target_transform=None, download=True)\n",
    "\n",
    "\n",
    "print(data_dir)\n",
    "# create an instance of the image folder class to load images by classes defined with the folders given\n",
    "#dataset = torchvision.datasets.ImageFolder(root= data_dir, transform= augmentation_train)"
   ]
  },
  {
   "cell_type": "code",
   "execution_count": 44,
   "metadata": {
    "colab": {},
    "colab_type": "code",
    "id": "dKLdUbv6t0Qs"
   },
   "outputs": [
    {
     "name": "stdout",
     "output_type": "stream",
     "text": [
      "10000\n"
     ]
    }
   ],
   "source": [
    "print(len(toy_dataset_train))\n",
    "from tqdm import tnrange, tqdm_notebook\n",
    "import matplotlib.pyplot as plt\n",
    "%matplotlib inline"
   ]
  },
  {
   "cell_type": "code",
   "execution_count": 45,
   "metadata": {
    "colab": {},
    "colab_type": "code",
    "id": "jB0u2jdsF6LK"
   },
   "outputs": [],
   "source": [
    "import torch\n",
    "from sklearn.model_selection import train_test_split\n",
    "\n",
    "# get the total amount of images in the dataset\n",
    "num_train = len(dataset)\n",
    "\n",
    "# create a list of indices for the whole dataset\n",
    "indices = list(range(num_train))\n",
    "\n",
    "# get the class labels from the dataset object (0-6)\n",
    "class_labels = dataset.targets\n",
    "\n",
    "# define the percentage of data that is not used for training\n",
    "split_size = 0.2\n",
    "\n",
    "# call a function of sklarn that takes care of splitting the dataset into training and validation+testing\n",
    "train_indices, test_indices, class_labels_train, class_labels_test = train_test_split(indices,\n",
    "                                                                                       class_labels,\n",
    "                                                                                       test_size=split_size,\n",
    "                                                                                       shuffle=True,\n",
    "                                                                                       stratify= class_labels,\n",
    "                                                                                       random_state=42)\n",
    "\n",
    "# call a function of sklearn that splits validation+training into validation and training\n",
    "train_indices, val_indices = train_test_split(train_indices,\n",
    "                                               test_size=split_size,\n",
    "                                               shuffle=True,\n",
    "                                               stratify= class_labels_train,\n",
    "                                               random_state=42)\n",
    "\n",
    "# Creating data samplers and loaders using the indices:\n",
    "SubsetRandomSampler = torch.utils.data.sampler.SubsetRandomSampler\n",
    "\n",
    "# create instances of a torch class for picking random samples from our dataset\n",
    "train_samples = SubsetRandomSampler(train_indices)\n",
    "val_samples = SubsetRandomSampler(val_indices)\n",
    "test_samples = SubsetRandomSampler(test_indices)"
   ]
  },
  {
   "cell_type": "code",
   "execution_count": 46,
   "metadata": {
    "colab": {},
    "colab_type": "code",
    "id": "4LW-_scRF6LQ"
   },
   "outputs": [],
   "source": [
    "# define the batch size for training, val and testing\n",
    "batch_size, validation_batch_size, test_batch_size = 512, 512, 512\n",
    "\n",
    "# create and instance of a dataloader for training\n",
    "train_data_loader = torch.utils.data.DataLoader(dataset, batch_size=batch_size, shuffle=False,num_workers=4, sampler= train_samples)\n",
    "\n",
    "# overwrite the dataset instance with the test augmentation (this is not nice code)\n",
    "dataset = torchvision.datasets.ImageFolder(root= data_dir, transform=augmentation_test)\n",
    "# create instances of a dataloaders for validation and testing\n",
    "validation_data_loader = torch.utils.data.DataLoader(dataset, batch_size=validation_batch_size, shuffle=False, sampler=val_samples, num_workers=4)\n",
    "test_data_loader = torch.utils.data.DataLoader(dataset, batch_size=test_batch_size, shuffle=False, sampler=test_samples, num_workers=4)"
   ]
  },
  {
   "cell_type": "code",
   "execution_count": 47,
   "metadata": {
    "colab": {},
    "colab_type": "code",
    "id": "foGNkuwzF6LV"
   },
   "outputs": [
    {
     "name": "stdout",
     "output_type": "stream",
     "text": [
      "Running on: cuda\n"
     ]
    }
   ],
   "source": [
    "# Declare the network\n",
    "\n",
    "from torch import nn\n",
    "import torch.nn.functional as F\n",
    "device = torch.device('cuda' if torch.cuda.is_available() else 'cpu')\n",
    "print(\"Running on:\",device)\n",
    "\n",
    "num_classes = len(classes)\n",
    "class LeNet(nn.Module):\n",
    "    def __init__(self):\n",
    "        super(LeNet, self).__init__()\n",
    "        self.conv1 = nn.Conv2d(1, 6, (5,5), padding=2)\n",
    "        self.conv2 = nn.Conv2d(6, 16, (5,5)) \n",
    "        self.fc1   = nn.Linear(16*54*54, 120)\n",
    "        self.fc2   = nn.Linear(120, 84)\n",
    "        self.fc3   = nn.Linear(84, num_classes)\n",
    "    def forward(self, x):\n",
    "        x = F.max_pool2d(F.relu(self.conv1(x)), (2,2))\n",
    "        x = F.max_pool2d(F.relu(self.conv2(x)), (2,2))\n",
    "        x = x.view(-1, self.num_flat_features(x))\n",
    "        x = F.relu(self.fc1(x))\n",
    "        x = F.relu(self.fc2(x))\n",
    "        x = self.fc3(x)\n",
    "        return x\n",
    "    def num_flat_features(self, x):\n",
    "        size = x.size()[1:]\n",
    "        num_features = 1\n",
    "        for s in size:\n",
    "            num_features *= s\n",
    "        return num_features\n",
    "\n",
    "net = LeNet()\n",
    "net = net.to(device)"
   ]
  },
  {
   "cell_type": "code",
   "execution_count": 50,
   "metadata": {
    "colab": {},
    "colab_type": "code",
    "id": "vCJn-DV5F6Lc"
   },
   "outputs": [
    {
     "ename": "IndexError",
     "evalue": "index 7 is out of bounds for axis 0 with size 7",
     "output_type": "error",
     "traceback": [
      "\u001b[0;31m---------------------------------------------------------------------------\u001b[0m",
      "\u001b[0;31mIndexError\u001b[0m                                Traceback (most recent call last)",
      "\u001b[0;32m<ipython-input-50-a0ba48731368>\u001b[0m in \u001b[0;36m<module>\u001b[0;34m\u001b[0m\n\u001b[1;32m     12\u001b[0m \u001b[0;31m# populate the count array\u001b[0m\u001b[0;34m\u001b[0m\u001b[0;34m\u001b[0m\u001b[0;34m\u001b[0m\u001b[0m\n\u001b[1;32m     13\u001b[0m \u001b[0;32mfor\u001b[0m \u001b[0ml\u001b[0m \u001b[0;32min\u001b[0m \u001b[0mclass_labels\u001b[0m\u001b[0;34m:\u001b[0m\u001b[0;34m\u001b[0m\u001b[0;34m\u001b[0m\u001b[0m\n\u001b[0;32m---> 14\u001b[0;31m   \u001b[0mcount_labels\u001b[0m\u001b[0;34m[\u001b[0m\u001b[0ml\u001b[0m\u001b[0;34m]\u001b[0m \u001b[0;34m+=\u001b[0m \u001b[0;36m1\u001b[0m\u001b[0;34m\u001b[0m\u001b[0;34m\u001b[0m\u001b[0m\n\u001b[0m\u001b[1;32m     15\u001b[0m \u001b[0;34m\u001b[0m\u001b[0m\n\u001b[1;32m     16\u001b[0m \u001b[0;31m# get median count\u001b[0m\u001b[0;34m\u001b[0m\u001b[0;34m\u001b[0m\u001b[0;34m\u001b[0m\u001b[0m\n",
      "\u001b[0;31mIndexError\u001b[0m: index 7 is out of bounds for axis 0 with size 7"
     ]
    }
   ],
   "source": [
    "# Median Frequency Balancing\n",
    "\n",
    "import numpy as np\n",
    "\n",
    "# get the class labels of each image\n",
    "class_labels = toy_dataset_train.targets\n",
    "# empty array for counting instance of each class\n",
    "count_labels = np.zeros(len(classes))\n",
    "# empty array for weights of each class\n",
    "class_weights = np.zeros(len(classes))\n",
    "\n",
    "# populate the count array\n",
    "for l in class_labels:\n",
    "  count_labels[l] += 1\n",
    "\n",
    "# get median count\n",
    "median_freq = np.median(count_labels)\n",
    "\n",
    "# calculate the weigths\n",
    "for i in range(len(classes)):\n",
    "  class_weights[i] = median_freq/count_labels[i]\n",
    "\n",
    "# print the weights\n",
    "for i in range(len(classes)):\n",
    "    print(classes[i],\":\", class_weights[i])"
   ]
  },
  {
   "cell_type": "markdown",
   "metadata": {
    "colab_type": "text",
    "id": "4pPUGMq3NCnP"
   },
   "source": [
    "Now we define the loss function with the weights"
   ]
  },
  {
   "cell_type": "code",
   "execution_count": 11,
   "metadata": {
    "colab": {},
    "colab_type": "code",
    "id": "j-Q72RJ-M84P"
   },
   "outputs": [],
   "source": [
    "class_weights = torch.FloatTensor(class_weights).to(device)\n",
    "\n",
    "# loss function\n",
    "criterion = nn.CrossEntropyLoss(weight = class_weights)"
   ]
  },
  {
   "cell_type": "code",
   "execution_count": 12,
   "metadata": {
    "colab": {},
    "colab_type": "code",
    "id": "pmMjYnCjF6Lk"
   },
   "outputs": [],
   "source": [
    "# optimizer\n",
    "\n",
    "import torch.optim as optim\n",
    "\n",
    "optimizer = optim.Adam(net.parameters(), lr=1e-5)"
   ]
  },
  {
   "cell_type": "markdown",
   "metadata": {
    "colab_type": "text",
    "id": "VcGGs0Bk8eCU"
   },
   "source": [
    "# Evaluation functions\n",
    "\n",
    "Here we write a function which calculates the accuracy of model based on the validation dataset."
   ]
  },
  {
   "cell_type": "code",
   "execution_count": 13,
   "metadata": {
    "colab": {},
    "colab_type": "code",
    "id": "-tVHzZn78eCW"
   },
   "outputs": [],
   "source": [
    "from sklearn.metrics import accuracy_score\n",
    "\n",
    "def get_num_correct(predicted, labels):\n",
    "    '''\n",
    "    This function is used to decide if the predicted and ground truth classes are same or not.\n",
    "    args: \n",
    "    predicted = output of model\n",
    "    labels = true output\n",
    "    '''\n",
    "    batch_len, correct= 0, 0\n",
    "    batch_len = labels.size(0)\n",
    "    correct = (predicted == labels).sum().item()\n",
    "    # correct = [1,1,1,1,2,3,4,5] predicted = [1,2,1,1,,2,3,4,6]\n",
    "    return batch_len, correct\n",
    "\n",
    "def evaluate(model, val_loader):\n",
    "    '''\n",
    "    This function calculates the total accuracy of the model on the validation set.\n",
    "    args:\n",
    "    model = the network we want to evaluate\n",
    "    val_loader = the validation data loader\n",
    "    '''\n",
    "    losses= 0\n",
    "    num_samples_total=0\n",
    "    correct_total=0\n",
    "    model.eval()\n",
    "    for inputs, labels in val_loader:\n",
    "        inputs, labels = inputs.to(device), labels.to(device)\n",
    "        out = model(inputs)\n",
    "        _, predicted = torch.max(out, 1)\n",
    "        loss = criterion(out, labels)\n",
    "        losses += loss.item() \n",
    "        b_len, corr = get_num_correct(predicted, labels)\n",
    "        num_samples_total +=b_len\n",
    "        correct_total +=corr\n",
    "    accuracy = correct_total/num_samples_total\n",
    "    losses = losses/len(val_loader)\n",
    "    return losses, accuracy"
   ]
  },
  {
   "cell_type": "markdown",
   "metadata": {
    "colab_type": "text",
    "id": "2oGr-AfqF6Ln"
   },
   "source": [
    "# Training Loop"
   ]
  },
  {
   "cell_type": "raw",
   "metadata": {
    "colab": {},
    "colab_type": "code",
    "id": "zyc3or5oF6Lo"
   },
   "source": [
    "# number of loops over the dataset\n",
    "num_epochs = 5\n",
    "accuracy = []\n",
    "val_accuracy = []\n",
    "losses = []\n",
    "val_losses = []\n",
    "\n",
    "print(net)\n",
    "print(\"Started Training\")\n",
    "\n",
    "for epoch in tnrange(num_epochs):\n",
    "    running_loss = 0.0\n",
    "    correct_total= 0.0\n",
    "    num_samples_total=0.0\n",
    "    print(\"...\")\n",
    "    for i, data in tqdm_notebook(enumerate(train_data_loader)):\n",
    "        print(f\"Iteration: {i+1}/{len(train_data_loader)}\")\n",
    "        # get the inputs\n",
    "        inputs, labels = data\n",
    "        inputs, labels = inputs.to(device), labels.to(device)\n",
    "        # set the parameter gradients to zero\n",
    "        optimizer.zero_grad()\n",
    "\n",
    "        # forward + backward + optimize\n",
    "        outputs = net(inputs)\n",
    "        loss = criterion(outputs, labels)\n",
    "        loss.backward()\n",
    "        optimizer.step()\n",
    "        \n",
    "        #compute accuracy\n",
    "        _, predicted = torch.max(outputs, 1)\n",
    "        b_len, corr = get_num_correct(predicted, labels)\n",
    "        num_samples_total +=b_len\n",
    "        correct_total +=corr\n",
    "        running_loss += loss.item()\n",
    "\n",
    "    \n",
    "    running_loss /= len(train_data_loader)\n",
    "    train_accuracy = correct_total/num_samples_total\n",
    "    val_loss, val_acc = evaluate(net, validation_data_loader)\n",
    "    \n",
    "    print('Epoch: %d' %(epoch+1))\n",
    "    print('Loss: %.3f  Accuracy:%.3f' %(running_loss, train_accuracy))\n",
    "    print('Validation Loss: %.3f  Val Accuracy: %.3f' %(val_loss, val_acc))\n",
    "\n",
    "    losses.append(running_loss)\n",
    "    val_losses.append(val_loss)\n",
    "    accuracy.append(train_accuracy)\n",
    "    val_accuracy.append(val_acc)\n",
    "print('Finished Training')"
   ]
  },
  {
   "cell_type": "markdown",
   "metadata": {
    "colab_type": "text",
    "id": "yw_TaHF98eCf"
   },
   "source": [
    "# Train and Validation Curves\n",
    "\n",
    "To better understand whether our network is actually learning something, we plot the training and validation curves.\n",
    "\n",
    "There are two types of curves:\n",
    "- Loss Curves: Plotting the trend of the loss per epoch.\n",
    "- Accuracy Curves: Plotting accuracy, that is the performance of our model per epoch."
   ]
  },
  {
   "cell_type": "raw",
   "metadata": {
    "colab": {},
    "colab_type": "code",
    "id": "LwjnpkM5HDBO"
   },
   "source": [
    "from tqdm import tnrange, tqdm_notebook\n",
    "import matplotlib.pyplot as plt\n",
    "%matplotlib inline \n",
    "\n",
    "epoch = range(1, num_epochs+1)\n",
    "fig = plt.figure(figsize=(10, 15))\n",
    "plt.subplot(2,1,2)\n",
    "plt.plot(epoch, losses, label='Training loss')\n",
    "plt.plot(epoch, val_losses, label='Validation loss')\n",
    "plt.title('Training and Validation Loss')\n",
    "plt.xlabel('Epochs')\n",
    "plt.legend()\n",
    "#plt.figure()\n",
    "plt.show()\n",
    "\n",
    "fig = plt.figure(figsize=(10, 15))\n",
    "plt.subplot(2,1,2)\n",
    "plt.plot(epoch, accuracy, label='Training accuracy')\n",
    "plt.plot(epoch, val_accuracy, label='Validation accuracy')\n",
    "plt.title('Training and Validation Accuracy')\n",
    "plt.xlabel('Epochs')\n",
    "plt.legend()\n",
    "#plt.figure()\n",
    "plt.show()\n",
    "\n",
    "### fix los scala\n"
   ]
  },
  {
   "cell_type": "markdown",
   "metadata": {
    "colab_type": "text",
    "id": "d_inKdz_9xzi"
   },
   "source": [
    "# Common Training Errors\n",
    "\n",
    "Let us look at some errors and how to detect them.\n",
    "\n"
   ]
  },
  {
   "cell_type": "markdown",
   "metadata": {
    "colab_type": "text",
    "id": "U8OKIouM-V0L"
   },
   "source": [
    "## No Backpropagation"
   ]
  },
  {
   "cell_type": "code",
   "execution_count": 14,
   "metadata": {
    "colab": {},
    "colab_type": "code",
    "id": "lcqvRDpJ-ieJ"
   },
   "outputs": [
    {
     "name": "stdout",
     "output_type": "stream",
     "text": [
      "LeNet(\n",
      "  (conv1): Conv2d(3, 6, kernel_size=(5, 5), stride=(1, 1), padding=(2, 2))\n",
      "  (conv2): Conv2d(6, 16, kernel_size=(5, 5), stride=(1, 1))\n",
      "  (fc1): Linear(in_features=46656, out_features=120, bias=True)\n",
      "  (fc2): Linear(in_features=120, out_features=84, bias=True)\n",
      "  (fc3): Linear(in_features=84, out_features=7, bias=True)\n",
      ")\n",
      "Started Training\n"
     ]
    },
    {
     "data": {
      "application/vnd.jupyter.widget-view+json": {
       "model_id": "2feab917c9d04fdd982911dd97ed2cdf",
       "version_major": 2,
       "version_minor": 0
      },
      "text/plain": [
       "HBox(children=(IntProgress(value=0, max=5), HTML(value='')))"
      ]
     },
     "metadata": {},
     "output_type": "display_data"
    },
    {
     "data": {
      "application/vnd.jupyter.widget-view+json": {
       "model_id": "45029cbdb3374a3aa409ed302ef973d3",
       "version_major": 2,
       "version_minor": 0
      },
      "text/plain": [
       "HBox(children=(IntProgress(value=1, bar_style='info', max=1), HTML(value='')))"
      ]
     },
     "metadata": {},
     "output_type": "display_data"
    },
    {
     "name": "stdout",
     "output_type": "stream",
     "text": [
      "Iteration: 1/13\n",
      "Iteration: 2/13\n",
      "Iteration: 3/13\n",
      "Iteration: 4/13\n",
      "Iteration: 5/13\n",
      "Iteration: 6/13\n",
      "Iteration: 7/13\n",
      "Iteration: 8/13\n",
      "Iteration: 9/13\n",
      "Iteration: 10/13\n",
      "Iteration: 11/13\n",
      "Iteration: 12/13\n",
      "Iteration: 13/13\n",
      "\n",
      "Epoch: 1\n",
      "Loss: 1.947  Accuracy:0.110\n",
      "Validation Loss: 1.947  Val Accuracy: 0.110\n"
     ]
    },
    {
     "data": {
      "application/vnd.jupyter.widget-view+json": {
       "model_id": "5bf02f84961c4f44b8951b26953d8a67",
       "version_major": 2,
       "version_minor": 0
      },
      "text/plain": [
       "HBox(children=(IntProgress(value=1, bar_style='info', max=1), HTML(value='')))"
      ]
     },
     "metadata": {},
     "output_type": "display_data"
    },
    {
     "name": "stdout",
     "output_type": "stream",
     "text": [
      "Iteration: 1/13\n",
      "Iteration: 2/13\n",
      "Iteration: 3/13\n",
      "Iteration: 4/13\n",
      "Iteration: 5/13\n",
      "Iteration: 6/13\n",
      "Iteration: 7/13\n",
      "Iteration: 8/13\n",
      "Iteration: 9/13\n",
      "Iteration: 10/13\n",
      "Iteration: 11/13\n",
      "Iteration: 12/13\n",
      "Iteration: 13/13\n",
      "\n",
      "Epoch: 2\n",
      "Loss: 1.947  Accuracy:0.110\n",
      "Validation Loss: 1.948  Val Accuracy: 0.110\n"
     ]
    },
    {
     "data": {
      "application/vnd.jupyter.widget-view+json": {
       "model_id": "59de7ed275a54d188f5f364fbdc8647c",
       "version_major": 2,
       "version_minor": 0
      },
      "text/plain": [
       "HBox(children=(IntProgress(value=1, bar_style='info', max=1), HTML(value='')))"
      ]
     },
     "metadata": {},
     "output_type": "display_data"
    },
    {
     "name": "stdout",
     "output_type": "stream",
     "text": [
      "Iteration: 1/13\n",
      "Iteration: 2/13\n",
      "Iteration: 3/13\n",
      "Iteration: 4/13\n",
      "Iteration: 5/13\n",
      "Iteration: 6/13\n",
      "Iteration: 7/13\n",
      "Iteration: 8/13\n",
      "Iteration: 9/13\n",
      "Iteration: 10/13\n",
      "Iteration: 11/13\n",
      "Iteration: 12/13\n",
      "Iteration: 13/13\n",
      "\n",
      "Epoch: 3\n",
      "Loss: 1.947  Accuracy:0.110\n",
      "Validation Loss: 1.943  Val Accuracy: 0.110\n"
     ]
    },
    {
     "data": {
      "application/vnd.jupyter.widget-view+json": {
       "model_id": "47229282ceb844de802152d1b134e856",
       "version_major": 2,
       "version_minor": 0
      },
      "text/plain": [
       "HBox(children=(IntProgress(value=1, bar_style='info', max=1), HTML(value='')))"
      ]
     },
     "metadata": {},
     "output_type": "display_data"
    },
    {
     "name": "stdout",
     "output_type": "stream",
     "text": [
      "Iteration: 1/13\n",
      "Iteration: 2/13\n",
      "Iteration: 3/13\n",
      "Iteration: 4/13\n",
      "Iteration: 5/13\n",
      "Iteration: 6/13\n",
      "Iteration: 7/13\n",
      "Iteration: 8/13\n",
      "Iteration: 9/13\n",
      "Iteration: 10/13\n",
      "Iteration: 11/13\n",
      "Iteration: 12/13\n",
      "Iteration: 13/13\n",
      "\n",
      "Epoch: 4\n",
      "Loss: 1.947  Accuracy:0.110\n",
      "Validation Loss: 1.947  Val Accuracy: 0.110\n"
     ]
    },
    {
     "data": {
      "application/vnd.jupyter.widget-view+json": {
       "model_id": "19036029ff374efbbd84b72b80ccb70f",
       "version_major": 2,
       "version_minor": 0
      },
      "text/plain": [
       "HBox(children=(IntProgress(value=1, bar_style='info', max=1), HTML(value='')))"
      ]
     },
     "metadata": {},
     "output_type": "display_data"
    },
    {
     "name": "stdout",
     "output_type": "stream",
     "text": [
      "Iteration: 1/13\n",
      "Iteration: 2/13\n",
      "Iteration: 3/13\n",
      "Iteration: 4/13\n",
      "Iteration: 5/13\n",
      "Iteration: 6/13\n",
      "Iteration: 7/13\n",
      "Iteration: 8/13\n",
      "Iteration: 9/13\n",
      "Iteration: 10/13\n",
      "Iteration: 11/13\n",
      "Iteration: 12/13\n",
      "Iteration: 13/13\n",
      "\n",
      "Epoch: 5\n",
      "Loss: 1.947  Accuracy:0.110\n",
      "Validation Loss: 1.950  Val Accuracy: 0.110\n",
      "\n",
      "Finished Training\n"
     ]
    }
   ],
   "source": [
    "# number of loops over the dataset\n",
    "num_epochs = 5\n",
    "accuracy = []\n",
    "val_accuracy = []\n",
    "losses = []\n",
    "val_losses = []\n",
    "\n",
    "# intialize the network\n",
    "net_backprop = LeNet()\n",
    "net_backprop = net_backprop.to(device)\n",
    "optimizer = optim.Adam(net_backprop.parameters(), lr=1e-5)\n",
    "print(net_backprop)\n",
    "print(\"Started Training\")\n",
    "\n",
    "for epoch in tnrange(num_epochs):\n",
    "    running_loss = 0.0\n",
    "    correct_total= 0.0\n",
    "    num_samples_total=0.0\n",
    "    for i, data in tqdm_notebook(enumerate(train_data_loader)):\n",
    "        print(f\"Iteration: {i+1}/{len(train_data_loader)}\")\n",
    "        # get the inputs\n",
    "        inputs, labels = data\n",
    "        inputs, labels = inputs.to(device), labels.to(device)\n",
    "        # set the parameter gradients to zero\n",
    "        optimizer.zero_grad()\n",
    "\n",
    "        # forward + backward + optimize\n",
    "        outputs = net_backprop(inputs)\n",
    "        loss = criterion(outputs, labels)\n",
    "        optimizer.step()\n",
    "        \n",
    "        #compute accuracy\n",
    "        _, predicted = torch.max(outputs, 1)\n",
    "        b_len, corr = get_num_correct(predicted, labels)\n",
    "        num_samples_total +=b_len\n",
    "        correct_total +=corr\n",
    "        running_loss += loss.item()\n",
    "\n",
    "    \n",
    "    running_loss /= len(train_data_loader)\n",
    "    train_accuracy = correct_total/num_samples_total\n",
    "    val_loss, val_acc = evaluate(net_backprop, validation_data_loader)\n",
    "    \n",
    "    print('Epoch: %d' %(epoch+1))\n",
    "    print('Loss: %.3f  Accuracy:%.3f' %(running_loss, train_accuracy))\n",
    "    print('Validation Loss: %.3f  Val Accuracy: %.3f' %(val_loss, val_acc))\n",
    "\n",
    "    losses.append(running_loss)\n",
    "    val_losses.append(val_loss)\n",
    "    accuracy.append(train_accuracy)\n",
    "    val_accuracy.append(val_acc)\n",
    "print('Finished Training')"
   ]
  },
  {
   "cell_type": "code",
   "execution_count": 15,
   "metadata": {
    "colab": {},
    "colab_type": "code",
    "id": "aHvK074c--qT"
   },
   "outputs": [
    {
     "data": {
      "image/png": "[encoded data removed]",
      "text/plain": [
       "<Figure size 720x1080 with 1 Axes>"
      ]
     },
     "metadata": {
      "needs_background": "light"
     },
     "output_type": "display_data"
    },
    {
     "data": {
      "text/plain": [
       "<Figure size 432x288 with 0 Axes>"
      ]
     },
     "metadata": {},
     "output_type": "display_data"
    },
    {
     "data": {
      "image/png": "[encoded data removed]",
      "text/plain": [
       "<Figure size 720x1080 with 1 Axes>"
      ]
     },
     "metadata": {
      "needs_background": "light"
     },
     "output_type": "display_data"
    },
    {
     "data": {
      "text/plain": [
       "<Figure size 432x288 with 0 Axes>"
      ]
     },
     "metadata": {},
     "output_type": "display_data"
    },
    {
     "data": {
      "image/png": "[encoded data removed]",
      "text/plain": [
       "<Figure size 720x1080 with 1 Axes>"
      ]
     },
     "metadata": {
      "needs_background": "light"
     },
     "output_type": "display_data"
    },
    {
     "data": {
      "text/plain": [
       "<Figure size 432x288 with 0 Axes>"
      ]
     },
     "metadata": {},
     "output_type": "display_data"
    },
    {
     "data": {
      "image/png": "[encoded data removed]",
      "text/plain": [
       "<Figure size 720x1080 with 1 Axes>"
      ]
     },
     "metadata": {
      "needs_background": "light"
     },
     "output_type": "display_data"
    },
    {
     "data": {
      "text/plain": [
       "<Figure size 432x288 with 0 Axes>"
      ]
     },
     "metadata": {},
     "output_type": "display_data"
    }
   ],
   "source": [
    "# Rounding of the losses and accuracies to 2 decimal places.\n",
    "from tqdm import tnrange, tqdm_notebook\n",
    "import matplotlib.pyplot as plt\n",
    "%matplotlib inline \n",
    "n = 1 # round 2 places\n",
    "losses = [round(x,n) for x in losses]\n",
    "val_losses = [round(x,n) for x in val_losses]\n",
    "accuracy = [round(x,n) for x in accuracy]\n",
    "val_accuracy = [round(x,n) for x in val_accuracy]\n",
    "\n",
    "epoch = range(1, num_epochs+1)\n",
    "fig = plt.figure(figsize=(10, 15))\n",
    "plt.subplot(2,1,2)\n",
    "plt.plot(epoch, losses, label='Training loss')\n",
    "plt.title('Training Loss')\n",
    "plt.xlabel('Epochs')\n",
    "plt.legend()\n",
    "plt.figure()\n",
    "plt.show()\n",
    "\n",
    "fig = plt.figure(figsize=(10, 15))\n",
    "plt.subplot(2,1,2)\n",
    "plt.plot(epoch, val_losses, label='Validation loss')\n",
    "plt.title('Validation Loss')\n",
    "plt.xlabel('Epochs')\n",
    "plt.legend()\n",
    "plt.figure()\n",
    "plt.show()\n",
    "\n",
    "\n",
    "fig = plt.figure(figsize=(10, 15))\n",
    "plt.subplot(2,1,2)\n",
    "plt.plot(epoch, accuracy, label='Training accuracy')\n",
    "plt.title('Training Accuracy')\n",
    "plt.xlabel('Epochs')\n",
    "plt.legend()\n",
    "plt.figure()\n",
    "plt.show()\n",
    "\n",
    "fig = plt.figure(figsize=(10, 15))\n",
    "plt.subplot(2,1,2)\n",
    "plt.plot(epoch, val_accuracy, label='Validation accuracy')\n",
    "plt.title('Validation Accuracy')\n",
    "plt.xlabel('Epochs')\n",
    "plt.legend()\n",
    "plt.figure()\n",
    "plt.show()"
   ]
  },
  {
   "cell_type": "markdown",
   "metadata": {
    "colab_type": "text",
    "id": "oQoSUM41_IIC"
   },
   "source": [
    "## Data Scarcity\n",
    "\n",
    "We need enough data to learn a good model. Less data means less learning.\n",
    "\n",
    "Let's see how the performance is affected when we have less data.\n"
   ]
  },
  {
   "cell_type": "code",
   "execution_count": 16,
   "metadata": {
    "colab": {},
    "colab_type": "code",
    "id": "M1HSj_HeC0nn"
   },
   "outputs": [],
   "source": [
    "# we use the test data for training instead.\n",
    "\n",
    "train_data_loader_small = test_data_loader"
   ]
  },
  {
   "cell_type": "code",
   "execution_count": 24,
   "metadata": {
    "colab": {},
    "colab_type": "code",
    "id": "Z3J_A9Iy_O1c"
   },
   "outputs": [
    {
     "name": "stdout",
     "output_type": "stream",
     "text": [
      "LeNet(\n",
      "  (conv1): Conv2d(3, 6, kernel_size=(5, 5), stride=(1, 1), padding=(2, 2))\n",
      "  (conv2): Conv2d(6, 16, kernel_size=(5, 5), stride=(1, 1))\n",
      "  (fc1): Linear(in_features=46656, out_features=120, bias=True)\n",
      "  (fc2): Linear(in_features=120, out_features=84, bias=True)\n",
      "  (fc3): Linear(in_features=84, out_features=7, bias=True)\n",
      ")\n",
      "Started Training\n"
     ]
    },
    {
     "data": {
      "application/vnd.jupyter.widget-view+json": {
       "model_id": "70e8fe2e47cb4f2f8540429561619709",
       "version_major": 2,
       "version_minor": 0
      },
      "text/plain": [
       "HBox(children=(IntProgress(value=0, max=10), HTML(value='')))"
      ]
     },
     "metadata": {},
     "output_type": "display_data"
    },
    {
     "data": {
      "application/vnd.jupyter.widget-view+json": {
       "model_id": "3cbc94cbc42644d7a85ac570b6b99a10",
       "version_major": 2,
       "version_minor": 0
      },
      "text/plain": [
       "HBox(children=(IntProgress(value=1, bar_style='info', max=1), HTML(value='')))"
      ]
     },
     "metadata": {},
     "output_type": "display_data"
    },
    {
     "name": "stdout",
     "output_type": "stream",
     "text": [
      "Iteration: 1/4\n",
      "Iteration: 2/4\n",
      "Iteration: 3/4\n",
      "Iteration: 4/4\n",
      "\n",
      "Epoch: 1\n",
      "Loss: 0.599  Accuracy:0.020\n",
      "Validation Loss: 1.943  Val Accuracy: 0.028\n"
     ]
    },
    {
     "data": {
      "application/vnd.jupyter.widget-view+json": {
       "model_id": "2268fc065fce4db3a4043b6de8888c73",
       "version_major": 2,
       "version_minor": 0
      },
      "text/plain": [
       "HBox(children=(IntProgress(value=1, bar_style='info', max=1), HTML(value='')))"
      ]
     },
     "metadata": {},
     "output_type": "display_data"
    },
    {
     "name": "stdout",
     "output_type": "stream",
     "text": [
      "Iteration: 1/4\n",
      "Iteration: 2/4\n",
      "Iteration: 3/4\n",
      "Iteration: 4/4\n",
      "\n",
      "Epoch: 2\n",
      "Loss: 0.597  Accuracy:0.033\n",
      "Validation Loss: 1.942  Val Accuracy: 0.037\n"
     ]
    },
    {
     "data": {
      "application/vnd.jupyter.widget-view+json": {
       "model_id": "b06e1b87d9b64c9ab8da9b5dfed6f6fc",
       "version_major": 2,
       "version_minor": 0
      },
      "text/plain": [
       "HBox(children=(IntProgress(value=1, bar_style='info', max=1), HTML(value='')))"
      ]
     },
     "metadata": {},
     "output_type": "display_data"
    },
    {
     "name": "stdout",
     "output_type": "stream",
     "text": [
      "Iteration: 1/4\n",
      "Iteration: 2/4\n",
      "Iteration: 3/4\n",
      "Iteration: 4/4\n",
      "\n",
      "Epoch: 3\n",
      "Loss: 0.596  Accuracy:0.030\n",
      "Validation Loss: 1.937  Val Accuracy: 0.035\n"
     ]
    },
    {
     "data": {
      "application/vnd.jupyter.widget-view+json": {
       "model_id": "9ca1c20b9c94402eaef3453228344b23",
       "version_major": 2,
       "version_minor": 0
      },
      "text/plain": [
       "HBox(children=(IntProgress(value=1, bar_style='info', max=1), HTML(value='')))"
      ]
     },
     "metadata": {},
     "output_type": "display_data"
    },
    {
     "name": "stdout",
     "output_type": "stream",
     "text": [
      "Iteration: 1/4\n",
      "Iteration: 2/4\n",
      "Iteration: 3/4\n",
      "Iteration: 4/4\n",
      "\n",
      "Epoch: 4\n",
      "Loss: 0.594  Accuracy:0.044\n",
      "Validation Loss: 1.932  Val Accuracy: 0.052\n"
     ]
    },
    {
     "data": {
      "application/vnd.jupyter.widget-view+json": {
       "model_id": "2eeb39500f214c608089e585663dbfcb",
       "version_major": 2,
       "version_minor": 0
      },
      "text/plain": [
       "HBox(children=(IntProgress(value=1, bar_style='info', max=1), HTML(value='')))"
      ]
     },
     "metadata": {},
     "output_type": "display_data"
    },
    {
     "name": "stdout",
     "output_type": "stream",
     "text": [
      "Iteration: 1/4\n",
      "Iteration: 2/4\n",
      "Iteration: 3/4\n",
      "Iteration: 4/4\n",
      "\n",
      "Epoch: 5\n",
      "Loss: 0.593  Accuracy:0.054\n",
      "Validation Loss: 1.924  Val Accuracy: 0.054\n"
     ]
    },
    {
     "data": {
      "application/vnd.jupyter.widget-view+json": {
       "model_id": "762a4dd3b97a4218877fbc0406489a61",
       "version_major": 2,
       "version_minor": 0
      },
      "text/plain": [
       "HBox(children=(IntProgress(value=1, bar_style='info', max=1), HTML(value='')))"
      ]
     },
     "metadata": {},
     "output_type": "display_data"
    },
    {
     "name": "stdout",
     "output_type": "stream",
     "text": [
      "Iteration: 1/4\n",
      "Iteration: 2/4\n",
      "Iteration: 3/4\n",
      "Iteration: 4/4\n",
      "\n",
      "Epoch: 6\n",
      "Loss: 0.591  Accuracy:0.061\n",
      "Validation Loss: 1.915  Val Accuracy: 0.125\n"
     ]
    },
    {
     "data": {
      "application/vnd.jupyter.widget-view+json": {
       "model_id": "1b084d2b7c4e4d8684d9f97f1667213d",
       "version_major": 2,
       "version_minor": 0
      },
      "text/plain": [
       "HBox(children=(IntProgress(value=1, bar_style='info', max=1), HTML(value='')))"
      ]
     },
     "metadata": {},
     "output_type": "display_data"
    },
    {
     "name": "stdout",
     "output_type": "stream",
     "text": [
      "Iteration: 1/4\n",
      "Iteration: 2/4\n",
      "Iteration: 3/4\n",
      "Iteration: 4/4\n",
      "\n",
      "Epoch: 7\n",
      "Loss: 0.590  Accuracy:0.200\n",
      "Validation Loss: 1.920  Val Accuracy: 0.296\n"
     ]
    },
    {
     "data": {
      "application/vnd.jupyter.widget-view+json": {
       "model_id": "4e2e6ca1acc4465fa56064c0ea8683d9",
       "version_major": 2,
       "version_minor": 0
      },
      "text/plain": [
       "HBox(children=(IntProgress(value=1, bar_style='info', max=1), HTML(value='')))"
      ]
     },
     "metadata": {},
     "output_type": "display_data"
    },
    {
     "name": "stdout",
     "output_type": "stream",
     "text": [
      "Iteration: 1/4\n",
      "Iteration: 2/4\n",
      "Iteration: 3/4\n",
      "Iteration: 4/4\n",
      "\n",
      "Epoch: 8\n",
      "Loss: 0.587  Accuracy:0.318\n",
      "Validation Loss: 1.907  Val Accuracy: 0.334\n"
     ]
    },
    {
     "data": {
      "application/vnd.jupyter.widget-view+json": {
       "model_id": "b4d4f28d9aa343b7bed025e3dbb87968",
       "version_major": 2,
       "version_minor": 0
      },
      "text/plain": [
       "HBox(children=(IntProgress(value=1, bar_style='info', max=1), HTML(value='')))"
      ]
     },
     "metadata": {},
     "output_type": "display_data"
    },
    {
     "name": "stdout",
     "output_type": "stream",
     "text": [
      "Iteration: 1/4\n",
      "Iteration: 2/4\n",
      "Iteration: 3/4\n",
      "Iteration: 4/4\n",
      "\n",
      "Epoch: 9\n",
      "Loss: 0.585  Accuracy:0.334\n",
      "Validation Loss: 1.904  Val Accuracy: 0.341\n"
     ]
    },
    {
     "data": {
      "application/vnd.jupyter.widget-view+json": {
       "model_id": "88213fff516e4fa4903218ac1d9ef128",
       "version_major": 2,
       "version_minor": 0
      },
      "text/plain": [
       "HBox(children=(IntProgress(value=1, bar_style='info', max=1), HTML(value='')))"
      ]
     },
     "metadata": {},
     "output_type": "display_data"
    },
    {
     "name": "stdout",
     "output_type": "stream",
     "text": [
      "Iteration: 1/4\n",
      "Iteration: 2/4\n",
      "Iteration: 3/4\n",
      "Iteration: 4/4\n",
      "\n",
      "Epoch: 10\n",
      "Loss: 0.584  Accuracy:0.322\n",
      "Validation Loss: 1.906  Val Accuracy: 0.338\n",
      "\n",
      "Finished Training\n"
     ]
    }
   ],
   "source": [
    "# number of loops over the dataset\n",
    "num_epochs = 10\n",
    "accuracy = []\n",
    "val_accuracy = []\n",
    "losses = []\n",
    "val_losses = []\n",
    "\n",
    "# intialize the network\n",
    "net_data = LeNet()\n",
    "net_data = net_data.to(device)\n",
    "optimizer = optim.Adam(net_data.parameters(), lr=1e-5)\n",
    "print(net_data)\n",
    "print(\"Started Training\")\n",
    "\n",
    "for epoch in tnrange(num_epochs):\n",
    "    running_loss = 0.0\n",
    "    correct_total= 0.0\n",
    "    num_samples_total=0.0\n",
    "    for i, data in tqdm_notebook(enumerate(train_data_loader_small)):\n",
    "        print(f\"Iteration: {i+1}/{len(train_data_loader_small)}\")\n",
    "        # get the inputs\n",
    "        inputs, labels = data\n",
    "        inputs, labels = inputs.to(device), labels.to(device)\n",
    "        # set the parameter gradients to zero\n",
    "        optimizer.zero_grad()\n",
    "\n",
    "        # forward + backward + optimize\n",
    "        outputs = net_data(inputs)\n",
    "        loss = criterion(outputs, labels)\n",
    "        loss.backward()\n",
    "        optimizer.step()\n",
    "        \n",
    "        #compute accuracy\n",
    "        _, predicted = torch.max(outputs, 1)\n",
    "        b_len, corr = get_num_correct(predicted, labels)\n",
    "        num_samples_total +=b_len\n",
    "        correct_total +=corr\n",
    "        running_loss += loss.item()\n",
    "\n",
    "    \n",
    "    running_loss /= len(train_data_loader)\n",
    "    train_accuracy = correct_total/num_samples_total\n",
    "    val_loss, val_acc = evaluate(net_data, validation_data_loader)\n",
    "    \n",
    "    print('Epoch: %d' %(epoch+1))\n",
    "    print('Loss: %.3f  Accuracy:%.3f' %(running_loss, train_accuracy))\n",
    "    print('Validation Loss: %.3f  Val Accuracy: %.3f' %(val_loss, val_acc))\n",
    "\n",
    "    losses.append(running_loss)\n",
    "    val_losses.append(val_loss)\n",
    "    accuracy.append(train_accuracy)\n",
    "    val_accuracy.append(val_acc)\n",
    "print('Finished Training')"
   ]
  },
  {
   "cell_type": "code",
   "execution_count": 25,
   "metadata": {
    "colab": {},
    "colab_type": "code",
    "id": "gqUlwE_C_O1o"
   },
   "outputs": [
    {
     "data": {
      "image/png": "[encoded data removed]",
      "text/plain": [
       "<Figure size 720x1080 with 1 Axes>"
      ]
     },
     "metadata": {
      "needs_background": "light"
     },
     "output_type": "display_data"
    },
    {
     "data": {
      "text/plain": [
       "<Figure size 432x288 with 0 Axes>"
      ]
     },
     "metadata": {},
     "output_type": "display_data"
    },
    {
     "data": {
      "image/png": "[encoded data removed]",
      "text/plain": [
       "<Figure size 720x1080 with 1 Axes>"
      ]
     },
     "metadata": {
      "needs_background": "light"
     },
     "output_type": "display_data"
    },
    {
     "data": {
      "text/plain": [
       "<Figure size 432x288 with 0 Axes>"
      ]
     },
     "metadata": {},
     "output_type": "display_data"
    }
   ],
   "source": [
    "epoch = range(1, num_epochs+1)\n",
    "fig = plt.figure(figsize=(10, 15))\n",
    "plt.subplot(2,1,2)\n",
    "plt.plot(epoch, losses, label='Training loss')\n",
    "plt.plot(epoch, val_losses, label='Validation loss')\n",
    "plt.title('Training and Validation Loss')\n",
    "plt.xlabel('Epochs')\n",
    "plt.legend()\n",
    "plt.figure()\n",
    "plt.show()\n",
    "\n",
    "#fig = plt.figure(figsize=(10, 15))\n",
    "#plt.subplot(2,1,2)\n",
    "#plt.plot(epoch, accuracy, label='Training accuracy')\n",
    "#plt.plot(epoch, val_accuracy, label='Validation accuracy')\n",
    "#plt.title('Training and Validation Accuracy')\n",
    "#plt.xlabel('Epochs')\n",
    "#plt.legend()\n",
    "#plt.figure()\n",
    "#plt.show()\n"
   ]
  },
  {
   "cell_type": "markdown",
   "metadata": {
    "colab_type": "text",
    "id": "hLX2MFZk_yHP"
   },
   "source": [
    "## Choosing the Model"
   ]
  },
  {
   "cell_type": "code",
   "execution_count": 26,
   "metadata": {
    "colab": {},
    "colab_type": "code",
    "id": "QHoxAMF3AnNH"
   },
   "outputs": [],
   "source": [
    "# Declare the network\n",
    "\n",
    "from torch import nn\n",
    "import torch.nn.functional as F\n",
    "device = torch.device('cuda' if torch.cuda.is_available() else 'cpu')\n",
    "\n",
    "num_classes = len(classes)\n",
    "class SmallNet(nn.Module):\n",
    "    def __init__(self):\n",
    "        super(SmallNet, self).__init__()\n",
    "        self.conv1 = nn.Conv2d(3, 6, (5,5), padding=2)\n",
    "        self.fc1   = nn.Linear(112*112*6, num_classes)\n",
    "    def forward(self, x):\n",
    "        x = F.max_pool2d(F.relu(self.conv1(x)), (2,2))\n",
    "        x = x.view(-1, self.num_flat_features(x))\n",
    "        x = self.fc1(x)\n",
    "        return x\n",
    "    def num_flat_features(self, x):\n",
    "        size = x.size()[1:]\n",
    "        num_features = 1\n",
    "        for s in size:\n",
    "            num_features *= s\n",
    "        return num_features\n",
    "\n",
    "net_small = SmallNet()\n",
    "net_small = net_small.to(device)\n",
    "optimizer = optim.Adam(net_small.parameters(), lr=1e-5)"
   ]
  },
  {
   "cell_type": "code",
   "execution_count": 27,
   "metadata": {
    "colab": {},
    "colab_type": "code",
    "id": "9Z78DG5u_yHT"
   },
   "outputs": [
    {
     "name": "stdout",
     "output_type": "stream",
     "text": [
      "LeNet(\n",
      "  (conv1): Conv2d(3, 6, kernel_size=(5, 5), stride=(1, 1), padding=(2, 2))\n",
      "  (conv2): Conv2d(6, 16, kernel_size=(5, 5), stride=(1, 1))\n",
      "  (fc1): Linear(in_features=46656, out_features=120, bias=True)\n",
      "  (fc2): Linear(in_features=120, out_features=84, bias=True)\n",
      "  (fc3): Linear(in_features=84, out_features=7, bias=True)\n",
      ")\n",
      "Started Training\n"
     ]
    },
    {
     "data": {
      "application/vnd.jupyter.widget-view+json": {
       "model_id": "67b5ab8936884a3ea95b373f335c9794",
       "version_major": 2,
       "version_minor": 0
      },
      "text/plain": [
       "HBox(children=(IntProgress(value=0, max=5), HTML(value='')))"
      ]
     },
     "metadata": {},
     "output_type": "display_data"
    },
    {
     "data": {
      "application/vnd.jupyter.widget-view+json": {
       "model_id": "92b2be69928c4d398c658d9da8fb3bd7",
       "version_major": 2,
       "version_minor": 0
      },
      "text/plain": [
       "HBox(children=(IntProgress(value=1, bar_style='info', max=1), HTML(value='')))"
      ]
     },
     "metadata": {},
     "output_type": "display_data"
    },
    {
     "name": "stdout",
     "output_type": "stream",
     "text": [
      "Iteration: 1/13\n",
      "Iteration: 2/13\n",
      "Iteration: 3/13\n",
      "Iteration: 4/13\n",
      "Iteration: 5/13\n",
      "Iteration: 6/13\n",
      "Iteration: 7/13\n",
      "Iteration: 8/13\n",
      "Iteration: 9/13\n",
      "Iteration: 10/13\n",
      "Iteration: 11/13\n",
      "Iteration: 12/13\n",
      "Iteration: 13/13\n",
      "\n",
      "Epoch: 1\n",
      "Loss: 1.918  Accuracy:0.267\n",
      "Validation Loss: 1.914  Val Accuracy: 0.293\n"
     ]
    },
    {
     "data": {
      "application/vnd.jupyter.widget-view+json": {
       "model_id": "e53d48f8db324ecc82529b8af92589ae",
       "version_major": 2,
       "version_minor": 0
      },
      "text/plain": [
       "HBox(children=(IntProgress(value=1, bar_style='info', max=1), HTML(value='')))"
      ]
     },
     "metadata": {},
     "output_type": "display_data"
    },
    {
     "name": "stdout",
     "output_type": "stream",
     "text": [
      "Iteration: 1/13\n",
      "Iteration: 2/13\n",
      "Iteration: 3/13\n",
      "Iteration: 4/13\n",
      "Iteration: 5/13\n",
      "Iteration: 6/13\n",
      "Iteration: 7/13\n",
      "Iteration: 8/13\n",
      "Iteration: 9/13\n",
      "Iteration: 10/13\n",
      "Iteration: 11/13\n",
      "Iteration: 12/13\n",
      "Iteration: 13/13\n",
      "\n",
      "Epoch: 2\n",
      "Loss: 1.843  Accuracy:0.396\n",
      "Validation Loss: 1.793  Val Accuracy: 0.499\n"
     ]
    },
    {
     "data": {
      "application/vnd.jupyter.widget-view+json": {
       "model_id": "361dd20059f44486a7416abd0c4b5e68",
       "version_major": 2,
       "version_minor": 0
      },
      "text/plain": [
       "HBox(children=(IntProgress(value=1, bar_style='info', max=1), HTML(value='')))"
      ]
     },
     "metadata": {},
     "output_type": "display_data"
    },
    {
     "name": "stdout",
     "output_type": "stream",
     "text": [
      "Iteration: 1/13\n",
      "Iteration: 2/13\n",
      "Iteration: 3/13\n",
      "Iteration: 4/13\n",
      "Iteration: 5/13\n",
      "Iteration: 6/13\n",
      "Iteration: 7/13\n",
      "Iteration: 8/13\n",
      "Iteration: 9/13\n",
      "Iteration: 10/13\n",
      "Iteration: 11/13\n",
      "Iteration: 12/13\n",
      "Iteration: 13/13\n",
      "\n",
      "Epoch: 3\n",
      "Loss: 1.801  Accuracy:0.461\n",
      "Validation Loss: 1.758  Val Accuracy: 0.446\n"
     ]
    },
    {
     "data": {
      "application/vnd.jupyter.widget-view+json": {
       "model_id": "7b4ac1c77e0e4cec9b92f13d6632c9a1",
       "version_major": 2,
       "version_minor": 0
      },
      "text/plain": [
       "HBox(children=(IntProgress(value=1, bar_style='info', max=1), HTML(value='')))"
      ]
     },
     "metadata": {},
     "output_type": "display_data"
    },
    {
     "name": "stdout",
     "output_type": "stream",
     "text": [
      "Iteration: 1/13\n",
      "Iteration: 2/13\n",
      "Iteration: 3/13\n",
      "Iteration: 4/13\n",
      "Iteration: 5/13\n",
      "Iteration: 6/13\n",
      "Iteration: 7/13\n",
      "Iteration: 8/13\n",
      "Iteration: 9/13\n",
      "Iteration: 10/13\n",
      "Iteration: 11/13\n",
      "Iteration: 12/13\n",
      "Iteration: 13/13\n",
      "\n",
      "Epoch: 4\n",
      "Loss: 1.761  Accuracy:0.470\n",
      "Validation Loss: 1.755  Val Accuracy: 0.466\n"
     ]
    },
    {
     "data": {
      "application/vnd.jupyter.widget-view+json": {
       "model_id": "b5307364a1314f3cae088790974daf9a",
       "version_major": 2,
       "version_minor": 0
      },
      "text/plain": [
       "HBox(children=(IntProgress(value=1, bar_style='info', max=1), HTML(value='')))"
      ]
     },
     "metadata": {},
     "output_type": "display_data"
    },
    {
     "name": "stdout",
     "output_type": "stream",
     "text": [
      "Iteration: 1/13\n",
      "Iteration: 2/13\n",
      "Iteration: 3/13\n",
      "Iteration: 4/13\n",
      "Iteration: 5/13\n",
      "Iteration: 6/13\n",
      "Iteration: 7/13\n",
      "Iteration: 8/13\n",
      "Iteration: 9/13\n",
      "Iteration: 10/13\n",
      "Iteration: 11/13\n",
      "Iteration: 12/13\n",
      "Iteration: 13/13\n",
      "\n",
      "Epoch: 5\n",
      "Loss: 1.731  Accuracy:0.481\n",
      "Validation Loss: 1.742  Val Accuracy: 0.441\n",
      "\n",
      "Finished Training\n"
     ]
    }
   ],
   "source": [
    "# number of loops over the dataset\n",
    "num_epochs = 5\n",
    "accuracy = []\n",
    "val_accuracy = []\n",
    "losses = []\n",
    "val_losses = []\n",
    "\n",
    "print(net)\n",
    "print(\"Started Training\")\n",
    "\n",
    "for epoch in tnrange(num_epochs):\n",
    "    running_loss = 0.0\n",
    "    correct_total= 0.0\n",
    "    num_samples_total=0.0\n",
    "    for i, data in tqdm_notebook(enumerate(train_data_loader)):\n",
    "        print(f\"Iteration: {i+1}/{len(train_data_loader)}\")\n",
    "        # get the inputs\n",
    "        inputs, labels = data\n",
    "        inputs, labels = inputs.to(device), labels.to(device)\n",
    "        # set the parameter gradients to zero\n",
    "        optimizer.zero_grad()\n",
    "\n",
    "        # forward + backward + optimize\n",
    "        outputs = net_small(inputs)\n",
    "        loss = criterion(outputs, labels)\n",
    "        loss.backward()\n",
    "        optimizer.step()\n",
    "        \n",
    "        #compute accuracy\n",
    "        _, predicted = torch.max(outputs, 1)\n",
    "        b_len, corr = get_num_correct(predicted, labels)\n",
    "        num_samples_total +=b_len\n",
    "        correct_total +=corr\n",
    "        running_loss += loss.item()\n",
    "\n",
    "    \n",
    "    running_loss /= len(train_data_loader)\n",
    "    train_accuracy = correct_total/num_samples_total\n",
    "    val_loss, val_acc = evaluate(net_small, validation_data_loader)\n",
    "    \n",
    "    print('Epoch: %d' %(epoch+1))\n",
    "    print('Loss: %.3f  Accuracy:%.3f' %(running_loss, train_accuracy))\n",
    "    print('Validation Loss: %.3f  Val Accuracy: %.3f' %(val_loss, val_acc))\n",
    "\n",
    "    losses.append(running_loss)\n",
    "    val_losses.append(val_loss)\n",
    "    accuracy.append(train_accuracy)\n",
    "    val_accuracy.append(val_acc)\n",
    "print('Finished Training')"
   ]
  },
  {
   "cell_type": "code",
   "execution_count": 28,
   "metadata": {
    "colab": {},
    "colab_type": "code",
    "id": "ZBkZo8TF_yHg"
   },
   "outputs": [
    {
     "data": {
      "image/png": "[encoded data removed]",
      "text/plain": [
       "<Figure size 720x1080 with 1 Axes>"
      ]
     },
     "metadata": {
      "needs_background": "light"
     },
     "output_type": "display_data"
    },
    {
     "data": {
      "text/plain": [
       "<Figure size 432x288 with 0 Axes>"
      ]
     },
     "metadata": {},
     "output_type": "display_data"
    },
    {
     "data": {
      "image/png": "[encoded data removed]",
      "text/plain": [
       "<Figure size 720x1080 with 1 Axes>"
      ]
     },
     "metadata": {
      "needs_background": "light"
     },
     "output_type": "display_data"
    },
    {
     "data": {
      "text/plain": [
       "<Figure size 432x288 with 0 Axes>"
      ]
     },
     "metadata": {},
     "output_type": "display_data"
    }
   ],
   "source": [
    "epoch = range(1, num_epochs+1)\n",
    "fig = plt.figure(figsize=(10, 15))\n",
    "plt.subplot(2,1,2)\n",
    "plt.plot(epoch, losses, label='Training loss')\n",
    "plt.plot(epoch, val_losses, label='Validation loss')\n",
    "plt.title('Training and Validation Loss')\n",
    "plt.xlabel('Epochs')\n",
    "plt.legend()\n",
    "plt.figure()\n",
    "plt.show()\n",
    "\n",
    "fig = plt.figure(figsize=(10, 15))\n",
    "plt.subplot(2,1,2)\n",
    "plt.plot(epoch, accuracy, label='Training accuracy')\n",
    "plt.plot(epoch, val_accuracy, label='Validation accuracy')\n",
    "plt.title('Training and Validation Accuracy')\n",
    "plt.xlabel('Epochs')\n",
    "plt.legend()\n",
    "plt.figure()\n",
    "plt.show()\n"
   ]
  },
  {
   "cell_type": "markdown",
   "metadata": {
    "colab_type": "text",
    "id": "Uv0itQCNDFee"
   },
   "source": [
    "## Learning Rate\n"
   ]
  },
  {
   "cell_type": "code",
   "execution_count": 29,
   "metadata": {
    "colab": {},
    "colab_type": "code",
    "id": "DWm2mVDpE1C3"
   },
   "outputs": [],
   "source": [
    "net_lr = LeNet()\n",
    "net_lr = net_lr.to(device)\n",
    "\n",
    "# optimizer\n",
    "import torch.optim as optim\n",
    "\n",
    "optimizer_lr = optim.Adam(net_lr.parameters(), lr=10)"
   ]
  },
  {
   "cell_type": "code",
   "execution_count": 30,
   "metadata": {
    "colab": {},
    "colab_type": "code",
    "id": "kpTjIJfEDFek"
   },
   "outputs": [
    {
     "data": {
      "application/vnd.jupyter.widget-view+json": {
       "model_id": "733c6baa14524b0a9e6b079e25232e07",
       "version_major": 2,
       "version_minor": 0
      },
      "text/plain": [
       "HBox(children=(IntProgress(value=0, max=5), HTML(value='')))"
      ]
     },
     "metadata": {},
     "output_type": "display_data"
    },
    {
     "data": {
      "application/vnd.jupyter.widget-view+json": {
       "model_id": "7945e8d0126f4c2190805210134d307b",
       "version_major": 2,
       "version_minor": 0
      },
      "text/plain": [
       "HBox(children=(IntProgress(value=1, bar_style='info', max=1), HTML(value='')))"
      ]
     },
     "metadata": {},
     "output_type": "display_data"
    },
    {
     "name": "stdout",
     "output_type": "stream",
     "text": [
      "Iteration: 1/13\n",
      "Iteration: 2/13\n",
      "Iteration: 3/13\n",
      "Iteration: 4/13\n",
      "Iteration: 5/13\n",
      "Iteration: 6/13\n",
      "Iteration: 7/13\n",
      "Iteration: 8/13\n",
      "Iteration: 9/13\n",
      "Iteration: 10/13\n",
      "Iteration: 11/13\n",
      "Iteration: 12/13\n",
      "Iteration: 13/13\n",
      "\n",
      "Epoch: 1\n",
      "Loss: 123415432112299.109  Accuracy:0.251\n",
      "Validation Loss: 107588.732  Val Accuracy: 0.669\n"
     ]
    },
    {
     "data": {
      "application/vnd.jupyter.widget-view+json": {
       "model_id": "3052c89a0a704910ab3a043c14321f21",
       "version_major": 2,
       "version_minor": 0
      },
      "text/plain": [
       "HBox(children=(IntProgress(value=1, bar_style='info', max=1), HTML(value='')))"
      ]
     },
     "metadata": {},
     "output_type": "display_data"
    },
    {
     "name": "stdout",
     "output_type": "stream",
     "text": [
      "Iteration: 1/13\n",
      "Iteration: 2/13\n",
      "Iteration: 3/13\n",
      "Iteration: 4/13\n",
      "Iteration: 5/13\n",
      "Iteration: 6/13\n",
      "Iteration: 7/13\n",
      "Iteration: 8/13\n",
      "Iteration: 9/13\n",
      "Iteration: 10/13\n",
      "Iteration: 11/13\n",
      "Iteration: 12/13\n",
      "Iteration: 13/13\n",
      "\n",
      "Epoch: 2\n",
      "Loss: 250903.865  Accuracy:0.157\n",
      "Validation Loss: 98809.119  Val Accuracy: 0.011\n"
     ]
    },
    {
     "data": {
      "application/vnd.jupyter.widget-view+json": {
       "model_id": "8b97d57916994e748da43b1ec27c1812",
       "version_major": 2,
       "version_minor": 0
      },
      "text/plain": [
       "HBox(children=(IntProgress(value=1, bar_style='info', max=1), HTML(value='')))"
      ]
     },
     "metadata": {},
     "output_type": "display_data"
    },
    {
     "name": "stdout",
     "output_type": "stream",
     "text": [
      "Iteration: 1/13\n",
      "Iteration: 2/13\n",
      "Iteration: 3/13\n",
      "Iteration: 4/13\n",
      "Iteration: 5/13\n",
      "Iteration: 6/13\n",
      "Iteration: 7/13\n",
      "Iteration: 8/13\n",
      "Iteration: 9/13\n",
      "Iteration: 10/13\n",
      "Iteration: 11/13\n",
      "Iteration: 12/13\n",
      "Iteration: 13/13\n",
      "\n",
      "Epoch: 3\n",
      "Loss: 120066.078  Accuracy:0.123\n",
      "Validation Loss: 69161.664  Val Accuracy: 0.033\n"
     ]
    },
    {
     "data": {
      "application/vnd.jupyter.widget-view+json": {
       "model_id": "088bde982a33480486e2766d2a0a7420",
       "version_major": 2,
       "version_minor": 0
      },
      "text/plain": [
       "HBox(children=(IntProgress(value=1, bar_style='info', max=1), HTML(value='')))"
      ]
     },
     "metadata": {},
     "output_type": "display_data"
    },
    {
     "name": "stdout",
     "output_type": "stream",
     "text": [
      "Iteration: 1/13\n",
      "Iteration: 2/13\n",
      "Iteration: 3/13\n",
      "Iteration: 4/13\n",
      "Iteration: 5/13\n",
      "Iteration: 6/13\n",
      "Iteration: 7/13\n",
      "Iteration: 8/13\n",
      "Iteration: 9/13\n",
      "Iteration: 10/13\n",
      "Iteration: 11/13\n",
      "Iteration: 12/13\n",
      "Iteration: 13/13\n",
      "\n",
      "Epoch: 4\n",
      "Loss: 60924.249  Accuracy:0.153\n",
      "Validation Loss: 2235.023  Val Accuracy: 0.014\n"
     ]
    },
    {
     "data": {
      "application/vnd.jupyter.widget-view+json": {
       "model_id": "d9180ad361d447909bf74bd60ff62931",
       "version_major": 2,
       "version_minor": 0
      },
      "text/plain": [
       "HBox(children=(IntProgress(value=1, bar_style='info', max=1), HTML(value='')))"
      ]
     },
     "metadata": {},
     "output_type": "display_data"
    },
    {
     "name": "stdout",
     "output_type": "stream",
     "text": [
      "Iteration: 1/13\n",
      "Iteration: 2/13\n",
      "Iteration: 3/13\n",
      "Iteration: 4/13\n",
      "Iteration: 5/13\n",
      "Iteration: 6/13\n",
      "Iteration: 7/13\n",
      "Iteration: 8/13\n",
      "Iteration: 9/13\n",
      "Iteration: 10/13\n",
      "Iteration: 11/13\n",
      "Iteration: 12/13\n",
      "Iteration: 13/13\n",
      "\n",
      "Epoch: 5\n",
      "Loss: 1086.022  Accuracy:0.028\n",
      "Validation Loss: 226.144  Val Accuracy: 0.011\n",
      "\n",
      "Finished Training\n"
     ]
    }
   ],
   "source": [
    "# number of loops over the dataset\n",
    "num_epochs = 5\n",
    "accuracy = []\n",
    "val_accuracy = []\n",
    "losses = []\n",
    "val_losses = []\n",
    "\n",
    "for epoch in tnrange(num_epochs):\n",
    "    running_loss = 0.0\n",
    "    correct_total= 0.0\n",
    "    num_samples_total=0.0\n",
    "    for i, data in tqdm_notebook(enumerate(train_data_loader)):\n",
    "        print(f\"Iteration: {i+1}/{len(train_data_loader)}\")\n",
    "        # get the inputs\n",
    "        inputs, labels = data\n",
    "        inputs, labels = inputs.to(device), labels.to(device)\n",
    "        # set the parameter gradients to zero\n",
    "        optimizer_lr.zero_grad()\n",
    "\n",
    "        # forward + backward + optimize\n",
    "        outputs = net_lr(inputs)\n",
    "        loss = criterion(outputs, labels)\n",
    "        loss.backward()\n",
    "        optimizer_lr.step()\n",
    "        \n",
    "        #compute accuracy\n",
    "        _, predicted = torch.max(outputs, 1)\n",
    "        b_len, corr = get_num_correct(predicted, labels)\n",
    "        num_samples_total +=b_len\n",
    "        correct_total +=corr\n",
    "        running_loss += loss.item()\n",
    "\n",
    "    \n",
    "    running_loss /= len(train_data_loader)\n",
    "    train_accuracy = correct_total/num_samples_total\n",
    "    val_loss, val_acc = evaluate(net_lr, validation_data_loader)\n",
    "    \n",
    "    print('Epoch: %d' %(epoch+1))\n",
    "    print('Loss: %.3f  Accuracy:%.3f' %(running_loss, train_accuracy))\n",
    "    print('Validation Loss: %.3f  Val Accuracy: %.3f' %(val_loss, val_acc))\n",
    "\n",
    "    losses.append(running_loss)\n",
    "    val_losses.append(val_loss)\n",
    "    accuracy.append(train_accuracy)\n",
    "    val_accuracy.append(val_acc)\n",
    "print('Finished Training')"
   ]
  },
  {
   "cell_type": "code",
   "execution_count": 31,
   "metadata": {
    "colab": {},
    "colab_type": "code",
    "id": "Nimt5PfzDFex"
   },
   "outputs": [
    {
     "data": {
      "image/png": "[encoded data removed]",
      "text/plain": [
       "<Figure size 720x1080 with 1 Axes>"
      ]
     },
     "metadata": {
      "needs_background": "light"
     },
     "output_type": "display_data"
    },
    {
     "data": {
      "text/plain": [
       "<Figure size 432x288 with 0 Axes>"
      ]
     },
     "metadata": {},
     "output_type": "display_data"
    },
    {
     "data": {
      "image/png": "[encoded data removed]",
      "text/plain": [
       "<Figure size 720x1080 with 1 Axes>"
      ]
     },
     "metadata": {
      "needs_background": "light"
     },
     "output_type": "display_data"
    },
    {
     "data": {
      "text/plain": [
       "<Figure size 432x288 with 0 Axes>"
      ]
     },
     "metadata": {},
     "output_type": "display_data"
    }
   ],
   "source": [
    "epoch = range(1, num_epochs+1)\n",
    "fig = plt.figure(figsize=(10, 15))\n",
    "plt.subplot(2,1,2)\n",
    "plt.plot(epoch, losses, label='Training loss')\n",
    "plt.plot(epoch, val_losses, label='Validation loss')\n",
    "plt.title('Training and Validation Loss')\n",
    "plt.xlabel('Epochs')\n",
    "plt.legend()\n",
    "plt.figure()\n",
    "plt.show()\n",
    "\n",
    "fig = plt.figure(figsize=(10, 15))\n",
    "plt.subplot(2,1,2)\n",
    "plt.plot(epoch, accuracy, label='Training accuracy')\n",
    "plt.plot(epoch, val_accuracy, label='Validation accuracy')\n",
    "plt.title('Training and Validation Accuracy')\n",
    "plt.xlabel('Epochs')\n",
    "plt.legend()\n",
    "plt.figure()\n",
    "plt.show()\n"
   ]
  },
  {
   "cell_type": "markdown",
   "metadata": {
    "colab_type": "text",
    "id": "wKSGJ8y44hmO"
   },
   "source": [
    "## Loss Function\n",
    "\n",
    "Choosing the correct loss functions is very important. In our task, we had an class imbalance in the dataset. So, we needed to use **weighted cross entropy loss function**.\n",
    "\n",
    "Let's see how the performance changes if we use a **normal cross entropy loss**."
   ]
  },
  {
   "cell_type": "code",
   "execution_count": 32,
   "metadata": {
    "colab": {},
    "colab_type": "code",
    "id": "HdwfWdBd5AQz"
   },
   "outputs": [],
   "source": [
    "# loss function does not work with mnist (cause it is balanced)\n",
    "criterion = nn.CrossEntropyLoss()"
   ]
  },
  {
   "cell_type": "code",
   "execution_count": null,
   "metadata": {
    "colab": {},
    "colab_type": "code",
    "id": "Ge8zkmAa4i0b"
   },
   "outputs": [],
   "source": [
    "# number of loops over the dataset\n",
    "num_epochs = 5\n",
    "accuracy = []\n",
    "val_accuracy = []\n",
    "losses = []\n",
    "val_losses = []\n",
    "\n",
    "net_lossfunc = LeNet()\n",
    "net_lossfunc = net_lossfunc.to(device)\n",
    "optimizer = optim.Adam(net_lossfunc.parameters(), lr=1e-5)\n",
    "\n",
    "print(\"Started Training\")\n",
    "\n",
    "for epoch in tnrange(num_epochs):\n",
    "    running_loss = 0.0\n",
    "    correct_total= 0.0\n",
    "    num_samples_total=0.0\n",
    "    print(\"...\")\n",
    "    for i, data in tqdm_notebook(enumerate(train_data_loader)):\n",
    "        print(f\"Iteration: {i+1}/{len(train_data_loader)}\")\n",
    "        # get the inputs\n",
    "        inputs, labels = data\n",
    "        inputs, labels = inputs.to(device), labels.to(device)\n",
    "        # set the parameter gradients to zero\n",
    "        optimizer.zero_grad()\n",
    "\n",
    "        # forward + backward + optimize\n",
    "        outputs = net_lossfunc(inputs)\n",
    "        loss = criterion(outputs, labels)\n",
    "        loss.backward()\n",
    "        optimizer.step()\n",
    "        \n",
    "        #compute accuracy\n",
    "        _, predicted = torch.max(outputs, 1)\n",
    "        b_len, corr = get_num_correct(predicted, labels)\n",
    "        num_samples_total +=b_len\n",
    "        correct_total +=corr\n",
    "        running_loss += loss.item()\n",
    "\n",
    "    \n",
    "    running_loss /= len(train_data_loader)\n",
    "    train_accuracy = correct_total/num_samples_total\n",
    "    val_loss, val_acc = evaluate(net_lossfunc, validation_data_loader)\n",
    "    \n",
    "    print('Epoch: %d' %(epoch+1))\n",
    "    print('Loss: %.3f  Accuracy:%.3f' %(running_loss, train_accuracy))\n",
    "    print('Validation Loss: %.3f  Val Accuracy: %.3f' %(val_loss, val_acc))\n",
    "\n",
    "    losses.append(running_loss)\n",
    "    val_losses.append(val_loss)\n",
    "    accuracy.append(train_accuracy)\n",
    "    val_accuracy.append(val_acc)\n",
    "print('Finished Training')"
   ]
  },
  {
   "cell_type": "code",
   "execution_count": null,
   "metadata": {
    "colab": {},
    "colab_type": "code",
    "id": "l-jd5ne74jgv"
   },
   "outputs": [],
   "source": [
    "epoch = range(1, num_epochs+1)\n",
    "fig = plt.figure(figsize=(10, 15))\n",
    "plt.subplot(2,1,2)\n",
    "plt.plot(epoch, losses, label='Training loss')\n",
    "plt.plot(epoch, val_losses, label='Validation loss')\n",
    "plt.title('Training and Validation Loss')\n",
    "plt.xlabel('Epochs')\n",
    "plt.legend()\n",
    "plt.figure()\n",
    "plt.show()\n",
    "\n",
    "fig = plt.figure(figsize=(10, 15))\n",
    "plt.subplot(2,1,2)\n",
    "plt.plot(epoch, accuracy, label='Training accuracy')\n",
    "plt.plot(epoch, val_accuracy, label='Validation accuracy')\n",
    "plt.title('Training and Validation Accuracy')\n",
    "plt.xlabel('Epochs')\n",
    "plt.legend()\n",
    "plt.figure()\n",
    "plt.show()"
   ]
  },
  {
   "cell_type": "markdown",
   "metadata": {
    "colab_type": "text",
    "id": "ri_Xkb97FKh1"
   },
   "source": [
    "# Homework - Train a model which achieves 80% accuracy"
   ]
  },
  {
   "cell_type": "code",
   "execution_count": null,
   "metadata": {
    "colab": {},
    "colab_type": "code",
    "id": "gnbscZH78eCv"
   },
   "outputs": [],
   "source": []
  }
 ],
 "metadata": {
  "accelerator": "GPU",
  "colab": {
   "collapsed_sections": [],
   "name": "Exercise_8.ipynb",
   "provenance": []
  },
  "kernelspec": {
   "display_name": "Python 3",
   "language": "python",
   "name": "python3"
  },
  "language_info": {
   "codemirror_mode": {
    "name": "ipython",
    "version": 3
   },
   "file_extension": ".py",
   "mimetype": "text/x-python",
   "name": "python",
   "nbconvert_exporter": "python",
   "pygments_lexer": "ipython3",
   "version": "3.7.3"
  },
  "toc": {
   "base_numbering": 1,
   "nav_menu": {},
   "number_sections": true,
   "sideBar": true,
   "skip_h1_title": false,
   "title_cell": "Table of Contents",
   "title_sidebar": "Contents",
   "toc_cell": false,
   "toc_position": {},
   "toc_section_display": true,
   "toc_window_display": false
  }
 },
 "nbformat": 4,
 "nbformat_minor": 1
}
