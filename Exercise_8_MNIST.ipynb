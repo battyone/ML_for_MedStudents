{
 "cells": [
  {
   "cell_type": "markdown",
   "metadata": {
    "colab_type": "text",
    "id": "o5yOkGTUF6Kp"
   },
   "source": [
    "# Recap\n",
    "\n",
    "First we need access to data. \n",
    "- You can use this link to add the data to your drive: https://drive.google.com/drive/folders/1pHNxZVrlcKh5usWoNC_V7gR2WdeDutjv\n",
    "\n",
    "- Then go inside the folder **CS_for_MedStudents_data** and you will see the folder **HAM10000**.\n",
    "- Right click on the **HAM10000** folder and click on the **Add to my Drive** option.\n",
    "\n",
    "Now you can run the next cell"
   ]
  },
  {
   "cell_type": "code",
   "execution_count": null,
   "metadata": {
    "colab": {},
    "colab_type": "code",
    "id": "L4ugGnx7F6Kw"
   },
   "outputs": [],
   "source": []
  },
  {
   "cell_type": "code",
   "execution_count": 1,
   "metadata": {
    "colab": {},
    "colab_type": "code",
    "id": "rtwesOsZF6K6"
   },
   "outputs": [],
   "source": [
    "classes=[\"0\", \"1\", \"2\", \"3\", \"4\", \"5\", \"6\", \"7\", \"8\", \"9\"]"
   ]
  },
  {
   "cell_type": "code",
   "execution_count": 2,
   "metadata": {
    "colab": {},
    "colab_type": "code",
    "id": "HjF-Aq9BF6K_"
   },
   "outputs": [],
   "source": [
    "import torchvision.transforms as transforms\n",
    "\n",
    "# Imagenet values\n",
    "norm_mean = (0.4914, 0.4822, 0.4465)\n",
    "norm_std = (0.2023, 0.1994, 0.2010)\n",
    "\n",
    "# define the transformations the images go through each time it is used for training\n",
    "# includes augmentation AND normalization as described above\n",
    "augmentation_train = transforms.Compose([\n",
    "                                  # randomly perform a horizontal flip of the image\n",
    "                                  transforms.RandomHorizontalFlip(),\n",
    "                                  # rotate the image with a angle from 0 to 60 (chosen randomly)\n",
    "                                  transforms.RandomRotation(degrees=60),\n",
    "                                  # convert the image into a tensor so it can be processed by the GPU\n",
    "                                  transforms.ToTensor(),\n",
    "                                  # normalize the image with the mean and std of ImageNet\n",
    "                                   ])\n",
    "\n",
    "\n",
    "# no augmentation for the test data only resizing, conversion to tensor and normalization\n",
    "augmentation_test = transforms.Compose([\n",
    "                    transforms.ToTensor(),\n",
    "                    ])"
   ]
  },
  {
   "cell_type": "code",
   "execution_count": 3,
   "metadata": {
    "colab": {},
    "colab_type": "code",
    "id": "v194TjXLF6LH"
   },
   "outputs": [],
   "source": [
    "import torchvision\n",
    "toy_dataset_train = torchvision.datasets.MNIST(\".\", train=True, transform=augmentation_train, target_transform=None, download=True)\n",
    "toy_dataset_val = torchvision.datasets.MNIST(\".\", train=False, transform=augmentation_test, target_transform=None, download=True)\n",
    "\n",
    "\n"
   ]
  },
  {
   "cell_type": "code",
   "execution_count": 4,
   "metadata": {
    "colab": {},
    "colab_type": "code",
    "id": "dKLdUbv6t0Qs"
   },
   "outputs": [
    {
     "name": "stdout",
     "output_type": "stream",
     "text": [
      "60000\n"
     ]
    }
   ],
   "source": [
    "print(len(toy_dataset_train))\n",
    "from tqdm import tnrange, tqdm_notebook\n",
    "import matplotlib.pyplot as plt\n",
    "%matplotlib inline"
   ]
  },
  {
   "cell_type": "code",
   "execution_count": 5,
   "metadata": {
    "colab": {},
    "colab_type": "code",
    "id": "jB0u2jdsF6LK"
   },
   "outputs": [],
   "source": [
    "import torch\n",
    "from sklearn.model_selection import train_test_split\n",
    "\n",
    "# get the total amount of images in the dataset\n",
    "num_train = len(toy_dataset_train)\n",
    "\n",
    "# create a list of indices for the whole dataset\n",
    "indices = list(range(num_train))\n",
    "\n",
    "# get the class labels from the dataset object (0-6)\n",
    "class_labels = toy_dataset_train.targets\n"
   ]
  },
  {
   "cell_type": "code",
   "execution_count": null,
   "metadata": {
    "colab": {},
    "colab_type": "code",
    "id": "4LW-_scRF6LQ"
   },
   "outputs": [],
   "source": []
  },
  {
   "cell_type": "code",
   "execution_count": 6,
   "metadata": {
    "colab": {},
    "colab_type": "code",
    "id": "foGNkuwzF6LV"
   },
   "outputs": [
    {
     "name": "stdout",
     "output_type": "stream",
     "text": [
      "Running on: cuda\n"
     ]
    }
   ],
   "source": [
    "# Declare the network\n",
    "\n",
    "from torch import nn\n",
    "import torch.nn.functional as F\n",
    "from torchsummary import summary\n",
    "device = torch.device('cuda' if torch.cuda.is_available() else 'cpu')\n",
    "print(\"Running on:\",device)\n",
    "num_classes=10\n",
    "\n",
    "class OurNet(nn.Module):\n",
    "    def __init__(self):\n",
    "        super(OurNet, self).__init__()\n",
    "        self.conv1 = nn.Conv2d(1, 6, (5,5), padding=2)\n",
    "        self.conv2 = nn.Conv2d(6, 16, (3,3)) \n",
    "        self.fc1   = nn.Linear(16*13*13, 120)\n",
    "        self.fc2   = nn.Linear(120, num_classes)\n",
    "    def forward(self, x):\n",
    "        x = F.relu(self.conv1(x))\n",
    "        x = F.max_pool2d(F.relu(self.conv2(x)), (2,2))\n",
    "        x = x.view(-1, self.num_flat_features(x))\n",
    "        x = F.relu(self.fc1(x))\n",
    "        x = self.fc2(x)\n",
    "        return x\n",
    "    def num_flat_features(self, x):\n",
    "        size = x.size()[1:]\n",
    "        num_features = 1\n",
    "        for s in size:\n",
    "            num_features *= s\n",
    "        return num_features\n",
    "\n"
   ]
  },
  {
   "cell_type": "code",
   "execution_count": 7,
   "metadata": {},
   "outputs": [
    {
     "name": "stdout",
     "output_type": "stream",
     "text": [
      "----------------------------------------------------------------\n",
      "        Layer (type)               Output Shape         Param #\n",
      "================================================================\n",
      "            Conv2d-1            [-1, 6, 28, 28]             156\n",
      "            Conv2d-2           [-1, 16, 26, 26]             880\n",
      "            Linear-3                  [-1, 120]         324,600\n",
      "            Linear-4                   [-1, 10]           1,210\n",
      "================================================================\n",
      "Total params: 326,846\n",
      "Trainable params: 326,846\n",
      "Non-trainable params: 0\n",
      "----------------------------------------------------------------\n",
      "Input size (MB): 0.00\n",
      "Forward/backward pass size (MB): 0.12\n",
      "Params size (MB): 1.25\n",
      "Estimated Total Size (MB): 1.37\n",
      "----------------------------------------------------------------\n"
     ]
    }
   ],
   "source": [
    "net = OurNet()\n",
    "net = net.to(device)\n",
    "summary(net, input_size=(1, 28, 28))"
   ]
  },
  {
   "cell_type": "code",
   "execution_count": 8,
   "metadata": {
    "colab": {},
    "colab_type": "code",
    "id": "vCJn-DV5F6Lc"
   },
   "outputs": [
    {
     "name": "stdout",
     "output_type": "stream",
     "text": [
      "0 : 1.0021948336991389\n",
      "1 : 0.8804509047760308\n",
      "2 : 0.9963074857334676\n",
      "3 : 0.9681944217908988\n",
      "4 : 1.016090380006847\n",
      "5 : 1.0950009223390518\n",
      "6 : 1.0030415680973301\n",
      "7 : 0.9474860335195531\n",
      "8 : 1.0145274312083405\n",
      "9 : 0.9978147587829888\n"
     ]
    }
   ],
   "source": [
    "# Median Frequency Balancing\n",
    "\n",
    "import numpy as np\n",
    "\n",
    "# get the class labels of each image\n",
    "class_labels = toy_dataset_train.targets\n",
    "# empty array for counting instance of each class\n",
    "count_labels = np.zeros(len(classes))\n",
    "# empty array for weights of each class\n",
    "class_weights = np.zeros(len(classes))\n",
    "\n",
    "# populate the count array\n",
    "for l in class_labels:\n",
    "  count_labels[l] += 1\n",
    "\n",
    "# get median count\n",
    "median_freq = np.median(count_labels)\n",
    "\n",
    "# calculate the weigths\n",
    "for i in range(len(classes)):\n",
    "  class_weights[i] = median_freq/count_labels[i]\n",
    "\n",
    "# print the weights\n",
    "for i in range(len(classes)):\n",
    "    print(classes[i],\":\", class_weights[i])"
   ]
  },
  {
   "cell_type": "markdown",
   "metadata": {
    "colab_type": "text",
    "id": "4pPUGMq3NCnP"
   },
   "source": [
    "Now we define the loss function with the weights"
   ]
  },
  {
   "cell_type": "code",
   "execution_count": 9,
   "metadata": {
    "colab": {},
    "colab_type": "code",
    "id": "j-Q72RJ-M84P"
   },
   "outputs": [],
   "source": [
    "class_weights = torch.FloatTensor(class_weights).to(device)\n",
    "\n",
    "# loss function\n",
    "criterion = nn.CrossEntropyLoss(weight = class_weights)"
   ]
  },
  {
   "cell_type": "code",
   "execution_count": null,
   "metadata": {
    "colab": {},
    "colab_type": "code",
    "id": "pmMjYnCjF6Lk"
   },
   "outputs": [],
   "source": []
  },
  {
   "cell_type": "markdown",
   "metadata": {
    "colab_type": "text",
    "id": "VcGGs0Bk8eCU"
   },
   "source": [
    "# Evaluation functions\n",
    "\n",
    "Here we write a function which calculates the accuracy of model based on the validation dataset."
   ]
  },
  {
   "cell_type": "code",
   "execution_count": 10,
   "metadata": {
    "colab": {},
    "colab_type": "code",
    "id": "-tVHzZn78eCW"
   },
   "outputs": [],
   "source": [
    "from sklearn.metrics import accuracy_score\n",
    "\n",
    "def get_num_correct(predicted, labels):\n",
    "    '''\n",
    "    This function is used to decide if the predicted and ground truth classes are same or not.\n",
    "    args: \n",
    "    predicted = output of model\n",
    "    labels = true output\n",
    "    '''\n",
    "    batch_len, correct= 0, 0\n",
    "    batch_len = labels.size(0)\n",
    "    correct = (predicted == labels).sum().item()\n",
    "    # correct = [1,1,1,1,2,3,4,5] predicted = [1,2,1,1,,2,3,4,6]\n",
    "    return batch_len, correct\n",
    "\n",
    "def evaluate(model, val_loader):\n",
    "    '''\n",
    "    This function calculates the total accuracy of the model on the validation set.\n",
    "    args:\n",
    "    model = the network we want to evaluate\n",
    "    val_loader = the validation data loader\n",
    "    '''\n",
    "    losses= 0\n",
    "    num_samples_total=0\n",
    "    correct_total=0\n",
    "    model.eval()\n",
    "    for inputs, labels in val_loader:\n",
    "        inputs, labels = inputs.to(device), labels.to(device)\n",
    "        out = model(inputs)\n",
    "        _, predicted = torch.max(out, 1)\n",
    "        loss = criterion(out, labels)\n",
    "        losses += loss.item() \n",
    "        b_len, corr = get_num_correct(predicted, labels)\n",
    "        num_samples_total +=b_len\n",
    "        correct_total +=corr\n",
    "    accuracy = correct_total/num_samples_total\n",
    "    losses = losses/len(val_loader)\n",
    "    return losses, accuracy"
   ]
  },
  {
   "cell_type": "markdown",
   "metadata": {
    "colab_type": "text",
    "id": "2oGr-AfqF6Ln"
   },
   "source": [
    "# Training Loop"
   ]
  },
  {
   "cell_type": "code",
   "execution_count": 21,
   "metadata": {},
   "outputs": [
    {
     "data": {
      "text/plain": [
       "OurNet(\n",
       "  (conv1): Conv2d(1, 6, kernel_size=(5, 5), stride=(1, 1), padding=(2, 2))\n",
       "  (conv2): Conv2d(6, 16, kernel_size=(3, 3), stride=(1, 1))\n",
       "  (fc1): Linear(in_features=2704, out_features=120, bias=True)\n",
       "  (fc2): Linear(in_features=120, out_features=10, bias=True)\n",
       ")"
      ]
     },
     "execution_count": 21,
     "metadata": {},
     "output_type": "execute_result"
    }
   ],
   "source": [
    "\n",
    "def weight_init(m):\n",
    "    if isinstance(m, nn.Conv2d):\n",
    "        torch.nn.init.xavier_uniform_(m.weight.data)\n",
    "net.apply(weight_init)"
   ]
  },
  {
   "cell_type": "code",
   "execution_count": 22,
   "metadata": {
    "colab": {},
    "colab_type": "code",
    "id": "zyc3or5oF6Lo"
   },
   "outputs": [
    {
     "name": "stdout",
     "output_type": "stream",
     "text": [
      "Started Training\n",
      "Epoch: 1\n",
      "Train Loss: 0.000  Train Accuracy:0.000\n",
      "Validation Loss: 0.000  Val Accuracy: 0.000\n"
     ]
    },
    {
     "data": {
      "application/vnd.jupyter.widget-view+json": {
       "model_id": "8f8f2e243a35416b871f279b0028bde4",
       "version_major": 2,
       "version_minor": 0
      },
      "text/plain": [
       "HBox(children=(IntProgress(value=0, max=5), HTML(value='')))"
      ]
     },
     "metadata": {},
     "output_type": "display_data"
    },
    {
     "name": "stdout",
     "output_type": "stream",
     "text": [
      "...\n"
     ]
    },
    {
     "data": {
      "application/vnd.jupyter.widget-view+json": {
       "model_id": "a0399825acd34d8b9f3d654074c372bc",
       "version_major": 2,
       "version_minor": 0
      },
      "text/plain": [
       "HBox(children=(IntProgress(value=1, bar_style='info', max=1), HTML(value='')))"
      ]
     },
     "metadata": {},
     "output_type": "display_data"
    },
    {
     "name": "stdout",
     "output_type": "stream",
     "text": [
      "Iteration: 1/15\n",
      "Iteration: 3/15\n",
      "Iteration: 5/15\n",
      "Iteration: 7/15\n",
      "Iteration: 9/15\n",
      "Iteration: 11/15\n",
      "Iteration: 13/15\n",
      "Iteration: 15/15\n",
      "\n",
      "val_acc: 0.0\n",
      "Epoch: 1\n",
      "Train Loss: 1.814  Train Accuracy:0.451\n",
      "Validation Loss: 0.700  Val Accuracy: 0.777\n",
      "...\n"
     ]
    },
    {
     "data": {
      "application/vnd.jupyter.widget-view+json": {
       "model_id": "eb3f7c5a70394df581d0affe16eedb84",
       "version_major": 2,
       "version_minor": 0
      },
      "text/plain": [
       "HBox(children=(IntProgress(value=1, bar_style='info', max=1), HTML(value='')))"
      ]
     },
     "metadata": {},
     "output_type": "display_data"
    },
    {
     "name": "stdout",
     "output_type": "stream",
     "text": [
      "Iteration: 1/15\n",
      "Iteration: 3/15\n",
      "Iteration: 5/15\n",
      "Iteration: 7/15\n",
      "Iteration: 9/15\n",
      "Iteration: 11/15\n",
      "Iteration: 13/15\n",
      "Iteration: 15/15\n",
      "\n",
      "val_acc: 0.7771\n",
      "Epoch: 2\n",
      "Train Loss: 0.751  Train Accuracy:0.765\n",
      "Validation Loss: 0.502  Val Accuracy: 0.837\n",
      "...\n"
     ]
    },
    {
     "data": {
      "application/vnd.jupyter.widget-view+json": {
       "model_id": "3db97c9891244e4f9eddc02f427e3d26",
       "version_major": 2,
       "version_minor": 0
      },
      "text/plain": [
       "HBox(children=(IntProgress(value=1, bar_style='info', max=1), HTML(value='')))"
      ]
     },
     "metadata": {},
     "output_type": "display_data"
    },
    {
     "name": "stdout",
     "output_type": "stream",
     "text": [
      "Iteration: 1/15\n",
      "Iteration: 3/15\n",
      "Iteration: 5/15\n",
      "Iteration: 7/15\n",
      "Iteration: 9/15\n",
      "Iteration: 11/15\n",
      "Iteration: 13/15\n",
      "Iteration: 15/15\n",
      "\n",
      "val_acc: 0.8365\n",
      "Epoch: 3\n",
      "Train Loss: 0.515  Train Accuracy:0.840\n",
      "Validation Loss: 0.361  Val Accuracy: 0.886\n",
      "...\n"
     ]
    },
    {
     "data": {
      "application/vnd.jupyter.widget-view+json": {
       "model_id": "cc89525de70142b29e045625acdb6ee9",
       "version_major": 2,
       "version_minor": 0
      },
      "text/plain": [
       "HBox(children=(IntProgress(value=1, bar_style='info', max=1), HTML(value='')))"
      ]
     },
     "metadata": {},
     "output_type": "display_data"
    },
    {
     "name": "stdout",
     "output_type": "stream",
     "text": [
      "Iteration: 1/15\n",
      "Iteration: 3/15\n",
      "Iteration: 5/15\n",
      "Iteration: 7/15\n",
      "Iteration: 9/15\n",
      "Iteration: 11/15\n",
      "Iteration: 13/15\n",
      "Iteration: 15/15\n",
      "\n",
      "val_acc: 0.8857\n",
      "Epoch: 4\n",
      "Train Loss: 0.407  Train Accuracy:0.873\n",
      "Validation Loss: 0.307  Val Accuracy: 0.901\n",
      "...\n"
     ]
    },
    {
     "data": {
      "application/vnd.jupyter.widget-view+json": {
       "model_id": "915a42cec43541c4b55669fcf3fa0182",
       "version_major": 2,
       "version_minor": 0
      },
      "text/plain": [
       "HBox(children=(IntProgress(value=1, bar_style='info', max=1), HTML(value='')))"
      ]
     },
     "metadata": {},
     "output_type": "display_data"
    },
    {
     "name": "stdout",
     "output_type": "stream",
     "text": [
      "Iteration: 1/15\n",
      "Iteration: 3/15\n",
      "Iteration: 5/15\n",
      "Iteration: 7/15\n",
      "Iteration: 9/15\n",
      "Iteration: 11/15\n",
      "Iteration: 13/15\n",
      "Iteration: 15/15\n",
      "\n",
      "val_acc: 0.9011\n",
      "Epoch: 5\n",
      "Train Loss: 0.348  Train Accuracy:0.892\n",
      "Validation Loss: 0.245  Val Accuracy: 0.921\n",
      "\n",
      "Finished Training\n",
      "Time for training of 5 Epochs is 38s\n"
     ]
    }
   ],
   "source": [
    "# define the batch size for training, val and testing\n",
    "batch_size, validation_batch_size = 4096, 4096\n",
    "\n",
    "import datetime\n",
    "start_time = datetime.datetime.now()\n",
    "import torch.optim as optim\n",
    "optimizer = optim.Adam(net.parameters(), lr=1e-2)\n",
    "\n",
    "num_w = 0\n",
    "# create and instance of a dataloader for training\n",
    "train_data_loader = torch.utils.data.DataLoader(toy_dataset_train, batch_size=batch_size, shuffle=True,num_workers=num_w)\n",
    "validation_data_loader = torch.utils.data.DataLoader(toy_dataset_val, batch_size=validation_batch_size, shuffle=True,  num_workers=num_w)\n",
    "# number of loops over the dataset\n",
    "\n",
    "num_epochs = 5\n",
    "accuracy = []\n",
    "val_accuracy = []\n",
    "losses = []\n",
    "val_losses = []\n",
    "\n",
    "print(\"Started Training\")\n",
    "epoch = 0\n",
    "running_loss = 0.0\n",
    "correct_total= 0.0\n",
    "num_samples_total=0.0\n",
    "train_accuracy = 0.0\n",
    "val_acc=0.0\n",
    "val_loss = 0.0\n",
    "print('Epoch: %d' %(epoch+1))\n",
    "print('Train Loss: %.3f  Train Accuracy:%.3f' %(running_loss, train_accuracy))\n",
    "print('Validation Loss: %.3f  Val Accuracy: %.3f' %(val_loss, val_acc))\n",
    "\n",
    "for epoch in tnrange(num_epochs):\n",
    "    running_loss = 0.0\n",
    "    correct_total= 0.0\n",
    "    num_samples_total=0.0\n",
    "    \n",
    "    print(\"...\")\n",
    "    for i, data in tqdm_notebook(enumerate(train_data_loader)):\n",
    "        if i % 2 == 0:\n",
    "            print(f\"Iteration: {i+1}/{len(train_data_loader)}\")\n",
    "        # get the inputs\n",
    "        inputs, labels = data\n",
    "        inputs, labels = inputs.to(device), labels.to(device)\n",
    "        # set the parameter gradients to zero\n",
    "        optimizer.zero_grad()\n",
    "\n",
    "        # forward + backward + optimize\n",
    "        outputs = net(inputs)\n",
    "        loss = criterion(outputs, labels)\n",
    "        loss.backward()\n",
    "        optimizer.step()\n",
    "        \n",
    "        #compute accuracy\n",
    "        _, predicted = torch.max(outputs, 1)\n",
    "        b_len, corr = get_num_correct(predicted, labels)\n",
    "        num_samples_total +=b_len\n",
    "        correct_total +=corr\n",
    "        running_loss += loss.item()\n",
    "\n",
    "    \n",
    "    running_loss /= len(train_data_loader)\n",
    "    train_accuracy = correct_total/num_samples_total\n",
    "    print(f\"val_acc: {val_acc}\")\n",
    "    val_loss, val_acc = evaluate(net, validation_data_loader)\n",
    "    \n",
    "    print('Epoch: %d' %(epoch+1))\n",
    "    print('Train Loss: %.3f  Train Accuracy:%.3f' %(running_loss, train_accuracy))\n",
    "    print('Validation Loss: %.3f  Val Accuracy: %.3f' %(val_loss, val_acc))\n",
    "\n",
    "    losses.append(running_loss)\n",
    "    val_losses.append(val_loss)\n",
    "    accuracy.append(train_accuracy)\n",
    "    val_accuracy.append(val_acc)\n",
    "print('Finished Training')\n",
    "end_time = datetime.datetime.now()\n",
    "delta = end_time -start_time\n",
    "print(\"Time for training of {} Epochs is {}s\".format(num_epochs,delta.seconds))"
   ]
  },
  {
   "cell_type": "markdown",
   "metadata": {
    "colab_type": "text",
    "id": "yw_TaHF98eCf"
   },
   "source": [
    "# Train and Validation Curves\n",
    "\n",
    "To better understand whether our network is actually learning something, we plot the training and validation curves.\n",
    "\n",
    "There are two types of curves:\n",
    "- Loss Curves: Plotting the trend of the loss per epoch.\n",
    "- Accuracy Curves: Plotting accuracy, that is the performance of our model per epoch."
   ]
  },
  {
   "cell_type": "code",
   "execution_count": 23,
   "metadata": {
    "colab": {},
    "colab_type": "code",
    "id": "LwjnpkM5HDBO"
   },
   "outputs": [
    {
     "name": "stdout",
     "output_type": "stream",
     "text": [
      "5\n"
     ]
    },
    {
     "data": {
      "image/png": "[encoded data removed]",
      "text/plain": [
       "<Figure size 720x1080 with 1 Axes>"
      ]
     },
     "metadata": {
      "needs_background": "light"
     },
     "output_type": "display_data"
    },
    {
     "data": {
      "image/png": "[encoded data removed]",
      "text/plain": [
       "<Figure size 720x1080 with 1 Axes>"
      ]
     },
     "metadata": {
      "needs_background": "light"
     },
     "output_type": "display_data"
    }
   ],
   "source": [
    "from tqdm import tnrange, tqdm_notebook\n",
    "import matplotlib.pyplot as plt\n",
    "%matplotlib inline \n",
    "num_epochs=5\n",
    "print(num_epochs)\n",
    "epoch = range(1, num_epochs+1)\n",
    "fig = plt.figure(figsize=(10, 15))\n",
    "plt.subplot(2,1,2)\n",
    "plt.plot(epoch, losses, label='Training loss')\n",
    "plt.plot(epoch, val_losses, label='Validation loss')\n",
    "plt.title('Training and Validation Loss')\n",
    "plt.xlabel('Epochs')\n",
    "plt.legend()\n",
    "#plt.figure()\n",
    "plt.show()\n",
    "\n",
    "fig = plt.figure(figsize=(10, 15))\n",
    "plt.subplot(2,1,2)\n",
    "plt.plot(epoch, accuracy, label='Training accuracy')\n",
    "plt.plot(epoch, val_accuracy, label='Validation accuracy')\n",
    "plt.title('Training and Validation Accuracy')\n",
    "plt.xlabel('Epochs')\n",
    "plt.legend()\n",
    "#plt.figure()\n",
    "plt.show()\n",
    "\n",
    "### fix los scala\n"
   ]
  },
  {
   "cell_type": "markdown",
   "metadata": {
    "colab_type": "text",
    "id": "d_inKdz_9xzi"
   },
   "source": [
    "# Common Training Errors\n",
    "\n",
    "Let us look at some errors and how to detect them.\n",
    "\n"
   ]
  },
  {
   "cell_type": "code",
   "execution_count": 24,
   "metadata": {
    "colab": {},
    "colab_type": "code",
    "id": "aHvK074c--qT"
   },
   "outputs": [
    {
     "data": {
      "image/png": "[encoded data removed]",
      "text/plain": [
       "<Figure size 720x1080 with 1 Axes>"
      ]
     },
     "metadata": {
      "needs_background": "light"
     },
     "output_type": "display_data"
    },
    {
     "data": {
      "text/plain": [
       "<Figure size 432x288 with 0 Axes>"
      ]
     },
     "metadata": {},
     "output_type": "display_data"
    },
    {
     "data": {
      "image/png": "[encoded data removed]",
      "text/plain": [
       "<Figure size 720x1080 with 1 Axes>"
      ]
     },
     "metadata": {
      "needs_background": "light"
     },
     "output_type": "display_data"
    },
    {
     "data": {
      "text/plain": [
       "<Figure size 432x288 with 0 Axes>"
      ]
     },
     "metadata": {},
     "output_type": "display_data"
    },
    {
     "data": {
      "image/png": "[encoded data removed]",
      "text/plain": [
       "<Figure size 720x1080 with 1 Axes>"
      ]
     },
     "metadata": {
      "needs_background": "light"
     },
     "output_type": "display_data"
    },
    {
     "data": {
      "text/plain": [
       "<Figure size 432x288 with 0 Axes>"
      ]
     },
     "metadata": {},
     "output_type": "display_data"
    },
    {
     "data": {
      "image/png": "[encoded data removed]",
      "text/plain": [
       "<Figure size 720x1080 with 1 Axes>"
      ]
     },
     "metadata": {
      "needs_background": "light"
     },
     "output_type": "display_data"
    },
    {
     "data": {
      "text/plain": [
       "<Figure size 432x288 with 0 Axes>"
      ]
     },
     "metadata": {},
     "output_type": "display_data"
    }
   ],
   "source": [
    "# Rounding of the losses and accuracies to 2 decimal places.\n",
    "from tqdm import tnrange, tqdm_notebook\n",
    "import matplotlib.pyplot as plt\n",
    "%matplotlib inline \n",
    "n = 1 # round 2 places\n",
    "losses = [round(x,n) for x in losses]\n",
    "val_losses = [round(x,n) for x in val_losses]\n",
    "accuracy = [round(x,n) for x in accuracy]\n",
    "val_accuracy = [round(x,n) for x in val_accuracy]\n",
    "\n",
    "epoch = range(1, num_epochs+1)\n",
    "fig = plt.figure(figsize=(10, 15))\n",
    "plt.subplot(2,1,2)\n",
    "plt.plot(epoch, losses, label='Training loss')\n",
    "plt.title('Training Loss')\n",
    "plt.xlabel('Epochs')\n",
    "plt.legend()\n",
    "plt.figure()\n",
    "plt.show()\n",
    "\n",
    "fig = plt.figure(figsize=(10, 15))\n",
    "plt.subplot(2,1,2)\n",
    "plt.plot(epoch, val_losses, label='Validation loss')\n",
    "plt.title('Validation Loss')\n",
    "plt.xlabel('Epochs')\n",
    "plt.legend()\n",
    "plt.figure()\n",
    "plt.show()\n",
    "\n",
    "\n",
    "fig = plt.figure(figsize=(10, 15))\n",
    "plt.subplot(2,1,2)\n",
    "plt.plot(epoch, accuracy, label='Training accuracy')\n",
    "plt.title('Training Accuracy')\n",
    "plt.xlabel('Epochs')\n",
    "plt.legend()\n",
    "plt.figure()\n",
    "plt.show()\n",
    "\n",
    "fig = plt.figure(figsize=(10, 15))\n",
    "plt.subplot(2,1,2)\n",
    "plt.plot(epoch, val_accuracy, label='Validation accuracy')\n",
    "plt.title('Validation Accuracy')\n",
    "plt.xlabel('Epochs')\n",
    "plt.legend()\n",
    "plt.figure()\n",
    "plt.show()"
   ]
  },
  {
   "cell_type": "markdown",
   "metadata": {
    "colab_type": "text",
    "id": "oQoSUM41_IIC"
   },
   "source": [
    "## Data Scarcity\n",
    "\n",
    "We need enough data to learn a good model. Less data means less learning.\n",
    "\n",
    "Let's see how the performance is affected when we have less data.\n"
   ]
  },
  {
   "cell_type": "code",
   "execution_count": 25,
   "metadata": {},
   "outputs": [
    {
     "name": "stdout",
     "output_type": "stream",
     "text": [
      "Running on: cuda\n",
      "----------------------------------------------------------------\n",
      "        Layer (type)               Output Shape         Param #\n",
      "================================================================\n",
      "            Conv2d-1            [-1, 6, 28, 28]             156\n",
      "            Conv2d-2           [-1, 16, 30, 30]             880\n",
      "            Conv2d-3           [-1, 32, 13, 13]           4,640\n",
      "            Linear-4                 [-1, 1000]       5,409,000\n",
      "            Linear-5                  [-1, 120]         120,120\n",
      "            Linear-6                   [-1, 10]           1,210\n",
      "================================================================\n",
      "Total params: 5,536,006\n",
      "Trainable params: 5,536,006\n",
      "Non-trainable params: 0\n",
      "----------------------------------------------------------------\n",
      "Input size (MB): 0.00\n",
      "Forward/backward pass size (MB): 0.20\n",
      "Params size (MB): 21.12\n",
      "Estimated Total Size (MB): 21.32\n",
      "----------------------------------------------------------------\n"
     ]
    }
   ],
   "source": [
    "from torchsummary import summary\n",
    "device = torch.device('cuda' if torch.cuda.is_available() else 'cpu')\n",
    "print(\"Running on:\",device)\n",
    "class OurNetBig(nn.Module):\n",
    "    def __init__(self):\n",
    "        super(OurNetBig, self).__init__()\n",
    "        self.conv1 = nn.Conv2d(1, 6, (5,5), padding=2)\n",
    "        self.conv2 = nn.Conv2d(6, 16, (3,3), padding=2)\n",
    "        self.conv3 = nn.Conv2d(16, 32, (3,3)) \n",
    "        self.fc1   = nn.Linear(32*13*13, 1000)\n",
    "        self.fc2   = nn.Linear(1000, 120)\n",
    "        self.fc3   = nn.Linear(120, 10)\n",
    "    def forward(self, x):\n",
    "        x = F.relu(self.conv1(x))\n",
    "        x = F.max_pool2d(F.relu(self.conv2(x)), (2,2))\n",
    "        x = F.relu(self.conv3(x))\n",
    "        x = x.view(-1, self.num_flat_features(x))\n",
    "        x = F.relu(self.fc1(x))\n",
    "        x = F.relu(self.fc2(x))\n",
    "        x = self.fc3(x)\n",
    "        return x\n",
    "    def num_flat_features(self, x):\n",
    "        size = x.size()[1:]\n",
    "        num_features = 1\n",
    "        for s in size:\n",
    "            num_features *= s\n",
    "        return num_features\n",
    "net_data = OurNetBig()\n",
    "net_data = net_data.to(device)\n",
    "summary(net_data, input_size=(1,28,28))"
   ]
  },
  {
   "cell_type": "code",
   "execution_count": 45,
   "metadata": {
    "colab": {},
    "colab_type": "code",
    "id": "M1HSj_HeC0nn"
   },
   "outputs": [
    {
     "name": "stdout",
     "output_type": "stream",
     "text": [
      "small dataset size: 200 batch_size: 50 number of batches in dataloader: 4 \n"
     ]
    }
   ],
   "source": [
    "# we use the test data for training instead.\n",
    "from torch.utils.data import Subset\n",
    "batch_size = 50\n",
    "subset_size = 200\n",
    "\n",
    "length_dataset = [i for i in range(subset_size)]\n",
    "small_toy_dataset_train = Subset(toy_dataset_train,length_dataset)\n",
    "train_data_loader_small = torch.utils.data.DataLoader(small_toy_dataset_train, batch_size=batch_size, shuffle=True,num_workers=4)\n",
    "validation_data_loader = torch.utils.data.DataLoader(toy_dataset_val, batch_size=batch_size, shuffle=True,  num_workers=4)\n",
    "\n",
    "print(f\"small dataset size: {len(small_toy_dataset_train)} batch_size: {batch_size} number of batches in dataloader: {len(train_data_loader_small)} \")\n"
   ]
  },
  {
   "cell_type": "code",
   "execution_count": 46,
   "metadata": {},
   "outputs": [
    {
     "data": {
      "text/plain": [
       "OurNetBig(\n",
       "  (conv1): Conv2d(1, 6, kernel_size=(5, 5), stride=(1, 1), padding=(2, 2))\n",
       "  (conv2): Conv2d(6, 16, kernel_size=(3, 3), stride=(1, 1), padding=(2, 2))\n",
       "  (conv3): Conv2d(16, 32, kernel_size=(3, 3), stride=(1, 1))\n",
       "  (fc1): Linear(in_features=5408, out_features=1000, bias=True)\n",
       "  (fc2): Linear(in_features=1000, out_features=120, bias=True)\n",
       "  (fc3): Linear(in_features=120, out_features=10, bias=True)\n",
       ")"
      ]
     },
     "execution_count": 46,
     "metadata": {},
     "output_type": "execute_result"
    }
   ],
   "source": [
    "def weight_init(m):\n",
    "    if isinstance(m, nn.Conv2d):\n",
    "        torch.nn.init.xavier_uniform_(m.weight.data)\n",
    "net_data.apply(weight_init)"
   ]
  },
  {
   "cell_type": "code",
   "execution_count": 47,
   "metadata": {
    "colab": {},
    "colab_type": "code",
    "id": "Z3J_A9Iy_O1c"
   },
   "outputs": [
    {
     "name": "stdout",
     "output_type": "stream",
     "text": [
      "Epoch: 1\n",
      "Loss: 0.000  Accuracy:0.000\n",
      "Validation Loss: 0.000  Val Accuracy: 0.000\n",
      "OurNetBig(\n",
      "  (conv1): Conv2d(1, 6, kernel_size=(5, 5), stride=(1, 1), padding=(2, 2))\n",
      "  (conv2): Conv2d(6, 16, kernel_size=(3, 3), stride=(1, 1), padding=(2, 2))\n",
      "  (conv3): Conv2d(16, 32, kernel_size=(3, 3), stride=(1, 1))\n",
      "  (fc1): Linear(in_features=5408, out_features=1000, bias=True)\n",
      "  (fc2): Linear(in_features=1000, out_features=120, bias=True)\n",
      "  (fc3): Linear(in_features=120, out_features=10, bias=True)\n",
      ")\n",
      "Started Training\n"
     ]
    },
    {
     "data": {
      "application/vnd.jupyter.widget-view+json": {
       "model_id": "092b957ddcb044ac9bffd4a4c8358a94",
       "version_major": 2,
       "version_minor": 0
      },
      "text/plain": [
       "HBox(children=(IntProgress(value=0, max=25), HTML(value='')))"
      ]
     },
     "metadata": {},
     "output_type": "display_data"
    },
    {
     "data": {
      "application/vnd.jupyter.widget-view+json": {
       "model_id": "656ef4741dc34f198d197d310b17979d",
       "version_major": 2,
       "version_minor": 0
      },
      "text/plain": [
       "HBox(children=(IntProgress(value=1, bar_style='info', max=1), HTML(value='')))"
      ]
     },
     "metadata": {},
     "output_type": "display_data"
    },
    {
     "name": "stdout",
     "output_type": "stream",
     "text": [
      "\n",
      "Epoch: 1\n",
      "Loss: 2.251  Accuracy:0.230\n",
      "Validation Loss: 1.485  Val Accuracy: 0.512\n"
     ]
    },
    {
     "data": {
      "application/vnd.jupyter.widget-view+json": {
       "model_id": "8b5afe25c67d4df4af5b82eeb37af580",
       "version_major": 2,
       "version_minor": 0
      },
      "text/plain": [
       "HBox(children=(IntProgress(value=1, bar_style='info', max=1), HTML(value='')))"
      ]
     },
     "metadata": {},
     "output_type": "display_data"
    },
    {
     "name": "stdout",
     "output_type": "stream",
     "text": [
      "\n",
      "Epoch: 2\n",
      "Loss: 0.992  Accuracy:0.675\n",
      "Validation Loss: 1.200  Val Accuracy: 0.622\n"
     ]
    },
    {
     "data": {
      "application/vnd.jupyter.widget-view+json": {
       "model_id": "d3ef08ed85144ac9859c09057f24042c",
       "version_major": 2,
       "version_minor": 0
      },
      "text/plain": [
       "HBox(children=(IntProgress(value=1, bar_style='info', max=1), HTML(value='')))"
      ]
     },
     "metadata": {},
     "output_type": "display_data"
    },
    {
     "name": "stdout",
     "output_type": "stream",
     "text": [
      "\n",
      "Epoch: 3\n",
      "Loss: 0.659  Accuracy:0.745\n",
      "Validation Loss: 1.400  Val Accuracy: 0.633\n"
     ]
    },
    {
     "data": {
      "application/vnd.jupyter.widget-view+json": {
       "model_id": "1980d8009a304be69cc14960addc2c0e",
       "version_major": 2,
       "version_minor": 0
      },
      "text/plain": [
       "HBox(children=(IntProgress(value=1, bar_style='info', max=1), HTML(value='')))"
      ]
     },
     "metadata": {},
     "output_type": "display_data"
    },
    {
     "name": "stdout",
     "output_type": "stream",
     "text": [
      "\n",
      "Epoch: 4\n",
      "Loss: 0.722  Accuracy:0.750\n",
      "Validation Loss: 1.257  Val Accuracy: 0.626\n"
     ]
    },
    {
     "data": {
      "application/vnd.jupyter.widget-view+json": {
       "model_id": "34945b2148cb4fdebc7a5c4066c2e68a",
       "version_major": 2,
       "version_minor": 0
      },
      "text/plain": [
       "HBox(children=(IntProgress(value=1, bar_style='info', max=1), HTML(value='')))"
      ]
     },
     "metadata": {},
     "output_type": "display_data"
    },
    {
     "name": "stdout",
     "output_type": "stream",
     "text": [
      "\n",
      "Epoch: 5\n",
      "Loss: 0.622  Accuracy:0.785\n",
      "Validation Loss: 1.259  Val Accuracy: 0.639\n"
     ]
    },
    {
     "data": {
      "application/vnd.jupyter.widget-view+json": {
       "model_id": "692ff69c0f23493ebe45250282e018c1",
       "version_major": 2,
       "version_minor": 0
      },
      "text/plain": [
       "HBox(children=(IntProgress(value=1, bar_style='info', max=1), HTML(value='')))"
      ]
     },
     "metadata": {},
     "output_type": "display_data"
    },
    {
     "name": "stdout",
     "output_type": "stream",
     "text": [
      "\n",
      "Epoch: 6\n",
      "Loss: 0.512  Accuracy:0.805\n",
      "Validation Loss: 1.258  Val Accuracy: 0.629\n"
     ]
    },
    {
     "data": {
      "application/vnd.jupyter.widget-view+json": {
       "model_id": "5e14e06cbaa0444da5c369c7cc0597b7",
       "version_major": 2,
       "version_minor": 0
      },
      "text/plain": [
       "HBox(children=(IntProgress(value=1, bar_style='info', max=1), HTML(value='')))"
      ]
     },
     "metadata": {},
     "output_type": "display_data"
    },
    {
     "name": "stdout",
     "output_type": "stream",
     "text": [
      "\n",
      "Epoch: 7\n",
      "Loss: 0.566  Accuracy:0.820\n",
      "Validation Loss: 1.345  Val Accuracy: 0.648\n"
     ]
    },
    {
     "data": {
      "application/vnd.jupyter.widget-view+json": {
       "model_id": "5797f804e8004ad0a3774e4a4af47ce7",
       "version_major": 2,
       "version_minor": 0
      },
      "text/plain": [
       "HBox(children=(IntProgress(value=1, bar_style='info', max=1), HTML(value='')))"
      ]
     },
     "metadata": {},
     "output_type": "display_data"
    },
    {
     "name": "stdout",
     "output_type": "stream",
     "text": [
      "\n",
      "Epoch: 8\n",
      "Loss: 0.436  Accuracy:0.845\n",
      "Validation Loss: 1.308  Val Accuracy: 0.679\n"
     ]
    },
    {
     "data": {
      "application/vnd.jupyter.widget-view+json": {
       "model_id": "3426c722affa415caeecbb5ccb8c2e4a",
       "version_major": 2,
       "version_minor": 0
      },
      "text/plain": [
       "HBox(children=(IntProgress(value=1, bar_style='info', max=1), HTML(value='')))"
      ]
     },
     "metadata": {},
     "output_type": "display_data"
    },
    {
     "name": "stdout",
     "output_type": "stream",
     "text": [
      "\n",
      "Epoch: 9\n",
      "Loss: 0.463  Accuracy:0.855\n",
      "Validation Loss: 1.445  Val Accuracy: 0.659\n"
     ]
    },
    {
     "data": {
      "application/vnd.jupyter.widget-view+json": {
       "model_id": "2e441b8b318f46ed8b03e71876c1e149",
       "version_major": 2,
       "version_minor": 0
      },
      "text/plain": [
       "HBox(children=(IntProgress(value=1, bar_style='info', max=1), HTML(value='')))"
      ]
     },
     "metadata": {},
     "output_type": "display_data"
    },
    {
     "name": "stdout",
     "output_type": "stream",
     "text": [
      "\n",
      "Epoch: 10\n",
      "Loss: 0.465  Accuracy:0.835\n",
      "Validation Loss: 1.352  Val Accuracy: 0.671\n"
     ]
    },
    {
     "data": {
      "application/vnd.jupyter.widget-view+json": {
       "model_id": "afd4be7508bb48a0aa245c617dde065f",
       "version_major": 2,
       "version_minor": 0
      },
      "text/plain": [
       "HBox(children=(IntProgress(value=1, bar_style='info', max=1), HTML(value='')))"
      ]
     },
     "metadata": {},
     "output_type": "display_data"
    },
    {
     "name": "stdout",
     "output_type": "stream",
     "text": [
      "\n",
      "Epoch: 11\n",
      "Loss: 0.403  Accuracy:0.855\n",
      "Validation Loss: 1.307  Val Accuracy: 0.685\n"
     ]
    },
    {
     "data": {
      "application/vnd.jupyter.widget-view+json": {
       "model_id": "98ab6290e5f041dbb7ac466d1f325ee1",
       "version_major": 2,
       "version_minor": 0
      },
      "text/plain": [
       "HBox(children=(IntProgress(value=1, bar_style='info', max=1), HTML(value='')))"
      ]
     },
     "metadata": {},
     "output_type": "display_data"
    },
    {
     "name": "stdout",
     "output_type": "stream",
     "text": [
      "\n",
      "Epoch: 12\n",
      "Loss: 0.341  Accuracy:0.905\n",
      "Validation Loss: 1.482  Val Accuracy: 0.700\n"
     ]
    },
    {
     "data": {
      "application/vnd.jupyter.widget-view+json": {
       "model_id": "e596dc353d58407faccd256c9f281a47",
       "version_major": 2,
       "version_minor": 0
      },
      "text/plain": [
       "HBox(children=(IntProgress(value=1, bar_style='info', max=1), HTML(value='')))"
      ]
     },
     "metadata": {},
     "output_type": "display_data"
    },
    {
     "name": "stdout",
     "output_type": "stream",
     "text": [
      "\n",
      "Epoch: 13\n",
      "Loss: 0.428  Accuracy:0.850\n",
      "Validation Loss: 1.575  Val Accuracy: 0.688\n"
     ]
    },
    {
     "data": {
      "application/vnd.jupyter.widget-view+json": {
       "model_id": "ad13e8faf68e47d08b2941f24c0de0bf",
       "version_major": 2,
       "version_minor": 0
      },
      "text/plain": [
       "HBox(children=(IntProgress(value=1, bar_style='info', max=1), HTML(value='')))"
      ]
     },
     "metadata": {},
     "output_type": "display_data"
    },
    {
     "name": "stdout",
     "output_type": "stream",
     "text": [
      "\n",
      "Epoch: 14\n",
      "Loss: 0.340  Accuracy:0.870\n",
      "Validation Loss: 1.672  Val Accuracy: 0.693\n"
     ]
    },
    {
     "data": {
      "application/vnd.jupyter.widget-view+json": {
       "model_id": "99a327b829054cabaaa8bdf6b1c64a23",
       "version_major": 2,
       "version_minor": 0
      },
      "text/plain": [
       "HBox(children=(IntProgress(value=1, bar_style='info', max=1), HTML(value='')))"
      ]
     },
     "metadata": {},
     "output_type": "display_data"
    },
    {
     "name": "stdout",
     "output_type": "stream",
     "text": [
      "\n",
      "Epoch: 15\n",
      "Loss: 0.401  Accuracy:0.840\n",
      "Validation Loss: 1.429  Val Accuracy: 0.690\n"
     ]
    },
    {
     "data": {
      "application/vnd.jupyter.widget-view+json": {
       "model_id": "86921f108ea4485cb50a6bcaf88c956d",
       "version_major": 2,
       "version_minor": 0
      },
      "text/plain": [
       "HBox(children=(IntProgress(value=1, bar_style='info', max=1), HTML(value='')))"
      ]
     },
     "metadata": {},
     "output_type": "display_data"
    },
    {
     "name": "stdout",
     "output_type": "stream",
     "text": [
      "\n",
      "Epoch: 16\n",
      "Loss: 0.420  Accuracy:0.845\n",
      "Validation Loss: 1.281  Val Accuracy: 0.685\n"
     ]
    },
    {
     "data": {
      "application/vnd.jupyter.widget-view+json": {
       "model_id": "7967cf038713449bab9d2e394f339a05",
       "version_major": 2,
       "version_minor": 0
      },
      "text/plain": [
       "HBox(children=(IntProgress(value=1, bar_style='info', max=1), HTML(value='')))"
      ]
     },
     "metadata": {},
     "output_type": "display_data"
    },
    {
     "name": "stdout",
     "output_type": "stream",
     "text": [
      "\n",
      "Epoch: 17\n",
      "Loss: 0.386  Accuracy:0.865\n",
      "Validation Loss: 1.360  Val Accuracy: 0.694\n"
     ]
    },
    {
     "data": {
      "application/vnd.jupyter.widget-view+json": {
       "model_id": "4f964ebd86b6480d8633cf7446ef6eb4",
       "version_major": 2,
       "version_minor": 0
      },
      "text/plain": [
       "HBox(children=(IntProgress(value=1, bar_style='info', max=1), HTML(value='')))"
      ]
     },
     "metadata": {},
     "output_type": "display_data"
    },
    {
     "name": "stdout",
     "output_type": "stream",
     "text": [
      "\n",
      "Epoch: 18\n",
      "Loss: 0.346  Accuracy:0.890\n",
      "Validation Loss: 1.450  Val Accuracy: 0.683\n"
     ]
    },
    {
     "data": {
      "application/vnd.jupyter.widget-view+json": {
       "model_id": "6078844b1717495392d620c2c8804250",
       "version_major": 2,
       "version_minor": 0
      },
      "text/plain": [
       "HBox(children=(IntProgress(value=1, bar_style='info', max=1), HTML(value='')))"
      ]
     },
     "metadata": {},
     "output_type": "display_data"
    },
    {
     "name": "stdout",
     "output_type": "stream",
     "text": [
      "\n",
      "Epoch: 19\n",
      "Loss: 0.327  Accuracy:0.900\n",
      "Validation Loss: 1.335  Val Accuracy: 0.708\n"
     ]
    },
    {
     "data": {
      "application/vnd.jupyter.widget-view+json": {
       "model_id": "00bd9897fbf446acb64954e67edf46eb",
       "version_major": 2,
       "version_minor": 0
      },
      "text/plain": [
       "HBox(children=(IntProgress(value=1, bar_style='info', max=1), HTML(value='')))"
      ]
     },
     "metadata": {},
     "output_type": "display_data"
    },
    {
     "name": "stdout",
     "output_type": "stream",
     "text": [
      "\n",
      "Epoch: 20\n",
      "Loss: 0.320  Accuracy:0.890\n",
      "Validation Loss: 1.439  Val Accuracy: 0.724\n"
     ]
    },
    {
     "data": {
      "application/vnd.jupyter.widget-view+json": {
       "model_id": "b6bf6f532e79408f8d20a48f0898e4b6",
       "version_major": 2,
       "version_minor": 0
      },
      "text/plain": [
       "HBox(children=(IntProgress(value=1, bar_style='info', max=1), HTML(value='')))"
      ]
     },
     "metadata": {},
     "output_type": "display_data"
    },
    {
     "name": "stdout",
     "output_type": "stream",
     "text": [
      "\n",
      "Epoch: 21\n",
      "Loss: 0.291  Accuracy:0.895\n",
      "Validation Loss: 1.461  Val Accuracy: 0.701\n"
     ]
    },
    {
     "data": {
      "application/vnd.jupyter.widget-view+json": {
       "model_id": "c71d8c463bd249888ee4cc87584d1ccd",
       "version_major": 2,
       "version_minor": 0
      },
      "text/plain": [
       "HBox(children=(IntProgress(value=1, bar_style='info', max=1), HTML(value='')))"
      ]
     },
     "metadata": {},
     "output_type": "display_data"
    },
    {
     "name": "stdout",
     "output_type": "stream",
     "text": [
      "\n",
      "Epoch: 22\n",
      "Loss: 0.304  Accuracy:0.870\n",
      "Validation Loss: 1.351  Val Accuracy: 0.717\n"
     ]
    },
    {
     "data": {
      "application/vnd.jupyter.widget-view+json": {
       "model_id": "a3f06b1518384c1c8f9572e63a634c65",
       "version_major": 2,
       "version_minor": 0
      },
      "text/plain": [
       "HBox(children=(IntProgress(value=1, bar_style='info', max=1), HTML(value='')))"
      ]
     },
     "metadata": {},
     "output_type": "display_data"
    },
    {
     "name": "stdout",
     "output_type": "stream",
     "text": [
      "\n",
      "Epoch: 23\n",
      "Loss: 0.256  Accuracy:0.915\n",
      "Validation Loss: 1.320  Val Accuracy: 0.736\n"
     ]
    },
    {
     "data": {
      "application/vnd.jupyter.widget-view+json": {
       "model_id": "c4a09b1c9bbb4205841873ee30eb01f3",
       "version_major": 2,
       "version_minor": 0
      },
      "text/plain": [
       "HBox(children=(IntProgress(value=1, bar_style='info', max=1), HTML(value='')))"
      ]
     },
     "metadata": {},
     "output_type": "display_data"
    },
    {
     "name": "stdout",
     "output_type": "stream",
     "text": [
      "\n",
      "Epoch: 24\n",
      "Loss: 0.294  Accuracy:0.905\n",
      "Validation Loss: 1.418  Val Accuracy: 0.739\n"
     ]
    },
    {
     "data": {
      "application/vnd.jupyter.widget-view+json": {
       "model_id": "a529862b66a64659aae4571e6bbe78ff",
       "version_major": 2,
       "version_minor": 0
      },
      "text/plain": [
       "HBox(children=(IntProgress(value=1, bar_style='info', max=1), HTML(value='')))"
      ]
     },
     "metadata": {},
     "output_type": "display_data"
    },
    {
     "name": "stdout",
     "output_type": "stream",
     "text": [
      "\n",
      "Epoch: 25\n",
      "Loss: 0.269  Accuracy:0.905\n",
      "Validation Loss: 1.529  Val Accuracy: 0.712\n",
      "\n",
      "Finished Training\n"
     ]
    }
   ],
   "source": [
    "# number of loops over the dataset\n",
    "# optimizer\n",
    "import torch.optim as optim \n",
    "\n",
    "num_epochs = 25\n",
    "accuracy = []\n",
    "val_accuracy = []\n",
    "losses = []\n",
    "val_losses = []\n",
    "running_loss= 0.0\n",
    "train_accuracy = 0.0\n",
    "val_loss = 0.0\n",
    "val_acc = 0.0\n",
    "epoch=0\n",
    "\n",
    "print('Epoch: %d' %(epoch+1))\n",
    "print('Loss: %.3f  Accuracy:%.3f' %(running_loss, train_accuracy))\n",
    "print('Validation Loss: %.3f  Val Accuracy: %.3f' %(val_loss, val_acc))\n",
    "\n",
    "# intialize the network\n",
    "criterion = nn.CrossEntropyLoss()\n",
    "optimizer = optim.Adam(net_data.parameters(), lr=1e-2)\n",
    "print(net_data)\n",
    "print(\"Started Training\")\n",
    "\n",
    "for epoch in tnrange(num_epochs):\n",
    "    running_loss = 0.0\n",
    "    correct_total= 0.0\n",
    "    num_samples_total=0.0\n",
    "    for i, data in tqdm_notebook(enumerate(train_data_loader_small)):\n",
    "        #print(f\"Iteration: {i+1}/{len(train_data_loader_small)}\")\n",
    "        # get the inputs\n",
    "        inputs, labels = data\n",
    "        inputs, labels = inputs.to(device), labels.to(device)\n",
    "        # set the parameter gradients to zero\n",
    "        optimizer.zero_grad()\n",
    "\n",
    "        # forward + backward + optimize\n",
    "        outputs = net_data(inputs)\n",
    "        loss = criterion(outputs, labels)\n",
    "        loss.backward()\n",
    "        optimizer.step()\n",
    "        \n",
    "        #compute accuracy\n",
    "        _, predicted = torch.max(outputs, 1)\n",
    "        b_len, corr = get_num_correct(predicted, labels)\n",
    "        num_samples_total +=b_len\n",
    "        correct_total +=corr\n",
    "        running_loss += loss.item()\n",
    "\n",
    "    \n",
    "    running_loss /= len(train_data_loader_small)\n",
    "    train_accuracy = correct_total/num_samples_total\n",
    "    val_loss, val_acc = evaluate(net_data, validation_data_loader)\n",
    "    \n",
    "    print('Epoch: %d' %(epoch+1))\n",
    "    print('Loss: %.3f  Accuracy:%.3f' %(running_loss, train_accuracy))\n",
    "    print('Validation Loss: %.3f  Val Accuracy: %.3f' %(val_loss, val_acc))\n",
    "\n",
    "    losses.append(running_loss)\n",
    "    val_losses.append(val_loss)\n",
    "    accuracy.append(train_accuracy)\n",
    "    val_accuracy.append(val_acc)\n",
    "print('Finished Training')"
   ]
  },
  {
   "cell_type": "code",
   "execution_count": 49,
   "metadata": {
    "colab": {},
    "colab_type": "code",
    "id": "gqUlwE_C_O1o"
   },
   "outputs": [
    {
     "data": {
      "image/png": "[encoded data removed]",
      "text/plain": [
       "<Figure size 720x1080 with 1 Axes>"
      ]
     },
     "metadata": {
      "needs_background": "light"
     },
     "output_type": "display_data"
    },
    {
     "data": {
      "text/plain": [
       "<Figure size 432x288 with 0 Axes>"
      ]
     },
     "metadata": {},
     "output_type": "display_data"
    }
   ],
   "source": [
    "epoch = range(1, num_epochs+1)\n",
    "fig = plt.figure(figsize=(10, 15))\n",
    "plt.subplot(2,1,2)\n",
    "plt.plot(epoch, losses, label='Training loss')\n",
    "plt.plot(epoch, val_losses, label='Validation loss')\n",
    "plt.title('Training and Validation Loss')\n",
    "plt.xlabel('Epochs')\n",
    "plt.legend()\n",
    "plt.figure()\n",
    "plt.show()\n",
    "\n",
    "#fig = plt.figure(figsize=(10, 15))\n",
    "#plt.subplot(2,1,2)\n",
    "#plt.plot(epoch, accuracy, label='Training accuracy')\n",
    "#plt.plot(epoch, val_accuracy, label='Validation accuracy')\n",
    "#plt.title('Training and Validation Accuracy')\n",
    "#plt.xlabel('Epochs')\n",
    "#plt.legend()\n",
    "#plt.figure()\n",
    "#plt.show()\n"
   ]
  },
  {
   "cell_type": "markdown",
   "metadata": {
    "colab_type": "text",
    "id": "Uv0itQCNDFee"
   },
   "source": [
    "## Learning Rate\n"
   ]
  },
  {
   "cell_type": "code",
   "execution_count": 50,
   "metadata": {
    "colab": {},
    "colab_type": "code",
    "id": "DWm2mVDpE1C3"
   },
   "outputs": [],
   "source": [
    "net_lr = OurNet()\n",
    "net_lr = net_lr.to(device)\n",
    "\n",
    "# optimizer\n",
    "import torch.optim as optim\n",
    "\n",
    "optimizer_lr = optim.Adam(net_lr.parameters(), lr=10)"
   ]
  },
  {
   "cell_type": "code",
   "execution_count": 51,
   "metadata": {
    "colab": {},
    "colab_type": "code",
    "id": "kpTjIJfEDFek"
   },
   "outputs": [
    {
     "data": {
      "application/vnd.jupyter.widget-view+json": {
       "model_id": "cfd1b60bfe70459086886e27f2d95506",
       "version_major": 2,
       "version_minor": 0
      },
      "text/plain": [
       "HBox(children=(IntProgress(value=0, max=5), HTML(value='')))"
      ]
     },
     "metadata": {},
     "output_type": "display_data"
    },
    {
     "data": {
      "application/vnd.jupyter.widget-view+json": {
       "model_id": "b921fc9bdecb431cbf1a38f0a33d9ecd",
       "version_major": 2,
       "version_minor": 0
      },
      "text/plain": [
       "HBox(children=(IntProgress(value=1, bar_style='info', max=1), HTML(value='')))"
      ]
     },
     "metadata": {},
     "output_type": "display_data"
    },
    {
     "name": "stdout",
     "output_type": "stream",
     "text": [
      "Iteration: 1/15\n",
      "Iteration: 2/15\n",
      "Iteration: 3/15\n",
      "Iteration: 4/15\n",
      "Iteration: 5/15\n",
      "Iteration: 6/15\n",
      "Iteration: 7/15\n",
      "Iteration: 8/15\n",
      "Iteration: 9/15\n",
      "Iteration: 10/15\n",
      "Iteration: 11/15\n",
      "Iteration: 12/15\n",
      "Iteration: 13/15\n",
      "Iteration: 14/15\n",
      "Iteration: 15/15\n",
      "\n",
      "Epoch: 1\n",
      "Loss: 897257625.092  Accuracy:0.100\n",
      "Validation Loss: 56.091  Val Accuracy: 0.101\n"
     ]
    },
    {
     "data": {
      "application/vnd.jupyter.widget-view+json": {
       "model_id": "4cabe5a72cac47b8af9d69c7cef7d42a",
       "version_major": 2,
       "version_minor": 0
      },
      "text/plain": [
       "HBox(children=(IntProgress(value=1, bar_style='info', max=1), HTML(value='')))"
      ]
     },
     "metadata": {},
     "output_type": "display_data"
    },
    {
     "name": "stdout",
     "output_type": "stream",
     "text": [
      "Iteration: 1/15\n",
      "Iteration: 2/15\n",
      "Iteration: 3/15\n",
      "Iteration: 4/15\n",
      "Iteration: 5/15\n",
      "Iteration: 6/15\n",
      "Iteration: 7/15\n",
      "Iteration: 8/15\n",
      "Iteration: 9/15\n",
      "Iteration: 10/15\n",
      "Iteration: 11/15\n",
      "Iteration: 12/15\n",
      "Iteration: 13/15\n",
      "Iteration: 14/15\n",
      "Iteration: 15/15\n",
      "\n",
      "Epoch: 2\n",
      "Loss: 29.148  Accuracy:0.103\n",
      "Validation Loss: 14.726  Val Accuracy: 0.097\n"
     ]
    },
    {
     "data": {
      "application/vnd.jupyter.widget-view+json": {
       "model_id": "f6e1d0ab210d4429afc1fbb0714e1d88",
       "version_major": 2,
       "version_minor": 0
      },
      "text/plain": [
       "HBox(children=(IntProgress(value=1, bar_style='info', max=1), HTML(value='')))"
      ]
     },
     "metadata": {},
     "output_type": "display_data"
    },
    {
     "name": "stdout",
     "output_type": "stream",
     "text": [
      "Iteration: 1/15\n",
      "Iteration: 2/15\n",
      "Iteration: 3/15\n",
      "Iteration: 4/15\n",
      "Iteration: 5/15\n",
      "Iteration: 6/15\n",
      "Iteration: 7/15\n",
      "Iteration: 8/15\n",
      "Iteration: 9/15\n",
      "Iteration: 10/15\n",
      "Iteration: 11/15\n",
      "Iteration: 12/15\n",
      "Iteration: 13/15\n",
      "Iteration: 14/15\n",
      "Iteration: 15/15\n",
      "\n",
      "Epoch: 3\n",
      "Loss: 11.288  Accuracy:0.099\n",
      "Validation Loss: 8.048  Val Accuracy: 0.096\n"
     ]
    },
    {
     "data": {
      "application/vnd.jupyter.widget-view+json": {
       "model_id": "f101909984e84197a7c3e76b45a5fc18",
       "version_major": 2,
       "version_minor": 0
      },
      "text/plain": [
       "HBox(children=(IntProgress(value=1, bar_style='info', max=1), HTML(value='')))"
      ]
     },
     "metadata": {},
     "output_type": "display_data"
    },
    {
     "name": "stdout",
     "output_type": "stream",
     "text": [
      "Iteration: 1/15\n",
      "Iteration: 2/15\n",
      "Iteration: 3/15\n",
      "Iteration: 4/15\n",
      "Iteration: 5/15\n",
      "Iteration: 6/15\n",
      "Iteration: 7/15\n",
      "Iteration: 8/15\n",
      "Iteration: 9/15\n",
      "Iteration: 10/15\n",
      "Iteration: 11/15\n",
      "Iteration: 12/15\n",
      "Iteration: 13/15\n",
      "Iteration: 14/15\n",
      "Iteration: 15/15\n",
      "\n",
      "Epoch: 4\n",
      "Loss: 4.722  Accuracy:0.100\n",
      "Validation Loss: 3.333  Val Accuracy: 0.114\n"
     ]
    },
    {
     "data": {
      "application/vnd.jupyter.widget-view+json": {
       "model_id": "eaafee31f5194d5fb4a2a0a5ace1d920",
       "version_major": 2,
       "version_minor": 0
      },
      "text/plain": [
       "HBox(children=(IntProgress(value=1, bar_style='info', max=1), HTML(value='')))"
      ]
     },
     "metadata": {},
     "output_type": "display_data"
    },
    {
     "name": "stdout",
     "output_type": "stream",
     "text": [
      "Iteration: 1/15\n",
      "Iteration: 2/15\n",
      "Iteration: 3/15\n",
      "Iteration: 4/15\n",
      "Iteration: 5/15\n",
      "Iteration: 6/15\n",
      "Iteration: 7/15\n",
      "Iteration: 8/15\n",
      "Iteration: 9/15\n",
      "Iteration: 10/15\n",
      "Iteration: 11/15\n",
      "Iteration: 12/15\n",
      "Iteration: 13/15\n",
      "Iteration: 14/15\n",
      "Iteration: 15/15\n",
      "\n",
      "Epoch: 5\n",
      "Loss: 2.923  Accuracy:0.098\n",
      "Validation Loss: 2.610  Val Accuracy: 0.103\n",
      "\n",
      "Finished Training\n"
     ]
    }
   ],
   "source": [
    "# number of loops over the dataset\n",
    "num_epochs = 5\n",
    "accuracy = []\n",
    "val_accuracy = []\n",
    "losses = []\n",
    "val_losses = []\n",
    "\n",
    "for epoch in tnrange(num_epochs):\n",
    "    running_loss = 0.0\n",
    "    correct_total= 0.0\n",
    "    num_samples_total=0.0\n",
    "    for i, data in tqdm_notebook(enumerate(train_data_loader)):\n",
    "        print(f\"Iteration: {i+1}/{len(train_data_loader)}\")\n",
    "        # get the inputs\n",
    "        inputs, labels = data\n",
    "        inputs, labels = inputs.to(device), labels.to(device)\n",
    "        # set the parameter gradients to zero\n",
    "        optimizer_lr.zero_grad()\n",
    "\n",
    "        # forward + backward + optimize\n",
    "        outputs = net_lr(inputs)\n",
    "        loss = criterion(outputs, labels)\n",
    "        loss.backward()\n",
    "        optimizer_lr.step()\n",
    "        \n",
    "        #compute accuracy\n",
    "        _, predicted = torch.max(outputs, 1)\n",
    "        b_len, corr = get_num_correct(predicted, labels)\n",
    "        num_samples_total +=b_len\n",
    "        correct_total +=corr\n",
    "        running_loss += loss.item()\n",
    "\n",
    "    \n",
    "    running_loss /= len(train_data_loader)\n",
    "    train_accuracy = correct_total/num_samples_total\n",
    "    val_loss, val_acc = evaluate(net_lr, validation_data_loader)\n",
    "    \n",
    "    print('Epoch: %d' %(epoch+1))\n",
    "    print('Loss: %.3f  Accuracy:%.3f' %(running_loss, train_accuracy))\n",
    "    print('Validation Loss: %.3f  Val Accuracy: %.3f' %(val_loss, val_acc))\n",
    "\n",
    "    losses.append(running_loss)\n",
    "    val_losses.append(val_loss)\n",
    "    accuracy.append(train_accuracy)\n",
    "    val_accuracy.append(val_acc)\n",
    "print('Finished Training')"
   ]
  },
  {
   "cell_type": "code",
   "execution_count": 52,
   "metadata": {
    "colab": {},
    "colab_type": "code",
    "id": "Nimt5PfzDFex"
   },
   "outputs": [
    {
     "data": {
      "image/png": "[encoded data removed]",
      "text/plain": [
       "<Figure size 720x1080 with 1 Axes>"
      ]
     },
     "metadata": {
      "needs_background": "light"
     },
     "output_type": "display_data"
    },
    {
     "data": {
      "text/plain": [
       "<Figure size 432x288 with 0 Axes>"
      ]
     },
     "metadata": {},
     "output_type": "display_data"
    },
    {
     "data": {
      "image/png": "[encoded data removed]",
      "text/plain": [
       "<Figure size 720x1080 with 1 Axes>"
      ]
     },
     "metadata": {
      "needs_background": "light"
     },
     "output_type": "display_data"
    },
    {
     "data": {
      "text/plain": [
       "<Figure size 432x288 with 0 Axes>"
      ]
     },
     "metadata": {},
     "output_type": "display_data"
    }
   ],
   "source": [
    "epoch = range(1, num_epochs+1)\n",
    "fig = plt.figure(figsize=(10, 15))\n",
    "plt.subplot(2,1,2)\n",
    "plt.plot(epoch, losses, label='Training loss')\n",
    "plt.plot(epoch, val_losses, label='Validation loss')\n",
    "plt.title('Training and Validation Loss')\n",
    "plt.xlabel('Epochs')\n",
    "plt.legend()\n",
    "plt.figure()\n",
    "plt.show()\n",
    "\n",
    "fig = plt.figure(figsize=(10, 15))\n",
    "plt.subplot(2,1,2)\n",
    "plt.plot(epoch, accuracy, label='Training accuracy')\n",
    "plt.plot(epoch, val_accuracy, label='Validation accuracy')\n",
    "plt.title('Training and Validation Accuracy')\n",
    "plt.xlabel('Epochs')\n",
    "plt.legend()\n",
    "plt.figure()\n",
    "plt.show()\n"
   ]
  },
  {
   "cell_type": "markdown",
   "metadata": {
    "colab_type": "text",
    "id": "ri_Xkb97FKh1"
   },
   "source": [
    "# Homework - Train a model which achieves 80% accuracy"
   ]
  },
  {
   "cell_type": "code",
   "execution_count": null,
   "metadata": {
    "colab": {},
    "colab_type": "code",
    "id": "gnbscZH78eCv"
   },
   "outputs": [],
   "source": []
  }
 ],
 "metadata": {
  "accelerator": "GPU",
  "colab": {
   "collapsed_sections": [],
   "name": "Exercise_8.ipynb",
   "provenance": []
  },
  "kernelspec": {
   "display_name": "Python 3",
   "language": "python",
   "name": "python3"
  },
  "language_info": {
   "codemirror_mode": {
    "name": "ipython",
    "version": 3
   },
   "file_extension": ".py",
   "mimetype": "text/x-python",
   "name": "python",
   "nbconvert_exporter": "python",
   "pygments_lexer": "ipython3",
   "version": "3.7.3"
  },
  "toc": {
   "base_numbering": 1,
   "nav_menu": {},
   "number_sections": true,
   "sideBar": true,
   "skip_h1_title": false,
   "title_cell": "Table of Contents",
   "title_sidebar": "Contents",
   "toc_cell": false,
   "toc_position": {},
   "toc_section_display": true,
   "toc_window_display": false
  }
 },
 "nbformat": 4,
 "nbformat_minor": 1
}
