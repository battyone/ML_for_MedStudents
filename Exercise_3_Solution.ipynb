{
 "cells": [
  {
   "cell_type": "markdown",
   "metadata": {
    "colab_type": "text",
    "id": "Q__hwVrDS4LI"
   },
   "source": [
    "# Introduction\n",
    "\n",
    "This tutorial will teach you how to access real life data and understand it visually.\n",
    "\n",
    "For this article, we employ one of the data sets available in Munchen.de, containing information about Oktoberfest since 1985 until 2018. Although most of the years are not available (Oktoberfest started in 1810!), the data set provides valuable insights about how the festival evolved over the last 30 years.\n",
    "\n",
    "So, let's jump into it!"
   ]
  },
  {
   "cell_type": "markdown",
   "metadata": {
    "colab_type": "text",
    "id": "CSD3eMK0WtSq"
   },
   "source": [
    "# Libraries to Use\n",
    "\n",
    "To evaluate the dataset, we use three different Python libraries: Pandas, Matplotlib, and Plotly.\n",
    "\n",
    "- [Pandas](https://pandas.pydata.org/index.html) is a Python open source library for data science that allows us to easily work with structured data, such as **csv files, SQL tables, or Excel spreadsheets**. It provides tools for reading and writing data in different formats, carrying out exploratory analysis, and cleaning data (reshaping data sets, handling missing data, or merging data sets).\n",
    "\n",
    "- [Matplotlib](https://matplotlib.org/) is a Python 2D plotting library that can be used in Python scripts, Jupyter notebooks, and IPython shells, among other environments, producing high quality figures. Matplotlib offers a wide range of visualizations such as histograms, bar chart, scatter plots, box plots, or pie charts.\n",
    "\n",
    "- [Plotly Python](https://plot.ly/python/) graphing library provides as Matplotlib a wide range of visualizations. But, unlike Matplotlib the visualizations provided by Plotly are interactive and more intuitive. 😉\n",
    "After this overview about the libraries used in this analysis, we are ready to start the next step: exploratory data analysis and data cleaning.\n",
    "\n",
    "After this overview of the libraries used in this analysis, we ready to load the dataset."
   ]
  },
  {
   "cell_type": "markdown",
   "metadata": {
    "colab_type": "text",
    "id": "t5wWxAWGS4Gw"
   },
   "source": [
    "# Acquiring the data\n",
    "\n",
    "You don't need to search the Muenchen.de website for the data. \n",
    "\n",
    "We provide a link to the data in the form of a csv file here :\n",
    "https://drive.google.com/open?id=1pHNxZVrlcKh5usWoNC_V7gR2WdeDutjv\n",
    "\n",
    "Click on the shareable link and the CSV file will be shared with your personal google drive.\n",
    "\n"
   ]
  },
  {
   "cell_type": "markdown",
   "metadata": {
    "colab_type": "text",
    "id": "T3x1z1yTVQwK"
   },
   "source": [
    "Once you have the file in your drive, you need to upload it into Colaboratory.\n",
    "\n",
    "First, run the following code:"
   ]
  },
  {
   "cell_type": "code",
   "execution_count": 1,
   "metadata": {
    "colab": {},
    "colab_type": "code",
    "id": "ui_PGxHPKG_U"
   },
   "outputs": [
    {
     "ename": "ModuleNotFoundError",
     "evalue": "No module named 'google.colab'",
     "output_type": "error",
     "traceback": [
      "\u001b[0;31m---------------------------------------------------------------------------\u001b[0m",
      "\u001b[0;31mModuleNotFoundError\u001b[0m                       Traceback (most recent call last)",
      "\u001b[0;32m<ipython-input-1-b20233d9baad>\u001b[0m in \u001b[0;36m<module>\u001b[0;34m\u001b[0m\n\u001b[1;32m      5\u001b[0m \u001b[0;32mfrom\u001b[0m \u001b[0mpydrive\u001b[0m\u001b[0;34m.\u001b[0m\u001b[0mauth\u001b[0m \u001b[0;32mimport\u001b[0m \u001b[0mGoogleAuth\u001b[0m\u001b[0;34m\u001b[0m\u001b[0;34m\u001b[0m\u001b[0m\n\u001b[1;32m      6\u001b[0m \u001b[0;32mfrom\u001b[0m \u001b[0mpydrive\u001b[0m\u001b[0;34m.\u001b[0m\u001b[0mdrive\u001b[0m \u001b[0;32mimport\u001b[0m \u001b[0mGoogleDrive\u001b[0m\u001b[0;34m\u001b[0m\u001b[0;34m\u001b[0m\u001b[0m\n\u001b[0;32m----> 7\u001b[0;31m \u001b[0;32mfrom\u001b[0m \u001b[0mgoogle\u001b[0m\u001b[0;34m.\u001b[0m\u001b[0mcolab\u001b[0m \u001b[0;32mimport\u001b[0m \u001b[0mauth\u001b[0m\u001b[0;34m\u001b[0m\u001b[0;34m\u001b[0m\u001b[0m\n\u001b[0m\u001b[1;32m      8\u001b[0m \u001b[0;32mfrom\u001b[0m \u001b[0moauth2client\u001b[0m\u001b[0;34m.\u001b[0m\u001b[0mclient\u001b[0m \u001b[0;32mimport\u001b[0m \u001b[0mGoogleCredentials\u001b[0m\u001b[0;34m\u001b[0m\u001b[0;34m\u001b[0m\u001b[0m\n\u001b[1;32m      9\u001b[0m \u001b[0;31m# Authenticate and create the PyDrive client.\u001b[0m\u001b[0;34m\u001b[0m\u001b[0;34m\u001b[0m\u001b[0;34m\u001b[0m\u001b[0m\n",
      "\u001b[0;31mModuleNotFoundError\u001b[0m: No module named 'google.colab'"
     ]
    }
   ],
   "source": [
    "# Code to read csv file into Colaboratory:\n",
    "\n",
    "!pip install -U -q PyDrive\n",
    "\n",
    "from pydrive.auth import GoogleAuth\n",
    "from pydrive.drive import GoogleDrive\n",
    "from google.colab import auth\n",
    "from oauth2client.client import GoogleCredentials\n",
    "# Authenticate and create the PyDrive client.\n",
    "auth.authenticate_user()\n",
    "gauth = GoogleAuth()\n",
    "gauth.credentials = GoogleCredentials.get_application_default()\n",
    "drive = GoogleDrive(gauth)"
   ]
  },
  {
   "cell_type": "markdown",
   "metadata": {
    "colab_type": "text",
    "id": "cl3Ymx_CWK0n"
   },
   "source": [
    "When prompted, click on the link to get authentication to allow Google to access your Drive. You should see a screen with “Google Cloud SDK wants to access your Google Account” at the top. After you allow permission, copy the given verification code and paste it in the box in Colab.\n",
    "\n",
    "Once you have completed verification, go to the CSV file in Google Drive, right-click on it and select “Get shareable link”. The link will be copied into your clipboard. Paste this link into a string variable in Colab.\n"
   ]
  },
  {
   "cell_type": "code",
   "execution_count": null,
   "metadata": {
    "colab": {},
    "colab_type": "code",
    "id": "0y1X3i20MYMp"
   },
   "outputs": [],
   "source": [
    "link = \"https://drive.google.com/open?id=172BvQlBb2obmpS91f3kxNTNbzrkr97Na\" # The shareable link\n"
   ]
  },
  {
   "cell_type": "markdown",
   "metadata": {
    "colab_type": "text",
    "id": "g4UIXiriWaot"
   },
   "source": [
    "What you want is the id portion after the equal sign. To get that portion, type in the following code:"
   ]
  },
  {
   "cell_type": "code",
   "execution_count": null,
   "metadata": {
    "colab": {
     "base_uri": "https://localhost:8080/",
     "height": 34
    },
    "colab_type": "code",
    "id": "lIem0MFqWaRr",
    "outputId": "d5415aa5-82c7-41aa-d608-70ba07e974e7"
   },
   "outputs": [],
   "source": [
    "\n",
    "fluff, id = link.split('=')\n",
    "print (id) # Verify that you have everything after '='"
   ]
  },
  {
   "cell_type": "markdown",
   "metadata": {
    "colab_type": "text",
    "id": "wp0m-80jWgOb"
   },
   "source": [
    "Finally, type in the following code to get this file into a dataframe (Pandas)"
   ]
  },
  {
   "cell_type": "code",
   "execution_count": null,
   "metadata": {
    "colab": {},
    "colab_type": "code",
    "id": "le6JtH9zNTH8"
   },
   "outputs": [],
   "source": [
    "downloaded = drive.CreateFile({'id':id}) \n",
    "downloaded.GetContentFile('oktoberfestgesamt19852018.csv')  "
   ]
  },
  {
   "cell_type": "markdown",
   "metadata": {
    "colab_type": "text",
    "id": "AtEimWqvY4tx"
   },
   "source": [
    "We load the CSV data into a Pandas data frame using the [pandas.read_csv](https://pandas.pydata.org/pandas-docs/stable/reference/api/pandas.read_csv.html) function and visualize the first 5 rows using the [pandas.DataFrame.head](https://pandas.pydata.org/pandas-docs/stable/reference/api/pandas.DataFrame.head.html) method."
   ]
  },
  {
   "cell_type": "code",
   "execution_count": null,
   "metadata": {
    "colab": {
     "base_uri": "https://localhost:8080/",
     "height": 204
    },
    "colab_type": "code",
    "id": "GTp2mHx0YzmU",
    "outputId": "112d3174-f1c5-49c8-b59d-f78ae8f822c8"
   },
   "outputs": [],
   "source": [
    "import pandas as pd\n",
    "import matplotlib.pyplot as plt\n",
    "plt.style.use('ggplot')\n",
    "\n",
    "# Load data into a pandas dataframe\n",
    "df_oktoberfest = pd.read_csv('oktoberfestgesamt19852018.csv')\n",
    "\n",
    "# Print first 5 rows of the dataframe\n",
    "df_oktoberfest.head()"
   ]
  },
  {
   "cell_type": "markdown",
   "metadata": {
    "colab_type": "text",
    "id": "4KRjkk3dZS5h"
   },
   "source": [
    "The data set contains 8 columns: (1) year, (2) duration, (3) visitors in total, (4) visitors per day, (5) price of beer, (6) consumption of beer, (7) price of chicken, (8) consumption of chicken."
   ]
  },
  {
   "cell_type": "markdown",
   "metadata": {
    "colab_type": "text",
    "id": "xLwbXN1xnVKe"
   },
   "source": [
    "Let's try the [pandas.DataFrame.iloc](https://pandas.pydata.org/pandas-docs/stable/reference/api/pandas.DataFrame.iloc.html) function to view specific years. This function takes the index of each row as the argument, and outputs the corresponding row."
   ]
  },
  {
   "cell_type": "code",
   "execution_count": null,
   "metadata": {
    "colab": {
     "base_uri": "https://localhost:8080/",
     "height": 80
    },
    "colab_type": "code",
    "id": "OxjUJ-4mqppV",
    "outputId": "7012df0b-19b0-4a6b-80fa-6a30f48fded8"
   },
   "outputs": [],
   "source": [
    "df_oktoberfest.iloc[[0]]"
   ]
  },
  {
   "cell_type": "markdown",
   "metadata": {
    "colab_type": "text",
    "id": "eUVvEsd4q1_M"
   },
   "source": [
    "You can get multiple rows like this.\n"
   ]
  },
  {
   "cell_type": "code",
   "execution_count": null,
   "metadata": {
    "colab": {
     "base_uri": "https://localhost:8080/",
     "height": 142
    },
    "colab_type": "code",
    "id": "mgS-YOloq7Xo",
    "outputId": "0fb30ab3-24d1-4acc-d2c8-e5091264f024"
   },
   "outputs": [],
   "source": [
    "df_oktoberfest.iloc[[0,1,2]]"
   ]
  },
  {
   "cell_type": "markdown",
   "metadata": {
    "colab_type": "text",
    "id": "SaVpsCoUrABs"
   },
   "source": [
    "Now, let's try to do some data anlaysis. One of the biggest change in German economy was the conversion from Deutsche Mark to Euro. This was roughly around 1999 to 2000. Let's check the data from that years."
   ]
  },
  {
   "cell_type": "code",
   "execution_count": null,
   "metadata": {
    "colab": {
     "base_uri": "https://localhost:8080/",
     "height": 255
    },
    "colab_type": "code",
    "id": "UKBXlRlXnDLA",
    "outputId": "277f534a-f920-4f3c-e431-e6faccc8cb63"
   },
   "outputs": [],
   "source": [
    "df_oktoberfest.iloc[[12,13,14,15,16,17],:]"
   ]
  },
  {
   "cell_type": "markdown",
   "metadata": {
    "colab_type": "text",
    "id": "7SbycDNZn0id"
   },
   "source": [
    "From 1999 to 2000 there is a sudden increase in the beer and chicken price. This can be attributed to the conversion of Deutsche Mark to Euro as the official currency of Germany."
   ]
  },
  {
   "cell_type": "markdown",
   "metadata": {
    "colab_type": "text",
    "id": "8jGuWNCws9xt"
   },
   "source": [
    "We set year as the index of the data frame. To easily access the information of different years."
   ]
  },
  {
   "cell_type": "code",
   "execution_count": null,
   "metadata": {
    "colab": {
     "base_uri": "https://localhost:8080/",
     "height": 235
    },
    "colab_type": "code",
    "id": "5QStICAAaD9u",
    "outputId": "5ade1c02-d29b-4b9f-b7f6-694563d24803"
   },
   "outputs": [],
   "source": [
    "# Set year as the index of the data frame\n",
    "df_oktoberfest.set_index('jahr', inplace=True)\n",
    "\n",
    "\n",
    "# Print first 5 rows of the dataframe\n",
    "df_oktoberfest.head()"
   ]
  },
  {
   "cell_type": "markdown",
   "metadata": {
    "colab_type": "text",
    "id": "Qoj1o8YVrn7e"
   },
   "source": [
    "# Analysing the Data\n",
    "\n",
    "Exploratory data analysis allow us to get a feeling about the data set and to get the data set ready to easily draw conclusions using it.\n",
    "Let's try to answer some common questions.\n",
    "\n",
    "### How did beer price change over the last 33 years? Is there a tendency?"
   ]
  },
  {
   "cell_type": "code",
   "execution_count": null,
   "metadata": {
    "colab": {
     "base_uri": "https://localhost:8080/",
     "height": 565
    },
    "colab_type": "code",
    "id": "zTxKuQ4nsd2_",
    "outputId": "7e37093c-a179-4756-9977-26a502f5eb39"
   },
   "outputs": [],
   "source": [
    "# Plot beer price\n",
    "df_oktoberfest.plot(kind='line', y=['bier_preis'], figsize=(15,8), linewidth=3, fontsize=16)\n",
    "\n",
    "# Title, labels and legend\n",
    "plt.legend(labels=['Beer price'],fontsize=16)\n",
    "plt.xlabel('Year',fontsize=16)\n",
    "plt.ylabel('Price (Euro)',fontsize=16)\n",
    "plt.title('Evolution of prices from 1985 until 2018',fontsize=20)"
   ]
  },
  {
   "cell_type": "markdown",
   "metadata": {
    "colab_type": "text",
    "id": "66HRwWiQtg9w"
   },
   "source": [
    "As we can see from the plot, the price of beer have increased steadily from 1985 until 2018,\n",
    "Matter of fact, the price in 2018 is around three times more than in 1985."
   ]
  },
  {
   "cell_type": "markdown",
   "metadata": {
    "colab_type": "text",
    "id": "wETVrPWrt4h_"
   },
   "source": [
    "Try to answer the following question yourself.\n",
    "\n",
    "### How did chicken price change over the last 33 years? "
   ]
  },
  {
   "cell_type": "code",
   "execution_count": null,
   "metadata": {
    "colab": {
     "base_uri": "https://localhost:8080/",
     "height": 565
    },
    "colab_type": "code",
    "id": "Lb9R7SpjRUUW",
    "outputId": "008658d5-bf6f-46a6-ae39-42b27538afa0"
   },
   "outputs": [],
   "source": [
    "# Plot chicken price\n",
    "df_oktoberfest.plot(kind='line', y=['hendl_preis'], figsize=(15,8), linewidth=3, fontsize=16)\n",
    "\n",
    "# Title, labels and legend\n",
    "plt.legend(labels=['Chicken price'],fontsize=16)\n",
    "plt.xlabel('Year',fontsize=16)\n",
    "plt.ylabel('Price (Euro)',fontsize=16)\n",
    "plt.title('Evolution of prices from 1985 until 2018',fontsize=20)"
   ]
  },
  {
   "cell_type": "code",
   "execution_count": null,
   "metadata": {
    "colab": {
     "base_uri": "https://localhost:8080/",
     "height": 51
    },
    "colab_type": "code",
    "id": "Sdtb1NZIuMVR",
    "outputId": "8297841b-9896-44b4-e953-313f4004fbf7"
   },
   "outputs": [],
   "source": [
    "# Price of a beer and a chicken in 1985\n",
    "print(df_oktoberfest.loc[1985,['bier_preis','hendl_preis']].sum())\n",
    "\n",
    "\n",
    "# Price of a beer and a chicken in 2018\n",
    "print(df_oktoberfest.loc[2018,['bier_preis','hendl_preis']].sum())\n"
   ]
  },
  {
   "cell_type": "markdown",
   "metadata": {
    "colab_type": "text",
    "id": "mTFBbW69ull7"
   },
   "source": [
    "So, you can see that a person in 1985 could enjoy a meal at the Oktoberfest for only 7.97 euros. Three decades later, we need almost three times more money (22.97 euros) to enjoy a meal at the festival."
   ]
  },
  {
   "cell_type": "markdown",
   "metadata": {
    "colab_type": "text",
    "id": "-d4Imd3kvCXF"
   },
   "source": [
    "Here we visualize a interactive plot of the prices"
   ]
  },
  {
   "cell_type": "code",
   "execution_count": null,
   "metadata": {
    "colab": {
     "base_uri": "https://localhost:8080/",
     "height": 542
    },
    "colab_type": "code",
    "id": "mP3RedmxuYC4",
    "outputId": "ec4f5b1e-fef4-4a47-af82-f2eaf9ee6a67"
   },
   "outputs": [],
   "source": [
    "import plotly.graph_objects as go\n",
    "\n",
    "# Interactive plots of the price of beer and chicken\n",
    "year = df_oktoberfest.index\n",
    "beer_price = df_oktoberfest.bier_preis\n",
    "chicken_price = df_oktoberfest.hendl_preis\n",
    "\n",
    "fig = go.Figure()\n",
    "\n",
    "fig.add_trace(go.Scatter(x=year, y=chicken_price,\n",
    "                    mode='lines+markers',\n",
    "                    name='Chicken'))\n",
    "\n",
    "fig.add_trace(go.Scatter(x=year, y=beer_price,\n",
    "                    mode='lines+markers',\n",
    "                    name='Beer'))\n",
    "\n",
    "# Title, labels, and background\n",
    "fig.update_layout(title='Evolution of prices from 1985 until 2018',\n",
    "                   xaxis_title='Year',\n",
    "                   yaxis_title='Price (Euro)',\n",
    "                   plot_bgcolor='white')"
   ]
  },
  {
   "cell_type": "markdown",
   "metadata": {
    "colab_type": "text",
    "id": "m_9EdLMowUwJ"
   },
   "source": [
    "### Beer Consumption\n",
    "\n",
    "Let's take a look at the beer consumption over the years.\n",
    "\n"
   ]
  },
  {
   "cell_type": "code",
   "execution_count": null,
   "metadata": {
    "colab": {
     "base_uri": "https://localhost:8080/",
     "height": 633
    },
    "colab_type": "code",
    "id": "xmVvZ-NPvQXA",
    "outputId": "66edfda6-078c-49d6-b599-2e83f139c330"
   },
   "outputs": [],
   "source": [
    "# Plot beer consumption \n",
    "df_oktoberfest.plot(y='bier_konsum', figsize=(15,8), linewidth=3, fontsize=16, color='maroon', label='_nolegend_')\n",
    "\n",
    "# Years Landwirtschaftsfest\n",
    "years_landwirtschaftsfest = [1987, 1990, 1993, 1996, 2000, 2004, 2008, 2012, 2016]\n",
    "\n",
    "# Plot vertical line, indicating the celebration of the Landwirtschaftsfest. \n",
    "for year in years_landwirtschaftsfest:\n",
    "    plt.axvline(x=year, color='blue', alpha=0.3)\n",
    "\n",
    "\n",
    "# Annotations - celebration of the landwirtschaftsfest and terrorist attacks  \n",
    "plt.annotate('Vertical lines indicate the celebration of the Landwirtschaftsfest', xy=(2008, 75000), xytext=(1985, 79000), fontsize=15,\n",
    "            arrowprops=dict(facecolor='black', shrink=0.05),bbox = dict(boxstyle=\"round\", fc=\"w\",ec=\"maroon\"),\n",
    "            )\n",
    "plt.annotate('Terrorist attacks 9/11', xy=(2001, df_oktoberfest.loc[2001,'bier_konsum']), xytext=(2004, 52500), fontsize=15,\n",
    "            arrowprops=dict(facecolor='black', shrink=0.05),bbox = dict(boxstyle=\"round\", fc=\"w\",ec=\"maroon\"),\n",
    "            )\n",
    "plt.annotate('Terrorist attacks Paris and Nice', xy=(2016, df_oktoberfest.loc[2016,'bier_konsum']), xytext=(2005, 59000), fontsize=15,\n",
    "            arrowprops=dict(facecolor='black', shrink=0.05),bbox = dict(boxstyle=\"round\", fc=\"w\",ec=\"maroon\"),\n",
    "            )\n",
    "\n",
    "# Title and labels\n",
    "plt.xlabel('Year',fontsize=16)\n",
    "plt.ylabel('Bier consumption (Hectoliters)',fontsize=16)\n",
    "plt.title('Consumption of bier',fontsize=20)"
   ]
  },
  {
   "cell_type": "markdown",
   "metadata": {
    "colab_type": "text",
    "id": "X_7qbHTTw7A4"
   },
   "source": [
    "As we can observe, the consumption of beer presents a growing trend. The vertical lines indicate the years than the Oktoberfest coincided with the celebration of the Landswirtschaftsfest. This festival is celebrated every four years since 1996 (before every 3) at Theresienwiesen at the same time that Oktoberfest. We can see that small decreases in 2004, 2008, and 2012 could be related to the celebration of this festival.\n",
    "\n",
    "On the contrary, the significant decreases of consumption of beer in 2001 and 2016 could be related to the September 11 terrorist attacks in 2001, the November 2015 Paris terrorist attacks, and the 2016 Nice truck attack. The number of visitors decreased in those years (2001 and 2016), showing the lowest values since 1985.\n"
   ]
  },
  {
   "cell_type": "code",
   "execution_count": null,
   "metadata": {
    "colab": {
     "base_uri": "https://localhost:8080/",
     "height": 102
    },
    "colab_type": "code",
    "id": "F8W3azn4w_Jh",
    "outputId": "267ef2b7-7582-4ee0-f8f1-e53d205ea11f"
   },
   "outputs": [],
   "source": [
    "# Lowest number of visitors since 1985 in 2001,2016, and 1988. \n",
    "df_oktoberfest.besucher_gesamt.sort_values().head(3)"
   ]
  },
  {
   "cell_type": "markdown",
   "metadata": {
    "colab_type": "text",
    "id": "g1xCfUvrxSF0"
   },
   "source": [
    "### Chicken Consumption\n",
    "\n",
    "Now, you try the same for the chicken consumption and see for yourself if we have the same trend as the beer consumption.\n",
    "\n",
    "You would need to do only minor changes to the code of beer consumption."
   ]
  },
  {
   "cell_type": "code",
   "execution_count": null,
   "metadata": {
    "colab": {
     "base_uri": "https://localhost:8080/",
     "height": 633
    },
    "colab_type": "code",
    "id": "ZRtAMYqXxF48",
    "outputId": "5de58882-9d2c-44a0-d25d-9cae81fec421"
   },
   "outputs": [],
   "source": [
    "# Plot chicken consumption\n",
    "df_oktoberfest.plot(y='hendl_konsum', figsize=(15,8), linewidth=3, fontsize=16, color='darkblue', label='_nolegend_')\n",
    "\n",
    "# Years Landwirtschaftsfest\n",
    "years_landwirtschaftsfest = [1987, 1990, 1993, 1996, 2000, 2004, 2008, 2012, 2016]\n",
    "\n",
    "# Plot vertical line, indicating the celebration of the Landwirtschaftsfest. \n",
    "for year in years_landwirtschaftsfest:\n",
    "    plt.axvline(x=year, color='blue', alpha=0.3)\n",
    "\n",
    "\n",
    "# Annotations - terrorist attacks of September 11, Paris and Nice\n",
    "plt.annotate('Terrorist attacks 9/11', xy=(2001, df_oktoberfest.loc[2001,'hendl_konsum']), xytext=(1991, 400000), fontsize=15,\n",
    "            arrowprops=dict(facecolor='black', shrink=0.05),bbox = dict(boxstyle=\"round\", fc=\"w\",ec=\"darkblue\"),\n",
    "            )\n",
    "plt.annotate('Terrorist attacks Paris and Nice', xy=(2016, df_oktoberfest.loc[2016,'hendl_konsum']), xytext=(2003, 400000), fontsize=15,\n",
    "            arrowprops=dict(facecolor='black', shrink=0.05),bbox = dict(boxstyle=\"round\", fc=\"w\",ec=\"darkblue\"),\n",
    "            )\n",
    "\n",
    "# Title and labels\n",
    "plt.xlabel('Year',fontsize=16)\n",
    "plt.ylabel('Chicken consumption (Units)',fontsize=16)\n",
    "plt.title('Consumption of chicken',fontsize=20)"
   ]
  },
  {
   "cell_type": "markdown",
   "metadata": {
    "colab_type": "text",
    "id": "6jYROpCEx_rQ"
   },
   "source": [
    "### Number of Visitors\n",
    "\n",
    "Finally let's take a look at the total number of visitors from 1985 to 2018."
   ]
  },
  {
   "cell_type": "code",
   "execution_count": null,
   "metadata": {
    "colab": {
     "base_uri": "https://localhost:8080/",
     "height": 633
    },
    "colab_type": "code",
    "id": "RSztNv9e0pPq",
    "outputId": "66ce3fea-ee96-42c0-8aae-bb7f2b9f6b47"
   },
   "outputs": [],
   "source": [
    "# Plot total number of visitors\n",
    "df_oktoberfest.plot(y='besucher_gesamt', figsize=(13,8), marker='o', linewidth=2, fontsize=16, color='darkblue', label='_nolegend_')\n",
    "\n",
    "\n",
    "# Title and labels\n",
    "plt.xlabel('Year',fontsize=16)\n",
    "plt.ylabel('Number of visitors (Milions)',fontsize=16)\n",
    "plt.title('Total number of visitors',fontsize=20)"
   ]
  },
  {
   "cell_type": "markdown",
   "metadata": {
    "colab_type": "text",
    "id": "wK0j33HS5iGT"
   },
   "source": [
    "We can easily analyze the number of visitors by using the above plot. As we can observe, the number of visitors does not follow any trend, ranging from 5.5 to 7.1. So, the consumption of beer is not increasing because the festival has more visitors, but because the people drink more. \n"
   ]
  },
  {
   "cell_type": "markdown",
   "metadata": {
    "colab_type": "text",
    "id": "G8MkDA8H1tVr"
   },
   "source": [
    "# References\n",
    "- https://towardsdatascience.com/oktoberfest-quick-analysis-using-pandas-matplotlib-and-plotly-79778367a4c\n",
    "- https://www.muenchen.de/\n",
    "- https://pandas.pydata.org/index.html\n",
    "- https://matplotlib.org/\n",
    "- https://plot.ly/python/"
   ]
  },
  {
   "cell_type": "code",
   "execution_count": null,
   "metadata": {
    "colab": {},
    "colab_type": "code",
    "id": "Qb3EpkBE15lo"
   },
   "outputs": [],
   "source": []
  }
 ],
 "metadata": {
  "colab": {
   "collapsed_sections": [],
   "name": "Exercise_3_Solution.ipynb",
   "provenance": []
  },
  "kernelspec": {
   "display_name": "Python 3",
   "language": "python",
   "name": "python3"
  },
  "language_info": {
   "codemirror_mode": {
    "name": "ipython",
    "version": 3
   },
   "file_extension": ".py",
   "mimetype": "text/x-python",
   "name": "python",
   "nbconvert_exporter": "python",
   "pygments_lexer": "ipython3",
   "version": "3.6.8"
  },
  "toc": {
   "base_numbering": 1,
   "nav_menu": {},
   "number_sections": true,
   "sideBar": true,
   "skip_h1_title": false,
   "title_cell": "Table of Contents",
   "title_sidebar": "Contents",
   "toc_cell": false,
   "toc_position": {},
   "toc_section_display": true,
   "toc_window_display": false
  }
 },
 "nbformat": 4,
 "nbformat_minor": 1
}
